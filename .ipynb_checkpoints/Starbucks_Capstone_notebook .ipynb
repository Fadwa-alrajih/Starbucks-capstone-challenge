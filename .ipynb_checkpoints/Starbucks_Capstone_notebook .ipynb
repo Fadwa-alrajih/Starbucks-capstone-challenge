{
 "cells": [
  {
   "cell_type": "markdown",
   "metadata": {},
   "source": [
    "# Starbucks Capstone Challenge\n",
    "\n",
    "### Introduction\n",
    "\n",
    "This data set contains simulated data that mimics customer behavior on the Starbucks rewards mobile app. Once every few days, Starbucks sends out an offer to users of the mobile app. An offer can be merely an advertisement for a drink or an actual offer such as a discount or BOGO (buy one get one free). Some users might not receive any offer during certain weeks. \n",
    "\n",
    "Not all users receive the same offer, and that is the challenge to solve with this data set.\n",
    "\n",
    "Your task is to combine transaction, demographic and offer data to determine which demographic groups respond best to which offer type. This data set is a simplified version of the real Starbucks app because the underlying simulator only has one product whereas Starbucks actually sells dozens of products.\n",
    "\n",
    "Every offer has a validity period before the offer expires. As an example, a BOGO offer might be valid for only 5 days. You'll see in the data set that informational offers have a validity period even though these ads are merely providing information about a product; for example, if an informational offer has 7 days of validity, you can assume the customer is feeling the influence of the offer for 7 days after receiving the advertisement.\n",
    "\n",
    "You'll be given transactional data showing user purchases made on the app including the timestamp of purchase and the amount of money spent on a purchase. This transactional data also has a record for each offer that a user receives as well as a record for when a user actually views the offer. There are also records for when a user completes an offer. \n",
    "\n",
    "Keep in mind as well that someone using the app might make a purchase through the app without having received an offer or seen an offer.\n",
    "\n",
    "### Example\n",
    "\n",
    "To give an example, a user could receive a discount offer buy 10 dollars get 2 off on Monday. The offer is valid for 10 days from receipt. If the customer accumulates at least 10 dollars in purchases during the validity period, the customer completes the offer.\n",
    "\n",
    "However, there are a few things to watch out for in this data set. Customers do not opt into the offers that they receive; in other words, a user can receive an offer, never actually view the offer, and still complete the offer. For example, a user might receive the \"buy 10 dollars get 2 dollars off offer\", but the user never opens the offer during the 10 day validity period. The customer spends 15 dollars during those ten days. There will be an offer completion record in the data set; however, the customer was not influenced by the offer because the customer never viewed the offer.\n",
    "\n",
    "### Cleaning\n",
    "\n",
    "This makes data cleaning especially important and tricky.\n",
    "\n",
    "You'll also want to take into account that some demographic groups will make purchases even if they don't receive an offer. From a business perspective, if a customer is going to make a 10 dollar purchase without an offer anyway, you wouldn't want to send a buy 10 dollars get 2 dollars off offer. You'll want to try to assess what a certain demographic group will buy when not receiving any offers.\n",
    "\n",
    "### Final Advice\n",
    "\n",
    "Because this is a capstone project, you are free to analyze the data any way you see fit. For example, you could build a machine learning model that predicts how much someone will spend based on demographics and offer type. Or you could build a model that predicts whether or not someone will respond to an offer. Or, you don't need to build a machine learning model at all. You could develop a set of heuristics that determine what offer you should send to each customer (i.e., 75 percent of women customers who were 35 years old responded to offer A vs 40 percent from the same demographic to offer B, so send offer A)."
   ]
  },
  {
   "cell_type": "markdown",
   "metadata": {},
   "source": [
    "# Data Sets\n",
    "\n",
    "The data is contained in three files:\n",
    "\n",
    "* portfolio.json - containing offer ids and meta data about each offer (duration, type, etc.)\n",
    "* profile.json - demographic data for each customer\n",
    "* transcript.json - records for transactions, offers received, offers viewed, and offers completed\n",
    "\n",
    "Here is the schema and explanation of each variable in the files:\n",
    "\n",
    "**portfolio.json**\n",
    "* id (string) - offer id\n",
    "* offer_type (string) - type of offer ie BOGO, discount, informational\n",
    "* difficulty (int) - minimum required spend to complete an offer\n",
    "* reward (int) - reward given for completing an offer\n",
    "* duration (int) - time for offer to be open, in days\n",
    "* channels (list of strings)\n",
    "\n",
    "**profile.json**\n",
    "* age (int) - age of the customer \n",
    "* became_member_on (int) - date when customer created an app account\n",
    "* gender (str) - gender of the customer (note some entries contain 'O' for other rather than M or F)\n",
    "* id (str) - customer id\n",
    "* income (float) - customer's income\n",
    "\n",
    "**transcript.json**\n",
    "* event (str) - record description (ie transaction, offer received, offer viewed, etc.)\n",
    "* person (str) - customer id\n",
    "* time (int) - time in hours since start of test. The data begins at time t=0\n",
    "* value - (dict of strings) - either an offer id or transaction amount depending on the record\n",
    "\n",
    "**Note:** If you are using the workspace, you will need to go to the terminal and run the command `conda update pandas` before reading in the files. This is because the version of pandas in the workspace cannot read in the transcript.json file correctly, but the newest version of pandas can. You can access the termnal from the orange icon in the top left of this notebook.  \n",
    "\n",
    "You can see how to access the terminal and how the install works using the two images below.  First you need to access the terminal:\n",
    "\n",
    "<img src=\"pic1.png\"/>\n",
    "\n",
    "Then you will want to run the above command:\n",
    "\n",
    "<img src=\"pic2.png\"/>\n",
    "\n",
    "Finally, when you enter back into the notebook (use the jupyter icon again), you should be able to run the below cell without any errors."
   ]
  },
  {
   "cell_type": "code",
   "execution_count": 53,
   "metadata": {},
   "outputs": [],
   "source": [
    "# Import the librararies in Python required for this project \n",
    "import pandas as pd\n",
    "import numpy as np\n",
    "import seaborn as sns\n",
    "import math\n",
    "import json\n",
    "import datetime\n",
    "import matplotlib.pyplot as plt \n",
    "\n",
    "from sklearn.preprocessing import MinMaxScaler\n",
    "from sklearn.model_selection import train_test_split, GridSearchCV\n",
    "from sklearn.svm import SVC\n",
    "from sklearn.tree import DecisionTreeClassifier\n",
    "from sklearn.naive_bayes import GaussianNB \n",
    "from sklearn.neighbors import KNeighborsClassifier\n",
    "from sklearn.linear_model import LogisticRegression\n",
    "from sklearn.ensemble import RandomForestRegressor\n",
    "\n",
    "%matplotlib inline"
   ]
  },
  {
   "cell_type": "code",
   "execution_count": 54,
   "metadata": {},
   "outputs": [],
   "source": [
    "# 1.READ THE DATA AND CLEANING- PORTFOLIO.JSON"
   ]
  },
  {
   "cell_type": "code",
   "execution_count": 55,
   "metadata": {},
   "outputs": [],
   "source": [
    "#Read portfolio.json\n",
    "portfolio = pd.read_json('data/portfolio.json', orient='records', lines=True)"
   ]
  },
  {
   "cell_type": "code",
   "execution_count": 56,
   "metadata": {
    "scrolled": true
   },
   "outputs": [
    {
     "data": {
      "text/html": [
       "<div>\n",
       "<style scoped>\n",
       "    .dataframe tbody tr th:only-of-type {\n",
       "        vertical-align: middle;\n",
       "    }\n",
       "\n",
       "    .dataframe tbody tr th {\n",
       "        vertical-align: top;\n",
       "    }\n",
       "\n",
       "    .dataframe thead th {\n",
       "        text-align: right;\n",
       "    }\n",
       "</style>\n",
       "<table border=\"1\" class=\"dataframe\">\n",
       "  <thead>\n",
       "    <tr style=\"text-align: right;\">\n",
       "      <th></th>\n",
       "      <th>channels</th>\n",
       "      <th>difficulty</th>\n",
       "      <th>duration</th>\n",
       "      <th>id</th>\n",
       "      <th>offer_type</th>\n",
       "      <th>reward</th>\n",
       "    </tr>\n",
       "  </thead>\n",
       "  <tbody>\n",
       "    <tr>\n",
       "      <th>0</th>\n",
       "      <td>[email, mobile, social]</td>\n",
       "      <td>10</td>\n",
       "      <td>7</td>\n",
       "      <td>ae264e3637204a6fb9bb56bc8210ddfd</td>\n",
       "      <td>bogo</td>\n",
       "      <td>10</td>\n",
       "    </tr>\n",
       "    <tr>\n",
       "      <th>1</th>\n",
       "      <td>[web, email, mobile, social]</td>\n",
       "      <td>10</td>\n",
       "      <td>5</td>\n",
       "      <td>4d5c57ea9a6940dd891ad53e9dbe8da0</td>\n",
       "      <td>bogo</td>\n",
       "      <td>10</td>\n",
       "    </tr>\n",
       "    <tr>\n",
       "      <th>2</th>\n",
       "      <td>[web, email, mobile]</td>\n",
       "      <td>0</td>\n",
       "      <td>4</td>\n",
       "      <td>3f207df678b143eea3cee63160fa8bed</td>\n",
       "      <td>informational</td>\n",
       "      <td>0</td>\n",
       "    </tr>\n",
       "    <tr>\n",
       "      <th>3</th>\n",
       "      <td>[web, email, mobile]</td>\n",
       "      <td>5</td>\n",
       "      <td>7</td>\n",
       "      <td>9b98b8c7a33c4b65b9aebfe6a799e6d9</td>\n",
       "      <td>bogo</td>\n",
       "      <td>5</td>\n",
       "    </tr>\n",
       "    <tr>\n",
       "      <th>4</th>\n",
       "      <td>[web, email]</td>\n",
       "      <td>20</td>\n",
       "      <td>10</td>\n",
       "      <td>0b1e1539f2cc45b7b9fa7c272da2e1d7</td>\n",
       "      <td>discount</td>\n",
       "      <td>5</td>\n",
       "    </tr>\n",
       "    <tr>\n",
       "      <th>5</th>\n",
       "      <td>[web, email, mobile, social]</td>\n",
       "      <td>7</td>\n",
       "      <td>7</td>\n",
       "      <td>2298d6c36e964ae4a3e7e9706d1fb8c2</td>\n",
       "      <td>discount</td>\n",
       "      <td>3</td>\n",
       "    </tr>\n",
       "    <tr>\n",
       "      <th>6</th>\n",
       "      <td>[web, email, mobile, social]</td>\n",
       "      <td>10</td>\n",
       "      <td>10</td>\n",
       "      <td>fafdcd668e3743c1bb461111dcafc2a4</td>\n",
       "      <td>discount</td>\n",
       "      <td>2</td>\n",
       "    </tr>\n",
       "    <tr>\n",
       "      <th>7</th>\n",
       "      <td>[email, mobile, social]</td>\n",
       "      <td>0</td>\n",
       "      <td>3</td>\n",
       "      <td>5a8bc65990b245e5a138643cd4eb9837</td>\n",
       "      <td>informational</td>\n",
       "      <td>0</td>\n",
       "    </tr>\n",
       "    <tr>\n",
       "      <th>8</th>\n",
       "      <td>[web, email, mobile, social]</td>\n",
       "      <td>5</td>\n",
       "      <td>5</td>\n",
       "      <td>f19421c1d4aa40978ebb69ca19b0e20d</td>\n",
       "      <td>bogo</td>\n",
       "      <td>5</td>\n",
       "    </tr>\n",
       "    <tr>\n",
       "      <th>9</th>\n",
       "      <td>[web, email, mobile]</td>\n",
       "      <td>10</td>\n",
       "      <td>7</td>\n",
       "      <td>2906b810c7d4411798c6938adc9daaa5</td>\n",
       "      <td>discount</td>\n",
       "      <td>2</td>\n",
       "    </tr>\n",
       "  </tbody>\n",
       "</table>\n",
       "</div>"
      ],
      "text/plain": [
       "                       channels  difficulty  duration  \\\n",
       "0       [email, mobile, social]          10         7   \n",
       "1  [web, email, mobile, social]          10         5   \n",
       "2          [web, email, mobile]           0         4   \n",
       "3          [web, email, mobile]           5         7   \n",
       "4                  [web, email]          20        10   \n",
       "5  [web, email, mobile, social]           7         7   \n",
       "6  [web, email, mobile, social]          10        10   \n",
       "7       [email, mobile, social]           0         3   \n",
       "8  [web, email, mobile, social]           5         5   \n",
       "9          [web, email, mobile]          10         7   \n",
       "\n",
       "                                 id     offer_type  reward  \n",
       "0  ae264e3637204a6fb9bb56bc8210ddfd           bogo      10  \n",
       "1  4d5c57ea9a6940dd891ad53e9dbe8da0           bogo      10  \n",
       "2  3f207df678b143eea3cee63160fa8bed  informational       0  \n",
       "3  9b98b8c7a33c4b65b9aebfe6a799e6d9           bogo       5  \n",
       "4  0b1e1539f2cc45b7b9fa7c272da2e1d7       discount       5  \n",
       "5  2298d6c36e964ae4a3e7e9706d1fb8c2       discount       3  \n",
       "6  fafdcd668e3743c1bb461111dcafc2a4       discount       2  \n",
       "7  5a8bc65990b245e5a138643cd4eb9837  informational       0  \n",
       "8  f19421c1d4aa40978ebb69ca19b0e20d           bogo       5  \n",
       "9  2906b810c7d4411798c6938adc9daaa5       discount       2  "
      ]
     },
     "execution_count": 56,
     "metadata": {},
     "output_type": "execute_result"
    }
   ],
   "source": [
    "# See the top 10 rows of portfolio.json\n",
    "portfolio.head(10)"
   ]
  },
  {
   "cell_type": "code",
   "execution_count": 57,
   "metadata": {
    "scrolled": false
   },
   "outputs": [
    {
     "name": "stdout",
     "output_type": "stream",
     "text": [
      "<class 'pandas.core.frame.DataFrame'>\n",
      "RangeIndex: 10 entries, 0 to 9\n",
      "Data columns (total 6 columns):\n",
      "channels      10 non-null object\n",
      "difficulty    10 non-null int64\n",
      "duration      10 non-null int64\n",
      "id            10 non-null object\n",
      "offer_type    10 non-null object\n",
      "reward        10 non-null int64\n",
      "dtypes: int64(3), object(3)\n",
      "memory usage: 560.0+ bytes\n"
     ]
    }
   ],
   "source": [
    "# See Columns details of  the portfolio.json\n",
    "portfolio.info()"
   ]
  },
  {
   "cell_type": "code",
   "execution_count": 58,
   "metadata": {},
   "outputs": [
    {
     "data": {
      "text/plain": [
       "(10, 6)"
      ]
     },
     "execution_count": 58,
     "metadata": {},
     "output_type": "execute_result"
    }
   ],
   "source": [
    "# see the total rows and columns of portfolio.json\n",
    "portfolio.shape"
   ]
  },
  {
   "cell_type": "code",
   "execution_count": 59,
   "metadata": {
    "scrolled": true
   },
   "outputs": [
    {
     "data": {
      "text/plain": [
       "channels      0\n",
       "difficulty    0\n",
       "duration      0\n",
       "id            0\n",
       "offer_type    0\n",
       "reward        0\n",
       "dtype: int64"
      ]
     },
     "execution_count": 59,
     "metadata": {},
     "output_type": "execute_result"
    }
   ],
   "source": [
    "# See the missing values portfolio.json\n",
    "portfolio.isna().sum()"
   ]
  },
  {
   "cell_type": "code",
   "execution_count": 60,
   "metadata": {},
   "outputs": [
    {
     "data": {
      "text/plain": [
       "array(['bogo', 'informational', 'discount'], dtype=object)"
      ]
     },
     "execution_count": 60,
     "metadata": {},
     "output_type": "execute_result"
    }
   ],
   "source": [
    "#See the offers in portfolio.json\n",
    "portfolio['offer_type'].unique()"
   ]
  },
  {
   "cell_type": "code",
   "execution_count": 61,
   "metadata": {},
   "outputs": [
    {
     "data": {
      "text/plain": [
       "0"
      ]
     },
     "execution_count": 61,
     "metadata": {},
     "output_type": "execute_result"
    }
   ],
   "source": [
    "#See the duplicates in portfolio.json\n",
    "portfolio.columns.duplicated().sum()"
   ]
  },
  {
   "cell_type": "code",
   "execution_count": 62,
   "metadata": {},
   "outputs": [
    {
     "data": {
      "text/plain": [
       "10"
      ]
     },
     "execution_count": 62,
     "metadata": {},
     "output_type": "execute_result"
    }
   ],
   "source": [
    "# See the unique offers from portfolio.json\n",
    "portfolio['id'].nunique()"
   ]
  },
  {
   "cell_type": "code",
   "execution_count": 63,
   "metadata": {},
   "outputs": [
    {
     "data": {
      "text/plain": [
       "offer_type\n",
       "bogo             4\n",
       "discount         4\n",
       "informational    2\n",
       "Name: id, dtype: int64"
      ]
     },
     "execution_count": 63,
     "metadata": {},
     "output_type": "execute_result"
    }
   ],
   "source": [
    "# Let us group offer_type\n",
    "portfolio.groupby('offer_type')['id'].count()"
   ]
  },
  {
   "cell_type": "code",
   "execution_count": 64,
   "metadata": {},
   "outputs": [],
   "source": [
    "#Summary of Portfolio datasetfrom above results:\n",
    "#Portfolio dataset has 6 columns and 10 rows.\n",
    "#It has no null values nor duplicates.\n",
    "#There are three types of offers : 'bogo'(Buy One Get One free), 'informational' and 'discount'.\n",
    "#Bogo - 4 offers, disount-4 offers, informational-2 offers\n",
    "#The unit of The 'difficulty' column is dollars \n",
    "#But we can  not say how difficult to be rewarded. \n",
    "#Rescaling this info is a good and to be done before Modeling."
   ]
  },
  {
   "cell_type": "code",
   "execution_count": 65,
   "metadata": {},
   "outputs": [],
   "source": [
    "# 1.READ THE DATA AND CLEANING- PROFILE.JSON"
   ]
  },
  {
   "cell_type": "code",
   "execution_count": 66,
   "metadata": {},
   "outputs": [],
   "source": [
    "# read from portfolio.json dataset\n",
    "profile = pd.read_json('data/profile.json', orient='records', lines=True)"
   ]
  },
  {
   "cell_type": "code",
   "execution_count": 67,
   "metadata": {
    "scrolled": true
   },
   "outputs": [
    {
     "data": {
      "text/html": [
       "<div>\n",
       "<style scoped>\n",
       "    .dataframe tbody tr th:only-of-type {\n",
       "        vertical-align: middle;\n",
       "    }\n",
       "\n",
       "    .dataframe tbody tr th {\n",
       "        vertical-align: top;\n",
       "    }\n",
       "\n",
       "    .dataframe thead th {\n",
       "        text-align: right;\n",
       "    }\n",
       "</style>\n",
       "<table border=\"1\" class=\"dataframe\">\n",
       "  <thead>\n",
       "    <tr style=\"text-align: right;\">\n",
       "      <th></th>\n",
       "      <th>age</th>\n",
       "      <th>became_member_on</th>\n",
       "      <th>gender</th>\n",
       "      <th>id</th>\n",
       "      <th>income</th>\n",
       "    </tr>\n",
       "  </thead>\n",
       "  <tbody>\n",
       "    <tr>\n",
       "      <th>0</th>\n",
       "      <td>118</td>\n",
       "      <td>20170212</td>\n",
       "      <td>None</td>\n",
       "      <td>68be06ca386d4c31939f3a4f0e3dd783</td>\n",
       "      <td>NaN</td>\n",
       "    </tr>\n",
       "    <tr>\n",
       "      <th>1</th>\n",
       "      <td>55</td>\n",
       "      <td>20170715</td>\n",
       "      <td>F</td>\n",
       "      <td>0610b486422d4921ae7d2bf64640c50b</td>\n",
       "      <td>112000.0</td>\n",
       "    </tr>\n",
       "    <tr>\n",
       "      <th>2</th>\n",
       "      <td>118</td>\n",
       "      <td>20180712</td>\n",
       "      <td>None</td>\n",
       "      <td>38fe809add3b4fcf9315a9694bb96ff5</td>\n",
       "      <td>NaN</td>\n",
       "    </tr>\n",
       "    <tr>\n",
       "      <th>3</th>\n",
       "      <td>75</td>\n",
       "      <td>20170509</td>\n",
       "      <td>F</td>\n",
       "      <td>78afa995795e4d85b5d9ceeca43f5fef</td>\n",
       "      <td>100000.0</td>\n",
       "    </tr>\n",
       "    <tr>\n",
       "      <th>4</th>\n",
       "      <td>118</td>\n",
       "      <td>20170804</td>\n",
       "      <td>None</td>\n",
       "      <td>a03223e636434f42ac4c3df47e8bac43</td>\n",
       "      <td>NaN</td>\n",
       "    </tr>\n",
       "  </tbody>\n",
       "</table>\n",
       "</div>"
      ],
      "text/plain": [
       "   age  became_member_on gender                                id    income\n",
       "0  118          20170212   None  68be06ca386d4c31939f3a4f0e3dd783       NaN\n",
       "1   55          20170715      F  0610b486422d4921ae7d2bf64640c50b  112000.0\n",
       "2  118          20180712   None  38fe809add3b4fcf9315a9694bb96ff5       NaN\n",
       "3   75          20170509      F  78afa995795e4d85b5d9ceeca43f5fef  100000.0\n",
       "4  118          20170804   None  a03223e636434f42ac4c3df47e8bac43       NaN"
      ]
     },
     "execution_count": 67,
     "metadata": {},
     "output_type": "execute_result"
    }
   ],
   "source": [
    "# see contents of the dataset of profile.json .\n",
    "profile.head()"
   ]
  },
  {
   "cell_type": "code",
   "execution_count": 68,
   "metadata": {
    "scrolled": true
   },
   "outputs": [
    {
     "name": "stdout",
     "output_type": "stream",
     "text": [
      "<class 'pandas.core.frame.DataFrame'>\n",
      "RangeIndex: 17000 entries, 0 to 16999\n",
      "Data columns (total 5 columns):\n",
      "age                 17000 non-null int64\n",
      "became_member_on    17000 non-null int64\n",
      "gender              14825 non-null object\n",
      "id                  17000 non-null object\n",
      "income              14825 non-null float64\n",
      "dtypes: float64(1), int64(2), object(2)\n",
      "memory usage: 664.1+ KB\n"
     ]
    }
   ],
   "source": [
    "# see the column details of the profile.json\n",
    "profile.info()"
   ]
  },
  {
   "cell_type": "code",
   "execution_count": 69,
   "metadata": {
    "scrolled": true
   },
   "outputs": [
    {
     "data": {
      "text/plain": [
       "(17000, 5)"
      ]
     },
     "execution_count": 69,
     "metadata": {},
     "output_type": "execute_result"
    }
   ],
   "source": [
    "# see the rows and columns of profile.json\n",
    "profile.shape"
   ]
  },
  {
   "cell_type": "code",
   "execution_count": 70,
   "metadata": {
    "scrolled": true
   },
   "outputs": [
    {
     "data": {
      "text/plain": [
       "age                    0\n",
       "became_member_on       0\n",
       "gender              2175\n",
       "id                     0\n",
       "income              2175\n",
       "dtype: int64"
      ]
     },
     "execution_count": 70,
     "metadata": {},
     "output_type": "execute_result"
    }
   ],
   "source": [
    "# See the missing values profile.json\n",
    "profile.isna().sum()"
   ]
  },
  {
   "cell_type": "code",
   "execution_count": 71,
   "metadata": {},
   "outputs": [
    {
     "data": {
      "text/plain": [
       "0"
      ]
     },
     "execution_count": 71,
     "metadata": {},
     "output_type": "execute_result"
    }
   ],
   "source": [
    "#See the duplicates in profile.json\n",
    "profile.columns.duplicated().sum()"
   ]
  },
  {
   "cell_type": "code",
   "execution_count": 72,
   "metadata": {},
   "outputs": [
    {
     "data": {
      "text/plain": [
       "17000"
      ]
     },
     "execution_count": 72,
     "metadata": {},
     "output_type": "execute_result"
    }
   ],
   "source": [
    "#See the unique customers in  profile.json\n",
    "profile['id'].nunique()"
   ]
  },
  {
   "cell_type": "code",
   "execution_count": 73,
   "metadata": {},
   "outputs": [
    {
     "data": {
      "text/plain": [
       "array([ 0,  5,  7, 10, 20])"
      ]
     },
     "execution_count": 73,
     "metadata": {},
     "output_type": "execute_result"
    }
   ],
   "source": [
    "# Let us check the column-difficulty uniqueness\n",
    "difficulty_unique = np.sort(portfolio.difficulty.unique())\n",
    "difficulty_unique"
   ]
  },
  {
   "cell_type": "code",
   "execution_count": 74,
   "metadata": {},
   "outputs": [
    {
     "data": {
      "text/plain": [
       "array([None, 'F', 'M', 'O'], dtype=object)"
      ]
     },
     "execution_count": 74,
     "metadata": {},
     "output_type": "execute_result"
    }
   ],
   "source": [
    "#See the unique values of the column-gender in  profile.json\n",
    "profile['gender'].unique()"
   ]
  },
  {
   "cell_type": "code",
   "execution_count": 75,
   "metadata": {},
   "outputs": [
    {
     "data": {
      "text/plain": [
       "age                 2175\n",
       "became_member_on    2175\n",
       "gender                 0\n",
       "id                  2175\n",
       "income                 0\n",
       "dtype: int64"
      ]
     },
     "execution_count": 75,
     "metadata": {},
     "output_type": "execute_result"
    }
   ],
   "source": [
    "# See the data where tha age is mentioned as 118 , the missing age \n",
    "profile[profile['age']==118].count()"
   ]
  },
  {
   "cell_type": "code",
   "execution_count": 76,
   "metadata": {
    "scrolled": false
   },
   "outputs": [
    {
     "data": {
      "image/png": "[encoded data removed]",
      "text/plain": [
       "<matplotlib.figure.Figure at 0x7fae9979a5c0>"
      ]
     },
     "metadata": {
      "needs_background": "light"
     },
     "output_type": "display_data"
    }
   ],
   "source": [
    "# plot a graph of distribution of age groups\n",
    "plt.hist(profile['age'], edgecolor=\"yellow\", color=\"green\", bins=12);"
   ]
  },
  {
   "cell_type": "code",
   "execution_count": 77,
   "metadata": {},
   "outputs": [
    {
     "data": {
      "text/plain": [
       "M    8484\n",
       "F    6129\n",
       "O     212\n",
       "Name: gender, dtype: int64"
      ]
     },
     "execution_count": 77,
     "metadata": {},
     "output_type": "execute_result"
    }
   ],
   "source": [
    "#To Check number customers based on gender\n",
    "profile.gender.value_counts()"
   ]
  },
  {
   "cell_type": "code",
   "execution_count": 78,
   "metadata": {
    "scrolled": true
   },
   "outputs": [
    {
     "data": {
      "image/png": "[encoded data removed]",
      "text/plain": [
       "<matplotlib.figure.Figure at 0x7fae9989b6d8>"
      ]
     },
     "metadata": {
      "needs_background": "light"
     },
     "output_type": "display_data"
    }
   ],
   "source": [
    "#plot graph based on gender \n",
    "profile_gender_counts = profile.gender.value_counts()\n",
    "x = ['MALE','FEMALE','OTHERS']\n",
    "data = profile_gender_counts\n",
    "plt.bar(x,height = data,  edgecolor=\"red\", color=\"purple\");\n",
    "xlocs, xlabs = plt.xticks()\n",
    "for i, v in enumerate(data):\n",
    "    plt.text(xlocs[i] - 0.13, v , str(v))\n",
    "plt.xlabel('Gender');\n",
    "plt.ylabel('Total');\n",
    "plt.title('Customers as per Gender');"
   ]
  },
  {
   "cell_type": "code",
   "execution_count": 79,
   "metadata": {},
   "outputs": [
    {
     "data": {
      "text/plain": [
       "M    57.23\n",
       "F    41.34\n",
       "O     1.43\n",
       "Name: gender, dtype: float64"
      ]
     },
     "execution_count": 79,
     "metadata": {},
     "output_type": "execute_result"
    }
   ],
   "source": [
    "# To check the gender distribution in percentage\n",
    "total_counts = profile_gender_counts.sum()\n",
    "gender_percentage = round((profile_gender_counts/ total_counts)*100,2)\n",
    "gender_percentage"
   ]
  },
  {
   "cell_type": "code",
   "execution_count": 80,
   "metadata": {},
   "outputs": [
    {
     "data": {
      "text/plain": [
       "count     14825.000000\n",
       "mean      65404.991568\n",
       "std       21598.299410\n",
       "min       30000.000000\n",
       "25%       49000.000000\n",
       "50%       64000.000000\n",
       "75%       80000.000000\n",
       "max      120000.000000\n",
       "Name: income, dtype: float64"
      ]
     },
     "execution_count": 80,
     "metadata": {},
     "output_type": "execute_result"
    }
   ],
   "source": [
    "# To obtain the summary of the income-column\n",
    "profile['income'].describe()"
   ]
  },
  {
   "cell_type": "code",
   "execution_count": 81,
   "metadata": {
    "scrolled": true
   },
   "outputs": [
    {
     "data": {
      "image/png": "[encoded data removed]",
      "text/plain": [
       "<matplotlib.figure.Figure at 0x7fae9978bf60>"
      ]
     },
     "metadata": {
      "needs_background": "light"
     },
     "output_type": "display_data"
    }
   ],
   "source": [
    "# plot distribution of income- column\n",
    "profile['income'].hist();"
   ]
  },
  {
   "cell_type": "code",
   "execution_count": 82,
   "metadata": {
    "scrolled": true
   },
   "outputs": [
    {
     "name": "stdout",
     "output_type": "stream",
     "text": [
      "1-customers with income equal to $76,000 : 157\n",
      "2-customers with income equal to  $75,000 : 243\n",
      "3-customers with income equal to  $50,000 : 253\n",
      "4-customers with income equl to $49,000 : 157\n"
     ]
    }
   ],
   "source": [
    "print('1-customers with income equal to $76,000 :', profile.age[profile['income']== 76000.0].count())\n",
    "print('2-customers with income equal to  $75,000 :', profile.age[profile['income']== 75000.0].count())\n",
    "print('3-customers with income equal to  $50,000 :', profile.age[profile['income']== 50000.0].count())\n",
    "print('4-customers with income equl to $49,000 :', profile.age[profile['income']== 49000.0].count())"
   ]
  },
  {
   "cell_type": "code",
   "execution_count": 83,
   "metadata": {
    "scrolled": true
   },
   "outputs": [
    {
     "data": {
      "text/plain": [
       "count    17000.000000\n",
       "mean        62.531412\n",
       "std         26.738580\n",
       "min         18.000000\n",
       "25%         45.000000\n",
       "50%         58.000000\n",
       "75%         73.000000\n",
       "max        118.000000\n",
       "Name: age, dtype: float64"
      ]
     },
     "execution_count": 83,
     "metadata": {},
     "output_type": "execute_result"
    }
   ],
   "source": [
    "#To check statitical summary of the Column-age\n",
    "profile['age'].describe()"
   ]
  },
  {
   "cell_type": "code",
   "execution_count": 84,
   "metadata": {
    "scrolled": true
   },
   "outputs": [
    {
     "name": "stdout",
     "output_type": "stream",
     "text": [
      "[118 101 100  99  98  97  96  95  94  93  92  91  90  89  88  87  86  85\n",
      "  84  83  82  81  80  79  78  77  76  75  74  73  72  71  70  69  68  67\n",
      "  66  65  64  63  62  61  60  59  58  57  56  55  54  53  52  51  50  49\n",
      "  48  47  46  45  44  43  42  41  40  39  38  37  36  35  34  33  32  31\n",
      "  30  29  28  27  26  25  24  23  22  21  20  19  18]\n"
     ]
    }
   ],
   "source": [
    "# To check the unique values in the customers ages -Desc order\n",
    "print(-np.sort(-profile['age'].unique()))"
   ]
  },
  {
   "cell_type": "code",
   "execution_count": 85,
   "metadata": {
    "scrolled": true
   },
   "outputs": [
    {
     "data": {
      "text/plain": [
       "118    2175\n",
       "58      408\n",
       "53      372\n",
       "51      363\n",
       "54      359\n",
       "59      359\n",
       "57      353\n",
       "52      351\n",
       "55      350\n",
       "56      342\n",
       "63      338\n",
       "60      333\n",
       "49      321\n",
       "62      318\n",
       "67      317\n",
       "64      311\n",
       "61      309\n",
       "48      288\n",
       "66      284\n",
       "50      284\n",
       "65      280\n",
       "68      259\n",
       "70      252\n",
       "69      242\n",
       "47      232\n",
       "45      231\n",
       "71      230\n",
       "42      227\n",
       "43      215\n",
       "46      212\n",
       "       ... \n",
       "22      131\n",
       "30      131\n",
       "29      129\n",
       "23      126\n",
       "35      118\n",
       "81      118\n",
       "79      117\n",
       "80      116\n",
       "31      113\n",
       "82      105\n",
       "83      102\n",
       "84       83\n",
       "18       70\n",
       "85       70\n",
       "87       66\n",
       "88       64\n",
       "86       54\n",
       "89       53\n",
       "90       52\n",
       "91       47\n",
       "92       40\n",
       "94       33\n",
       "93       29\n",
       "95       22\n",
       "97       13\n",
       "100      12\n",
       "96        8\n",
       "98        5\n",
       "99        5\n",
       "101       5\n",
       "Name: age, Length: 85, dtype: int64"
      ]
     },
     "execution_count": 85,
     "metadata": {},
     "output_type": "execute_result"
    }
   ],
   "source": [
    "# To know the number of  of each unique value in the 'age' column in asc order\n",
    "profile['age'].value_counts().sort_values(ascending=False)"
   ]
  },
  {
   "cell_type": "code",
   "execution_count": 86,
   "metadata": {},
   "outputs": [
    {
     "data": {
      "image/png": "[encoded data removed]",
      "text/plain": [
       "<matplotlib.figure.Figure at 0x7fae922c5cc0>"
      ]
     },
     "metadata": {
      "needs_background": "light"
     },
     "output_type": "display_data"
    }
   ],
   "source": [
    "# Let us see how the age is sorted\n",
    "plt.hist(profile['age'], edgecolor=\"red\", color=\"yellow\", bins=10);"
   ]
  },
  {
   "cell_type": "code",
   "execution_count": 87,
   "metadata": {},
   "outputs": [
    {
     "data": {
      "text/plain": [
       "2175"
      ]
     },
     "execution_count": 87,
     "metadata": {},
     "output_type": "execute_result"
    }
   ],
   "source": [
    "# to check number of customers ,registered at the age = 118 ( age not entered)\n",
    "profile['age'][profile['age'] == 118].count()"
   ]
  },
  {
   "cell_type": "code",
   "execution_count": 88,
   "metadata": {},
   "outputs": [
    {
     "data": {
      "text/plain": [
       "age                 2175\n",
       "became_member_on    2175\n",
       "gender                 0\n",
       "id                  2175\n",
       "income                 0\n",
       "dtype: int64"
      ]
     },
     "execution_count": 88,
     "metadata": {},
     "output_type": "execute_result"
    }
   ],
   "source": [
    "# See the data where tha age is mentioned as 118 , the missing age \n",
    "profile[profile['age']==118].count()"
   ]
  },
  {
   "cell_type": "code",
   "execution_count": 89,
   "metadata": {
    "scrolled": false
   },
   "outputs": [
    {
     "data": {
      "text/html": [
       "<div>\n",
       "<style scoped>\n",
       "    .dataframe tbody tr th:only-of-type {\n",
       "        vertical-align: middle;\n",
       "    }\n",
       "\n",
       "    .dataframe tbody tr th {\n",
       "        vertical-align: top;\n",
       "    }\n",
       "\n",
       "    .dataframe thead th {\n",
       "        text-align: right;\n",
       "    }\n",
       "</style>\n",
       "<table border=\"1\" class=\"dataframe\">\n",
       "  <thead>\n",
       "    <tr style=\"text-align: right;\">\n",
       "      <th></th>\n",
       "      <th>gender</th>\n",
       "      <th>income</th>\n",
       "      <th>age</th>\n",
       "    </tr>\n",
       "  </thead>\n",
       "  <tbody>\n",
       "    <tr>\n",
       "      <th>0</th>\n",
       "      <td>None</td>\n",
       "      <td>NaN</td>\n",
       "      <td>118</td>\n",
       "    </tr>\n",
       "    <tr>\n",
       "      <th>2</th>\n",
       "      <td>None</td>\n",
       "      <td>NaN</td>\n",
       "      <td>118</td>\n",
       "    </tr>\n",
       "    <tr>\n",
       "      <th>4</th>\n",
       "      <td>None</td>\n",
       "      <td>NaN</td>\n",
       "      <td>118</td>\n",
       "    </tr>\n",
       "    <tr>\n",
       "      <th>6</th>\n",
       "      <td>None</td>\n",
       "      <td>NaN</td>\n",
       "      <td>118</td>\n",
       "    </tr>\n",
       "    <tr>\n",
       "      <th>7</th>\n",
       "      <td>None</td>\n",
       "      <td>NaN</td>\n",
       "      <td>118</td>\n",
       "    </tr>\n",
       "    <tr>\n",
       "      <th>9</th>\n",
       "      <td>None</td>\n",
       "      <td>NaN</td>\n",
       "      <td>118</td>\n",
       "    </tr>\n",
       "    <tr>\n",
       "      <th>10</th>\n",
       "      <td>None</td>\n",
       "      <td>NaN</td>\n",
       "      <td>118</td>\n",
       "    </tr>\n",
       "    <tr>\n",
       "      <th>11</th>\n",
       "      <td>None</td>\n",
       "      <td>NaN</td>\n",
       "      <td>118</td>\n",
       "    </tr>\n",
       "    <tr>\n",
       "      <th>17</th>\n",
       "      <td>None</td>\n",
       "      <td>NaN</td>\n",
       "      <td>118</td>\n",
       "    </tr>\n",
       "    <tr>\n",
       "      <th>23</th>\n",
       "      <td>None</td>\n",
       "      <td>NaN</td>\n",
       "      <td>118</td>\n",
       "    </tr>\n",
       "  </tbody>\n",
       "</table>\n",
       "</div>"
      ],
      "text/plain": [
       "   gender  income  age\n",
       "0    None     NaN  118\n",
       "2    None     NaN  118\n",
       "4    None     NaN  118\n",
       "6    None     NaN  118\n",
       "7    None     NaN  118\n",
       "9    None     NaN  118\n",
       "10   None     NaN  118\n",
       "11   None     NaN  118\n",
       "17   None     NaN  118\n",
       "23   None     NaN  118"
      ]
     },
     "execution_count": 89,
     "metadata": {},
     "output_type": "execute_result"
    }
   ],
   "source": [
    "# Let us create a df with customers of age 118, with gender and income columns\n",
    "df_age_118 = profile[['gender','income','age']][profile['age']==118]\n",
    "df_age_118.head(10)"
   ]
  },
  {
   "cell_type": "code",
   "execution_count": 90,
   "metadata": {},
   "outputs": [],
   "source": [
    "#Summary of profile dataset from above results:\n",
    "# This dataset has 5 columns and 17,000 rows.\n",
    "# It has no duplicated rows.\n",
    "# It has 2175 missing values on -gender, income.\n",
    "#The customers ages range from 18 to 101. \n",
    "# 2175 customers with age 118, it looks like wrong entry since there is no gender or income , which have to be cleaned .\n",
    "# In case of income data, max customers fall between 30000 and 75,000\n",
    "# There are three genders- Male, Female and others.\n",
    "# Removing the 2175 customers, w ehave Male- 8484 (57%), Female-6129 (41%)\n",
    "# There are 212 customers in others category."
   ]
  },
  {
   "cell_type": "code",
   "execution_count": 91,
   "metadata": {},
   "outputs": [],
   "source": [
    "# 3.READ THE DATA AND CLEANING- TARNSCRIPT.JSON"
   ]
  },
  {
   "cell_type": "code",
   "execution_count": 92,
   "metadata": {},
   "outputs": [],
   "source": [
    "#Read transcript.json\n",
    "transcript = pd.read_json('data/transcript.json', orient='records', lines=True)"
   ]
  },
  {
   "cell_type": "code",
   "execution_count": 93,
   "metadata": {},
   "outputs": [
    {
     "data": {
      "text/html": [
       "<div>\n",
       "<style scoped>\n",
       "    .dataframe tbody tr th:only-of-type {\n",
       "        vertical-align: middle;\n",
       "    }\n",
       "\n",
       "    .dataframe tbody tr th {\n",
       "        vertical-align: top;\n",
       "    }\n",
       "\n",
       "    .dataframe thead th {\n",
       "        text-align: right;\n",
       "    }\n",
       "</style>\n",
       "<table border=\"1\" class=\"dataframe\">\n",
       "  <thead>\n",
       "    <tr style=\"text-align: right;\">\n",
       "      <th></th>\n",
       "      <th>event</th>\n",
       "      <th>person</th>\n",
       "      <th>time</th>\n",
       "      <th>value</th>\n",
       "    </tr>\n",
       "  </thead>\n",
       "  <tbody>\n",
       "    <tr>\n",
       "      <th>0</th>\n",
       "      <td>offer received</td>\n",
       "      <td>78afa995795e4d85b5d9ceeca43f5fef</td>\n",
       "      <td>0</td>\n",
       "      <td>{'offer id': '9b98b8c7a33c4b65b9aebfe6a799e6d9'}</td>\n",
       "    </tr>\n",
       "    <tr>\n",
       "      <th>1</th>\n",
       "      <td>offer received</td>\n",
       "      <td>a03223e636434f42ac4c3df47e8bac43</td>\n",
       "      <td>0</td>\n",
       "      <td>{'offer id': '0b1e1539f2cc45b7b9fa7c272da2e1d7'}</td>\n",
       "    </tr>\n",
       "    <tr>\n",
       "      <th>2</th>\n",
       "      <td>offer received</td>\n",
       "      <td>e2127556f4f64592b11af22de27a7932</td>\n",
       "      <td>0</td>\n",
       "      <td>{'offer id': '2906b810c7d4411798c6938adc9daaa5'}</td>\n",
       "    </tr>\n",
       "    <tr>\n",
       "      <th>3</th>\n",
       "      <td>offer received</td>\n",
       "      <td>8ec6ce2a7e7949b1bf142def7d0e0586</td>\n",
       "      <td>0</td>\n",
       "      <td>{'offer id': 'fafdcd668e3743c1bb461111dcafc2a4'}</td>\n",
       "    </tr>\n",
       "    <tr>\n",
       "      <th>4</th>\n",
       "      <td>offer received</td>\n",
       "      <td>68617ca6246f4fbc85e91a2a49552598</td>\n",
       "      <td>0</td>\n",
       "      <td>{'offer id': '4d5c57ea9a6940dd891ad53e9dbe8da0'}</td>\n",
       "    </tr>\n",
       "    <tr>\n",
       "      <th>5</th>\n",
       "      <td>offer received</td>\n",
       "      <td>389bc3fa690240e798340f5a15918d5c</td>\n",
       "      <td>0</td>\n",
       "      <td>{'offer id': 'f19421c1d4aa40978ebb69ca19b0e20d'}</td>\n",
       "    </tr>\n",
       "    <tr>\n",
       "      <th>6</th>\n",
       "      <td>offer received</td>\n",
       "      <td>c4863c7985cf408faee930f111475da3</td>\n",
       "      <td>0</td>\n",
       "      <td>{'offer id': '2298d6c36e964ae4a3e7e9706d1fb8c2'}</td>\n",
       "    </tr>\n",
       "    <tr>\n",
       "      <th>7</th>\n",
       "      <td>offer received</td>\n",
       "      <td>2eeac8d8feae4a8cad5a6af0499a211d</td>\n",
       "      <td>0</td>\n",
       "      <td>{'offer id': '3f207df678b143eea3cee63160fa8bed'}</td>\n",
       "    </tr>\n",
       "    <tr>\n",
       "      <th>8</th>\n",
       "      <td>offer received</td>\n",
       "      <td>aa4862eba776480b8bb9c68455b8c2e1</td>\n",
       "      <td>0</td>\n",
       "      <td>{'offer id': '0b1e1539f2cc45b7b9fa7c272da2e1d7'}</td>\n",
       "    </tr>\n",
       "    <tr>\n",
       "      <th>9</th>\n",
       "      <td>offer received</td>\n",
       "      <td>31dda685af34476cad5bc968bdb01c53</td>\n",
       "      <td>0</td>\n",
       "      <td>{'offer id': '0b1e1539f2cc45b7b9fa7c272da2e1d7'}</td>\n",
       "    </tr>\n",
       "  </tbody>\n",
       "</table>\n",
       "</div>"
      ],
      "text/plain": [
       "            event                            person  time  \\\n",
       "0  offer received  78afa995795e4d85b5d9ceeca43f5fef     0   \n",
       "1  offer received  a03223e636434f42ac4c3df47e8bac43     0   \n",
       "2  offer received  e2127556f4f64592b11af22de27a7932     0   \n",
       "3  offer received  8ec6ce2a7e7949b1bf142def7d0e0586     0   \n",
       "4  offer received  68617ca6246f4fbc85e91a2a49552598     0   \n",
       "5  offer received  389bc3fa690240e798340f5a15918d5c     0   \n",
       "6  offer received  c4863c7985cf408faee930f111475da3     0   \n",
       "7  offer received  2eeac8d8feae4a8cad5a6af0499a211d     0   \n",
       "8  offer received  aa4862eba776480b8bb9c68455b8c2e1     0   \n",
       "9  offer received  31dda685af34476cad5bc968bdb01c53     0   \n",
       "\n",
       "                                              value  \n",
       "0  {'offer id': '9b98b8c7a33c4b65b9aebfe6a799e6d9'}  \n",
       "1  {'offer id': '0b1e1539f2cc45b7b9fa7c272da2e1d7'}  \n",
       "2  {'offer id': '2906b810c7d4411798c6938adc9daaa5'}  \n",
       "3  {'offer id': 'fafdcd668e3743c1bb461111dcafc2a4'}  \n",
       "4  {'offer id': '4d5c57ea9a6940dd891ad53e9dbe8da0'}  \n",
       "5  {'offer id': 'f19421c1d4aa40978ebb69ca19b0e20d'}  \n",
       "6  {'offer id': '2298d6c36e964ae4a3e7e9706d1fb8c2'}  \n",
       "7  {'offer id': '3f207df678b143eea3cee63160fa8bed'}  \n",
       "8  {'offer id': '0b1e1539f2cc45b7b9fa7c272da2e1d7'}  \n",
       "9  {'offer id': '0b1e1539f2cc45b7b9fa7c272da2e1d7'}  "
      ]
     },
     "execution_count": 93,
     "metadata": {},
     "output_type": "execute_result"
    }
   ],
   "source": [
    "# See the top 10 rows of transcript.json\n",
    "transcript.head(10)"
   ]
  },
  {
   "cell_type": "code",
   "execution_count": 94,
   "metadata": {},
   "outputs": [
    {
     "name": "stdout",
     "output_type": "stream",
     "text": [
      "<class 'pandas.core.frame.DataFrame'>\n",
      "RangeIndex: 306534 entries, 0 to 306533\n",
      "Data columns (total 4 columns):\n",
      "event     306534 non-null object\n",
      "person    306534 non-null object\n",
      "time      306534 non-null int64\n",
      "value     306534 non-null object\n",
      "dtypes: int64(1), object(3)\n",
      "memory usage: 9.4+ MB\n"
     ]
    }
   ],
   "source": [
    "# See Columns details of  the transcript.json\n",
    "transcript.info()"
   ]
  },
  {
   "cell_type": "code",
   "execution_count": 95,
   "metadata": {},
   "outputs": [
    {
     "data": {
      "text/plain": [
       "(306534, 4)"
      ]
     },
     "execution_count": 95,
     "metadata": {},
     "output_type": "execute_result"
    }
   ],
   "source": [
    "# see the total rows and columns of transcript.json\n",
    "transcript.shape"
   ]
  },
  {
   "cell_type": "code",
   "execution_count": 96,
   "metadata": {
    "scrolled": true
   },
   "outputs": [],
   "source": [
    "# See the missing values transcript.json\n",
    "#transcript.isna().sum()"
   ]
  },
  {
   "cell_type": "code",
   "execution_count": 97,
   "metadata": {},
   "outputs": [
    {
     "data": {
      "text/plain": [
       "0"
      ]
     },
     "execution_count": 97,
     "metadata": {},
     "output_type": "execute_result"
    }
   ],
   "source": [
    "#See the duplicates in transcript.json\n",
    "transcript.columns.duplicated().sum()"
   ]
  },
  {
   "cell_type": "code",
   "execution_count": 98,
   "metadata": {},
   "outputs": [
    {
     "data": {
      "text/plain": [
       "array(['offer received', 'offer viewed', 'transaction', 'offer completed'], dtype=object)"
      ]
     },
     "execution_count": 98,
     "metadata": {},
     "output_type": "execute_result"
    }
   ],
   "source": [
    "# see the types of events of the transcripts \n",
    "transcript.event.unique()"
   ]
  },
  {
   "cell_type": "code",
   "execution_count": 99,
   "metadata": {
    "scrolled": true
   },
   "outputs": [
    {
     "data": {
      "text/plain": [
       "transaction        138953\n",
       "offer received      76277\n",
       "offer viewed        57725\n",
       "offer completed     33579\n",
       "Name: event, dtype: int64"
      ]
     },
     "execution_count": 99,
     "metadata": {},
     "output_type": "execute_result"
    }
   ],
   "source": [
    "#see the count of each column\n",
    "transcript.event.value_counts()"
   ]
  },
  {
   "cell_type": "code",
   "execution_count": 100,
   "metadata": {},
   "outputs": [
    {
     "data": {
      "text/html": [
       "<div>\n",
       "<style scoped>\n",
       "    .dataframe tbody tr th:only-of-type {\n",
       "        vertical-align: middle;\n",
       "    }\n",
       "\n",
       "    .dataframe tbody tr th {\n",
       "        vertical-align: top;\n",
       "    }\n",
       "\n",
       "    .dataframe thead th {\n",
       "        text-align: right;\n",
       "    }\n",
       "</style>\n",
       "<table border=\"1\" class=\"dataframe\">\n",
       "  <thead>\n",
       "    <tr style=\"text-align: right;\">\n",
       "      <th></th>\n",
       "      <th>event</th>\n",
       "      <th>person</th>\n",
       "      <th>time</th>\n",
       "      <th>value</th>\n",
       "    </tr>\n",
       "  </thead>\n",
       "  <tbody>\n",
       "    <tr>\n",
       "      <th>12654</th>\n",
       "      <td>transaction</td>\n",
       "      <td>02c083884c7d45b39cc68e1314fec56c</td>\n",
       "      <td>0</td>\n",
       "      <td>{'amount': 0.8300000000000001}</td>\n",
       "    </tr>\n",
       "    <tr>\n",
       "      <th>12657</th>\n",
       "      <td>transaction</td>\n",
       "      <td>9fa9ae8f57894cc9a3b8a9bbe0fc1b2f</td>\n",
       "      <td>0</td>\n",
       "      <td>{'amount': 34.56}</td>\n",
       "    </tr>\n",
       "    <tr>\n",
       "      <th>12659</th>\n",
       "      <td>transaction</td>\n",
       "      <td>54890f68699049c2a04d415abc25e717</td>\n",
       "      <td>0</td>\n",
       "      <td>{'amount': 13.23}</td>\n",
       "    </tr>\n",
       "    <tr>\n",
       "      <th>12670</th>\n",
       "      <td>transaction</td>\n",
       "      <td>b2f1cd155b864803ad8334cdf13c4bd2</td>\n",
       "      <td>0</td>\n",
       "      <td>{'amount': 19.51}</td>\n",
       "    </tr>\n",
       "    <tr>\n",
       "      <th>12671</th>\n",
       "      <td>transaction</td>\n",
       "      <td>fe97aa22dd3e48c8b143116a8403dd52</td>\n",
       "      <td>0</td>\n",
       "      <td>{'amount': 18.97}</td>\n",
       "    </tr>\n",
       "  </tbody>\n",
       "</table>\n",
       "</div>"
      ],
      "text/plain": [
       "             event                            person  time  \\\n",
       "12654  transaction  02c083884c7d45b39cc68e1314fec56c     0   \n",
       "12657  transaction  9fa9ae8f57894cc9a3b8a9bbe0fc1b2f     0   \n",
       "12659  transaction  54890f68699049c2a04d415abc25e717     0   \n",
       "12670  transaction  b2f1cd155b864803ad8334cdf13c4bd2     0   \n",
       "12671  transaction  fe97aa22dd3e48c8b143116a8403dd52     0   \n",
       "\n",
       "                                value  \n",
       "12654  {'amount': 0.8300000000000001}  \n",
       "12657               {'amount': 34.56}  \n",
       "12659               {'amount': 13.23}  \n",
       "12670               {'amount': 19.51}  \n",
       "12671               {'amount': 18.97}  "
      ]
     },
     "execution_count": 100,
     "metadata": {},
     "output_type": "execute_result"
    }
   ],
   "source": [
    "# Let us create a df with the rows to have the column-transaction \n",
    "df_trans = transcript[transcript['event'] == 'transaction']\n",
    "df_trans.head()"
   ]
  },
  {
   "cell_type": "code",
   "execution_count": 101,
   "metadata": {
    "scrolled": true
   },
   "outputs": [
    {
     "data": {
      "text/plain": [
       "46610                    {'amount': 2.03}\n",
       "43475                   {'amount': 32.74}\n",
       "138272                    {'amount': 2.7}\n",
       "38357                    {'amount': 5.34}\n",
       "293998                   {'amount': 7.05}\n",
       "264827                   {'amount': 5.41}\n",
       "199257                   {'amount': 6.36}\n",
       "192326                  {'amount': 22.96}\n",
       "284830                  {'amount': 24.84}\n",
       "41839                   {'amount': 17.82}\n",
       "52674                    {'amount': 6.15}\n",
       "77050                   {'amount': 29.46}\n",
       "89827                   {'amount': 17.24}\n",
       "233260                   {'amount': 2.06}\n",
       "27611                    {'amount': 1.48}\n",
       "93319                    {'amount': 0.08}\n",
       "183952                  {'amount': 11.82}\n",
       "147294                  {'amount': 13.45}\n",
       "241757                   {'amount': 25.3}\n",
       "100191                   {'amount': 2.04}\n",
       "72136                   {'amount': 15.44}\n",
       "75608                    {'amount': 8.23}\n",
       "38754                   {'amount': 14.82}\n",
       "144835                  {'amount': 12.48}\n",
       "286953                  {'amount': 22.52}\n",
       "41089                   {'amount': 16.61}\n",
       "185480                   {'amount': 1.31}\n",
       "28524                    {'amount': 0.16}\n",
       "31538                   {'amount': 19.45}\n",
       "297953                   {'amount': 1.48}\n",
       "                       ...               \n",
       "175256                  {'amount': 13.69}\n",
       "304781                  {'amount': 13.89}\n",
       "28494                   {'amount': 13.33}\n",
       "87282                   {'amount': 23.93}\n",
       "128972                   {'amount': 2.27}\n",
       "52086                    {'amount': 3.17}\n",
       "298868                  {'amount': 26.99}\n",
       "193214                  {'amount': 25.02}\n",
       "88569      {'amount': 1.5899999999999999}\n",
       "102088                   {'amount': 2.68}\n",
       "171162                   {'amount': 5.78}\n",
       "71074                   {'amount': 23.23}\n",
       "99588                    {'amount': 4.18}\n",
       "289114                   {'amount': 0.15}\n",
       "176078                  {'amount': 25.84}\n",
       "220704                   {'amount': 3.56}\n",
       "94288                   {'amount': 10.24}\n",
       "294232                   {'amount': 1.46}\n",
       "51197     {'amount': 0.41000000000000003}\n",
       "171516                  {'amount': 15.46}\n",
       "224228                  {'amount': 21.82}\n",
       "281387     {'amount': 1.1400000000000001}\n",
       "170007                  {'amount': 15.53}\n",
       "148967                   {'amount': 2.92}\n",
       "293161                   {'amount': 2.24}\n",
       "304798                   {'amount': 1.87}\n",
       "180690                  {'amount': 26.98}\n",
       "75756                   {'amount': 27.11}\n",
       "132542                   {'amount': 3.79}\n",
       "134136                  {'amount': 14.34}\n",
       "Name: value, Length: 100, dtype: object"
      ]
     },
     "execution_count": 101,
     "metadata": {},
     "output_type": "execute_result"
    }
   ],
   "source": [
    "#let us see the random sample of coulmn-value\n",
    "df_trans['value'].sample(100)"
   ]
  },
  {
   "cell_type": "code",
   "execution_count": 102,
   "metadata": {},
   "outputs": [],
   "source": [
    "#Summary of Transcript Dataset from the above results:\n",
    "#This dataet has 4 columns and 306,534 rows.\n",
    "#It has no duplicate or missing values.\n",
    "#Column-value , which is dictionary, can be used to extarct useful data .\n",
    "#This data can be used for our model.\n",
    "#There are four columns-transaction, offer received , offer viewed, offer completed.\n",
    "#The rows with transaction, dont have value offerid under value column."
   ]
  },
  {
   "cell_type": "code",
   "execution_count": 103,
   "metadata": {},
   "outputs": [],
   "source": [
    "#4. Data processing and cleaning "
   ]
  },
  {
   "cell_type": "code",
   "execution_count": 104,
   "metadata": {},
   "outputs": [],
   "source": [
    "#portfilio dataset cleaning"
   ]
  },
  {
   "cell_type": "code",
   "execution_count": 105,
   "metadata": {},
   "outputs": [],
   "source": [
    "# Cleaning portfolio dataset\n",
    "clean_portfolio = portfolio.copy()"
   ]
  },
  {
   "cell_type": "code",
   "execution_count": 106,
   "metadata": {},
   "outputs": [
    {
     "data": {
      "text/html": [
       "<div>\n",
       "<style scoped>\n",
       "    .dataframe tbody tr th:only-of-type {\n",
       "        vertical-align: middle;\n",
       "    }\n",
       "\n",
       "    .dataframe tbody tr th {\n",
       "        vertical-align: top;\n",
       "    }\n",
       "\n",
       "    .dataframe thead th {\n",
       "        text-align: right;\n",
       "    }\n",
       "</style>\n",
       "<table border=\"1\" class=\"dataframe\">\n",
       "  <thead>\n",
       "    <tr style=\"text-align: right;\">\n",
       "      <th></th>\n",
       "      <th>channels</th>\n",
       "      <th>difficulty</th>\n",
       "      <th>duration</th>\n",
       "      <th>id</th>\n",
       "      <th>offer_type</th>\n",
       "      <th>reward</th>\n",
       "    </tr>\n",
       "  </thead>\n",
       "  <tbody>\n",
       "    <tr>\n",
       "      <th>0</th>\n",
       "      <td>[email, mobile, social]</td>\n",
       "      <td>10</td>\n",
       "      <td>7</td>\n",
       "      <td>ae264e3637204a6fb9bb56bc8210ddfd</td>\n",
       "      <td>bogo</td>\n",
       "      <td>10</td>\n",
       "    </tr>\n",
       "    <tr>\n",
       "      <th>1</th>\n",
       "      <td>[web, email, mobile, social]</td>\n",
       "      <td>10</td>\n",
       "      <td>5</td>\n",
       "      <td>4d5c57ea9a6940dd891ad53e9dbe8da0</td>\n",
       "      <td>bogo</td>\n",
       "      <td>10</td>\n",
       "    </tr>\n",
       "    <tr>\n",
       "      <th>2</th>\n",
       "      <td>[web, email, mobile]</td>\n",
       "      <td>0</td>\n",
       "      <td>4</td>\n",
       "      <td>3f207df678b143eea3cee63160fa8bed</td>\n",
       "      <td>informational</td>\n",
       "      <td>0</td>\n",
       "    </tr>\n",
       "    <tr>\n",
       "      <th>3</th>\n",
       "      <td>[web, email, mobile]</td>\n",
       "      <td>5</td>\n",
       "      <td>7</td>\n",
       "      <td>9b98b8c7a33c4b65b9aebfe6a799e6d9</td>\n",
       "      <td>bogo</td>\n",
       "      <td>5</td>\n",
       "    </tr>\n",
       "    <tr>\n",
       "      <th>4</th>\n",
       "      <td>[web, email]</td>\n",
       "      <td>20</td>\n",
       "      <td>10</td>\n",
       "      <td>0b1e1539f2cc45b7b9fa7c272da2e1d7</td>\n",
       "      <td>discount</td>\n",
       "      <td>5</td>\n",
       "    </tr>\n",
       "  </tbody>\n",
       "</table>\n",
       "</div>"
      ],
      "text/plain": [
       "                       channels  difficulty  duration  \\\n",
       "0       [email, mobile, social]          10         7   \n",
       "1  [web, email, mobile, social]          10         5   \n",
       "2          [web, email, mobile]           0         4   \n",
       "3          [web, email, mobile]           5         7   \n",
       "4                  [web, email]          20        10   \n",
       "\n",
       "                                 id     offer_type  reward  \n",
       "0  ae264e3637204a6fb9bb56bc8210ddfd           bogo      10  \n",
       "1  4d5c57ea9a6940dd891ad53e9dbe8da0           bogo      10  \n",
       "2  3f207df678b143eea3cee63160fa8bed  informational       0  \n",
       "3  9b98b8c7a33c4b65b9aebfe6a799e6d9           bogo       5  \n",
       "4  0b1e1539f2cc45b7b9fa7c272da2e1d7       discount       5  "
      ]
     },
     "execution_count": 106,
     "metadata": {},
     "output_type": "execute_result"
    }
   ],
   "source": [
    "#Let us see the contents \n",
    "clean_portfolio.head()"
   ]
  },
  {
   "cell_type": "code",
   "execution_count": 107,
   "metadata": {},
   "outputs": [],
   "source": [
    "# Let us make - id column as  offer_id.\n",
    "clean_portfolio.rename(columns={'id':'offer_id'},inplace=True)"
   ]
  },
  {
   "cell_type": "code",
   "execution_count": 108,
   "metadata": {},
   "outputs": [],
   "source": [
    "#convert column-duration  from days to hours\n",
    "clean_portfolio['duration'] = clean_portfolio['duration']*24"
   ]
  },
  {
   "cell_type": "code",
   "execution_count": 109,
   "metadata": {},
   "outputs": [],
   "source": [
    "# rename column-duration as -duration_hours \n",
    "clean_portfolio.rename(columns={'duration':'total_durh'},inplace=True)"
   ]
  },
  {
   "cell_type": "code",
   "execution_count": 110,
   "metadata": {},
   "outputs": [
    {
     "data": {
      "text/html": [
       "<div>\n",
       "<style scoped>\n",
       "    .dataframe tbody tr th:only-of-type {\n",
       "        vertical-align: middle;\n",
       "    }\n",
       "\n",
       "    .dataframe tbody tr th {\n",
       "        vertical-align: top;\n",
       "    }\n",
       "\n",
       "    .dataframe thead th {\n",
       "        text-align: right;\n",
       "    }\n",
       "</style>\n",
       "<table border=\"1\" class=\"dataframe\">\n",
       "  <thead>\n",
       "    <tr style=\"text-align: right;\">\n",
       "      <th></th>\n",
       "      <th>channels</th>\n",
       "      <th>difficulty</th>\n",
       "      <th>total_durh</th>\n",
       "      <th>offer_id</th>\n",
       "      <th>offer_type</th>\n",
       "      <th>reward</th>\n",
       "    </tr>\n",
       "  </thead>\n",
       "  <tbody>\n",
       "    <tr>\n",
       "      <th>0</th>\n",
       "      <td>[email, mobile, social]</td>\n",
       "      <td>0.50</td>\n",
       "      <td>168</td>\n",
       "      <td>ae264e3637204a6fb9bb56bc8210ddfd</td>\n",
       "      <td>bogo</td>\n",
       "      <td>1.0</td>\n",
       "    </tr>\n",
       "    <tr>\n",
       "      <th>1</th>\n",
       "      <td>[web, email, mobile, social]</td>\n",
       "      <td>0.50</td>\n",
       "      <td>120</td>\n",
       "      <td>4d5c57ea9a6940dd891ad53e9dbe8da0</td>\n",
       "      <td>bogo</td>\n",
       "      <td>1.0</td>\n",
       "    </tr>\n",
       "    <tr>\n",
       "      <th>2</th>\n",
       "      <td>[web, email, mobile]</td>\n",
       "      <td>0.00</td>\n",
       "      <td>96</td>\n",
       "      <td>3f207df678b143eea3cee63160fa8bed</td>\n",
       "      <td>informational</td>\n",
       "      <td>0.0</td>\n",
       "    </tr>\n",
       "    <tr>\n",
       "      <th>3</th>\n",
       "      <td>[web, email, mobile]</td>\n",
       "      <td>0.25</td>\n",
       "      <td>168</td>\n",
       "      <td>9b98b8c7a33c4b65b9aebfe6a799e6d9</td>\n",
       "      <td>bogo</td>\n",
       "      <td>0.5</td>\n",
       "    </tr>\n",
       "    <tr>\n",
       "      <th>4</th>\n",
       "      <td>[web, email]</td>\n",
       "      <td>1.00</td>\n",
       "      <td>240</td>\n",
       "      <td>0b1e1539f2cc45b7b9fa7c272da2e1d7</td>\n",
       "      <td>discount</td>\n",
       "      <td>0.5</td>\n",
       "    </tr>\n",
       "  </tbody>\n",
       "</table>\n",
       "</div>"
      ],
      "text/plain": [
       "                       channels  difficulty  total_durh  \\\n",
       "0       [email, mobile, social]        0.50         168   \n",
       "1  [web, email, mobile, social]        0.50         120   \n",
       "2          [web, email, mobile]        0.00          96   \n",
       "3          [web, email, mobile]        0.25         168   \n",
       "4                  [web, email]        1.00         240   \n",
       "\n",
       "                           offer_id     offer_type  reward  \n",
       "0  ae264e3637204a6fb9bb56bc8210ddfd           bogo     1.0  \n",
       "1  4d5c57ea9a6940dd891ad53e9dbe8da0           bogo     1.0  \n",
       "2  3f207df678b143eea3cee63160fa8bed  informational     0.0  \n",
       "3  9b98b8c7a33c4b65b9aebfe6a799e6d9           bogo     0.5  \n",
       "4  0b1e1539f2cc45b7b9fa7c272da2e1d7       discount     0.5  "
      ]
     },
     "execution_count": 110,
     "metadata": {},
     "output_type": "execute_result"
    }
   ],
   "source": [
    "# using scaler, apply it to the features\n",
    "scaler = MinMaxScaler() \n",
    "numerical = ['difficulty','reward']\n",
    "\n",
    "#features_log_minmax_transform = pd.DataFrame(data = features_log_transformed\n",
    "clean_portfolio[numerical] = scaler.fit_transform(clean_portfolio[numerical])\n",
    "\n",
    "# Let us see the sample of record.\n",
    "clean_portfolio.head()"
   ]
  },
  {
   "cell_type": "code",
   "execution_count": 111,
   "metadata": {},
   "outputs": [
    {
     "data": {
      "text/plain": [
       "0         [email, mobile, social]\n",
       "1    [web, email, mobile, social]\n",
       "2            [web, email, mobile]\n",
       "3            [web, email, mobile]\n",
       "4                    [web, email]\n",
       "Name: channels, dtype: object"
      ]
     },
     "execution_count": 111,
     "metadata": {},
     "output_type": "execute_result"
    }
   ],
   "source": [
    "#using the channels column, let us find out the number and the titles of the dummy variables \n",
    "clean_portfolio['channels'].head()"
   ]
  },
  {
   "cell_type": "code",
   "execution_count": 112,
   "metadata": {},
   "outputs": [],
   "source": [
    "# Let us create dummy variables from the column-channels\n",
    "clean_portfolio['ch_email'] = clean_portfolio['channels'].apply(lambda x: 1 if 'email' in x else 0)\n",
    "clean_portfolio['ch_mobile'] = clean_portfolio['channels'].apply(lambda x: 1 if 'mobile' in x else 0)\n",
    "clean_portfolio['ch_social'] = clean_portfolio['channels'].apply(lambda x: 1 if 'social' in x else 0)\n",
    "clean_portfolio['ch_web'] = clean_portfolio['channels'].apply(lambda x: 1 if 'web' in x else 0) "
   ]
  },
  {
   "cell_type": "code",
   "execution_count": 113,
   "metadata": {
    "scrolled": true
   },
   "outputs": [
    {
     "data": {
      "text/html": [
       "<div>\n",
       "<style scoped>\n",
       "    .dataframe tbody tr th:only-of-type {\n",
       "        vertical-align: middle;\n",
       "    }\n",
       "\n",
       "    .dataframe tbody tr th {\n",
       "        vertical-align: top;\n",
       "    }\n",
       "\n",
       "    .dataframe thead th {\n",
       "        text-align: right;\n",
       "    }\n",
       "</style>\n",
       "<table border=\"1\" class=\"dataframe\">\n",
       "  <thead>\n",
       "    <tr style=\"text-align: right;\">\n",
       "      <th></th>\n",
       "      <th>channels</th>\n",
       "      <th>ch_email</th>\n",
       "      <th>ch_mobile</th>\n",
       "      <th>ch_web</th>\n",
       "      <th>ch_social</th>\n",
       "    </tr>\n",
       "  </thead>\n",
       "  <tbody>\n",
       "    <tr>\n",
       "      <th>0</th>\n",
       "      <td>[email, mobile, social]</td>\n",
       "      <td>1</td>\n",
       "      <td>1</td>\n",
       "      <td>0</td>\n",
       "      <td>1</td>\n",
       "    </tr>\n",
       "    <tr>\n",
       "      <th>1</th>\n",
       "      <td>[web, email, mobile, social]</td>\n",
       "      <td>1</td>\n",
       "      <td>1</td>\n",
       "      <td>1</td>\n",
       "      <td>1</td>\n",
       "    </tr>\n",
       "    <tr>\n",
       "      <th>2</th>\n",
       "      <td>[web, email, mobile]</td>\n",
       "      <td>1</td>\n",
       "      <td>1</td>\n",
       "      <td>1</td>\n",
       "      <td>0</td>\n",
       "    </tr>\n",
       "    <tr>\n",
       "      <th>3</th>\n",
       "      <td>[web, email, mobile]</td>\n",
       "      <td>1</td>\n",
       "      <td>1</td>\n",
       "      <td>1</td>\n",
       "      <td>0</td>\n",
       "    </tr>\n",
       "    <tr>\n",
       "      <th>4</th>\n",
       "      <td>[web, email]</td>\n",
       "      <td>1</td>\n",
       "      <td>0</td>\n",
       "      <td>1</td>\n",
       "      <td>0</td>\n",
       "    </tr>\n",
       "  </tbody>\n",
       "</table>\n",
       "</div>"
      ],
      "text/plain": [
       "                       channels  ch_email  ch_mobile  ch_web  ch_social\n",
       "0       [email, mobile, social]         1          1       0          1\n",
       "1  [web, email, mobile, social]         1          1       1          1\n",
       "2          [web, email, mobile]         1          1       1          0\n",
       "3          [web, email, mobile]         1          1       1          0\n",
       "4                  [web, email]         1          0       1          0"
      ]
     },
     "execution_count": 113,
     "metadata": {},
     "output_type": "execute_result"
    }
   ],
   "source": [
    "# To check if the dummy variables are correctly created \n",
    "clean_portfolio[['channels','ch_email','ch_mobile','ch_web','ch_social']].head()"
   ]
  },
  {
   "cell_type": "code",
   "execution_count": 114,
   "metadata": {},
   "outputs": [],
   "source": [
    "# To drop the column-channels from clean_portfolio\n",
    "clean_portfolio.drop('channels', axis=1, inplace=True)"
   ]
  },
  {
   "cell_type": "code",
   "execution_count": 115,
   "metadata": {
    "scrolled": false
   },
   "outputs": [
    {
     "name": "stdout",
     "output_type": "stream",
     "text": [
      "<class 'pandas.core.frame.DataFrame'>\n",
      "RangeIndex: 10 entries, 0 to 9\n",
      "Data columns (total 9 columns):\n",
      "difficulty    10 non-null float64\n",
      "total_durh    10 non-null int64\n",
      "offer_id      10 non-null object\n",
      "offer_type    10 non-null object\n",
      "reward        10 non-null float64\n",
      "ch_email      10 non-null int64\n",
      "ch_mobile     10 non-null int64\n",
      "ch_social     10 non-null int64\n",
      "ch_web        10 non-null int64\n",
      "dtypes: float64(2), int64(5), object(2)\n",
      "memory usage: 800.0+ bytes\n"
     ]
    }
   ],
   "source": [
    "#To check if the column-channels is dropped\n",
    "clean_portfolio.info()"
   ]
  },
  {
   "cell_type": "code",
   "execution_count": 116,
   "metadata": {},
   "outputs": [
    {
     "data": {
      "text/html": [
       "<div>\n",
       "<style scoped>\n",
       "    .dataframe tbody tr th:only-of-type {\n",
       "        vertical-align: middle;\n",
       "    }\n",
       "\n",
       "    .dataframe tbody tr th {\n",
       "        vertical-align: top;\n",
       "    }\n",
       "\n",
       "    .dataframe thead th {\n",
       "        text-align: right;\n",
       "    }\n",
       "</style>\n",
       "<table border=\"1\" class=\"dataframe\">\n",
       "  <thead>\n",
       "    <tr style=\"text-align: right;\">\n",
       "      <th></th>\n",
       "      <th>difficulty</th>\n",
       "      <th>total_durh</th>\n",
       "      <th>offer_id</th>\n",
       "      <th>offer_type</th>\n",
       "      <th>reward</th>\n",
       "      <th>ch_email</th>\n",
       "      <th>ch_mobile</th>\n",
       "      <th>ch_social</th>\n",
       "      <th>ch_web</th>\n",
       "    </tr>\n",
       "  </thead>\n",
       "  <tbody>\n",
       "    <tr>\n",
       "      <th>0</th>\n",
       "      <td>0.50</td>\n",
       "      <td>168</td>\n",
       "      <td>ae264e3637204a6fb9bb56bc8210ddfd</td>\n",
       "      <td>bogo</td>\n",
       "      <td>1.0</td>\n",
       "      <td>1</td>\n",
       "      <td>1</td>\n",
       "      <td>1</td>\n",
       "      <td>0</td>\n",
       "    </tr>\n",
       "    <tr>\n",
       "      <th>1</th>\n",
       "      <td>0.50</td>\n",
       "      <td>120</td>\n",
       "      <td>4d5c57ea9a6940dd891ad53e9dbe8da0</td>\n",
       "      <td>bogo</td>\n",
       "      <td>1.0</td>\n",
       "      <td>1</td>\n",
       "      <td>1</td>\n",
       "      <td>1</td>\n",
       "      <td>1</td>\n",
       "    </tr>\n",
       "    <tr>\n",
       "      <th>2</th>\n",
       "      <td>0.00</td>\n",
       "      <td>96</td>\n",
       "      <td>3f207df678b143eea3cee63160fa8bed</td>\n",
       "      <td>informational</td>\n",
       "      <td>0.0</td>\n",
       "      <td>1</td>\n",
       "      <td>1</td>\n",
       "      <td>0</td>\n",
       "      <td>1</td>\n",
       "    </tr>\n",
       "    <tr>\n",
       "      <th>3</th>\n",
       "      <td>0.25</td>\n",
       "      <td>168</td>\n",
       "      <td>9b98b8c7a33c4b65b9aebfe6a799e6d9</td>\n",
       "      <td>bogo</td>\n",
       "      <td>0.5</td>\n",
       "      <td>1</td>\n",
       "      <td>1</td>\n",
       "      <td>0</td>\n",
       "      <td>1</td>\n",
       "    </tr>\n",
       "    <tr>\n",
       "      <th>4</th>\n",
       "      <td>1.00</td>\n",
       "      <td>240</td>\n",
       "      <td>0b1e1539f2cc45b7b9fa7c272da2e1d7</td>\n",
       "      <td>discount</td>\n",
       "      <td>0.5</td>\n",
       "      <td>1</td>\n",
       "      <td>0</td>\n",
       "      <td>0</td>\n",
       "      <td>1</td>\n",
       "    </tr>\n",
       "  </tbody>\n",
       "</table>\n",
       "</div>"
      ],
      "text/plain": [
       "   difficulty  total_durh                          offer_id     offer_type  \\\n",
       "0        0.50         168  ae264e3637204a6fb9bb56bc8210ddfd           bogo   \n",
       "1        0.50         120  4d5c57ea9a6940dd891ad53e9dbe8da0           bogo   \n",
       "2        0.00          96  3f207df678b143eea3cee63160fa8bed  informational   \n",
       "3        0.25         168  9b98b8c7a33c4b65b9aebfe6a799e6d9           bogo   \n",
       "4        1.00         240  0b1e1539f2cc45b7b9fa7c272da2e1d7       discount   \n",
       "\n",
       "   reward  ch_email  ch_mobile  ch_social  ch_web  \n",
       "0     1.0         1          1          1       0  \n",
       "1     1.0         1          1          1       1  \n",
       "2     0.0         1          1          0       1  \n",
       "3     0.5         1          1          0       1  \n",
       "4     0.5         1          0          0       1  "
      ]
     },
     "execution_count": 116,
     "metadata": {},
     "output_type": "execute_result"
    }
   ],
   "source": [
    "#Let check the data of cleaned portfolio now\n",
    "clean_portfolio.head()"
   ]
  },
  {
   "cell_type": "code",
   "execution_count": 117,
   "metadata": {},
   "outputs": [],
   "source": [
    "# to replace offer_id with simple ones\n",
    "new_offer_id = clean_portfolio['offer_id'].astype('category').cat.categories.tolist()\n",
    "replaced_offer_id = {'offer_id' : {k: v for k,v in zip(new_offer_id,list(range(1,len(new_offer_id)+1)))}}"
   ]
  },
  {
   "cell_type": "code",
   "execution_count": 118,
   "metadata": {
    "scrolled": true
   },
   "outputs": [
    {
     "data": {
      "text/plain": [
       "{'offer_id': {'0b1e1539f2cc45b7b9fa7c272da2e1d7': 1,\n",
       "  '2298d6c36e964ae4a3e7e9706d1fb8c2': 2,\n",
       "  '2906b810c7d4411798c6938adc9daaa5': 3,\n",
       "  '3f207df678b143eea3cee63160fa8bed': 4,\n",
       "  '4d5c57ea9a6940dd891ad53e9dbe8da0': 5,\n",
       "  '5a8bc65990b245e5a138643cd4eb9837': 6,\n",
       "  '9b98b8c7a33c4b65b9aebfe6a799e6d9': 7,\n",
       "  'ae264e3637204a6fb9bb56bc8210ddfd': 8,\n",
       "  'f19421c1d4aa40978ebb69ca19b0e20d': 9,\n",
       "  'fafdcd668e3743c1bb461111dcafc2a4': 10}}"
      ]
     },
     "execution_count": 118,
     "metadata": {},
     "output_type": "execute_result"
    }
   ],
   "source": [
    "# check  the new offer id labels \n",
    "replaced_offer_id"
   ]
  },
  {
   "cell_type": "code",
   "execution_count": 119,
   "metadata": {},
   "outputs": [],
   "source": [
    "#replace the categorical values in the column-offer_id with by numberical values\n",
    "clean_portfolio.replace(replaced_offer_id, inplace=True)"
   ]
  },
  {
   "cell_type": "code",
   "execution_count": 120,
   "metadata": {},
   "outputs": [],
   "source": [
    "# replace 'offer_type' by integers \n",
    "new_offer_type = clean_portfolio['offer_type'].astype('category').cat.categories.tolist()\n",
    "replaced_offer_type = {'offer_type' : {k: v for k,v in zip(new_offer_type,list(range(1,len(new_offer_type)+1)))}}"
   ]
  },
  {
   "cell_type": "code",
   "execution_count": 121,
   "metadata": {},
   "outputs": [
    {
     "name": "stdout",
     "output_type": "stream",
     "text": [
      "{'offer_type': {'bogo': 1, 'discount': 2, 'informational': 3}}\n"
     ]
    }
   ],
   "source": [
    "# Let us check the new offer types labels\n",
    "print(replaced_offer_type)"
   ]
  },
  {
   "cell_type": "code",
   "execution_count": 122,
   "metadata": {},
   "outputs": [],
   "source": [
    "# Let us replace values in the column-offer_type  by numberical values\n",
    "clean_portfolio.replace(replaced_offer_type, inplace=True)"
   ]
  },
  {
   "cell_type": "code",
   "execution_count": 123,
   "metadata": {},
   "outputs": [
    {
     "name": "stdout",
     "output_type": "stream",
     "text": [
      "<class 'pandas.core.frame.DataFrame'>\n",
      "RangeIndex: 10 entries, 0 to 9\n",
      "Data columns (total 9 columns):\n",
      "difficulty    10 non-null float64\n",
      "total_durh    10 non-null int64\n",
      "offer_id      10 non-null int64\n",
      "offer_type    10 non-null int64\n",
      "reward        10 non-null float64\n",
      "ch_email      10 non-null int64\n",
      "ch_mobile     10 non-null int64\n",
      "ch_social     10 non-null int64\n",
      "ch_web        10 non-null int64\n",
      "dtypes: float64(2), int64(7)\n",
      "memory usage: 800.0 bytes\n"
     ]
    }
   ],
   "source": [
    "#Let us see the cleaned portfolio column details\n",
    "clean_portfolio.info()"
   ]
  },
  {
   "cell_type": "code",
   "execution_count": 124,
   "metadata": {
    "scrolled": false
   },
   "outputs": [
    {
     "data": {
      "text/html": [
       "<div>\n",
       "<style scoped>\n",
       "    .dataframe tbody tr th:only-of-type {\n",
       "        vertical-align: middle;\n",
       "    }\n",
       "\n",
       "    .dataframe tbody tr th {\n",
       "        vertical-align: top;\n",
       "    }\n",
       "\n",
       "    .dataframe thead th {\n",
       "        text-align: right;\n",
       "    }\n",
       "</style>\n",
       "<table border=\"1\" class=\"dataframe\">\n",
       "  <thead>\n",
       "    <tr style=\"text-align: right;\">\n",
       "      <th></th>\n",
       "      <th>difficulty</th>\n",
       "      <th>total_durh</th>\n",
       "      <th>offer_id</th>\n",
       "      <th>offer_type</th>\n",
       "      <th>reward</th>\n",
       "      <th>ch_email</th>\n",
       "      <th>ch_mobile</th>\n",
       "      <th>ch_social</th>\n",
       "      <th>ch_web</th>\n",
       "    </tr>\n",
       "  </thead>\n",
       "  <tbody>\n",
       "    <tr>\n",
       "      <th>0</th>\n",
       "      <td>0.50</td>\n",
       "      <td>168</td>\n",
       "      <td>8</td>\n",
       "      <td>1</td>\n",
       "      <td>1.0</td>\n",
       "      <td>1</td>\n",
       "      <td>1</td>\n",
       "      <td>1</td>\n",
       "      <td>0</td>\n",
       "    </tr>\n",
       "    <tr>\n",
       "      <th>1</th>\n",
       "      <td>0.50</td>\n",
       "      <td>120</td>\n",
       "      <td>5</td>\n",
       "      <td>1</td>\n",
       "      <td>1.0</td>\n",
       "      <td>1</td>\n",
       "      <td>1</td>\n",
       "      <td>1</td>\n",
       "      <td>1</td>\n",
       "    </tr>\n",
       "    <tr>\n",
       "      <th>2</th>\n",
       "      <td>0.00</td>\n",
       "      <td>96</td>\n",
       "      <td>4</td>\n",
       "      <td>3</td>\n",
       "      <td>0.0</td>\n",
       "      <td>1</td>\n",
       "      <td>1</td>\n",
       "      <td>0</td>\n",
       "      <td>1</td>\n",
       "    </tr>\n",
       "    <tr>\n",
       "      <th>3</th>\n",
       "      <td>0.25</td>\n",
       "      <td>168</td>\n",
       "      <td>7</td>\n",
       "      <td>1</td>\n",
       "      <td>0.5</td>\n",
       "      <td>1</td>\n",
       "      <td>1</td>\n",
       "      <td>0</td>\n",
       "      <td>1</td>\n",
       "    </tr>\n",
       "    <tr>\n",
       "      <th>4</th>\n",
       "      <td>1.00</td>\n",
       "      <td>240</td>\n",
       "      <td>1</td>\n",
       "      <td>2</td>\n",
       "      <td>0.5</td>\n",
       "      <td>1</td>\n",
       "      <td>0</td>\n",
       "      <td>0</td>\n",
       "      <td>1</td>\n",
       "    </tr>\n",
       "  </tbody>\n",
       "</table>\n",
       "</div>"
      ],
      "text/plain": [
       "   difficulty  total_durh  offer_id  offer_type  reward  ch_email  ch_mobile  \\\n",
       "0        0.50         168         8           1     1.0         1          1   \n",
       "1        0.50         120         5           1     1.0         1          1   \n",
       "2        0.00          96         4           3     0.0         1          1   \n",
       "3        0.25         168         7           1     0.5         1          1   \n",
       "4        1.00         240         1           2     0.5         1          0   \n",
       "\n",
       "   ch_social  ch_web  \n",
       "0          1       0  \n",
       "1          1       1  \n",
       "2          0       1  \n",
       "3          0       1  \n",
       "4          0       1  "
      ]
     },
     "execution_count": 124,
     "metadata": {},
     "output_type": "execute_result"
    }
   ],
   "source": [
    "#let us see the data of cleaned portfolio\n",
    "clean_portfolio.head()"
   ]
  },
  {
   "cell_type": "code",
   "execution_count": 125,
   "metadata": {},
   "outputs": [],
   "source": [
    "#Summary- Portfolio dataset cleaning\n",
    "#Renamed column 'id'  to 'offer_id'.\n",
    "#Duration column converted from days to hours\n",
    "#Renamed -duration to duration_hours\n",
    "#Normalized 'difficulty' and 'reward' features using the MinMaxScaler.\n",
    "#Created dummy variables from the 'channels' column using one-hot encoding then Drop the 'channels' column.\n",
    "#Replaced the 'offer_id' with easy ids.\n",
    "#Replaced the 'offer_type' by integers for - bogo, discount, informational ."
   ]
  },
  {
   "cell_type": "code",
   "execution_count": 126,
   "metadata": {},
   "outputs": [],
   "source": [
    "#Profile Dataset cleaning"
   ]
  },
  {
   "cell_type": "code",
   "execution_count": 127,
   "metadata": {},
   "outputs": [],
   "source": [
    "# Let us make a copy of profile dataset.\n",
    "clean_profile = profile.copy()"
   ]
  },
  {
   "cell_type": "code",
   "execution_count": 128,
   "metadata": {
    "scrolled": true
   },
   "outputs": [
    {
     "data": {
      "text/html": [
       "<div>\n",
       "<style scoped>\n",
       "    .dataframe tbody tr th:only-of-type {\n",
       "        vertical-align: middle;\n",
       "    }\n",
       "\n",
       "    .dataframe tbody tr th {\n",
       "        vertical-align: top;\n",
       "    }\n",
       "\n",
       "    .dataframe thead th {\n",
       "        text-align: right;\n",
       "    }\n",
       "</style>\n",
       "<table border=\"1\" class=\"dataframe\">\n",
       "  <thead>\n",
       "    <tr style=\"text-align: right;\">\n",
       "      <th></th>\n",
       "      <th>age</th>\n",
       "      <th>became_member_on</th>\n",
       "      <th>gender</th>\n",
       "      <th>id</th>\n",
       "      <th>income</th>\n",
       "    </tr>\n",
       "  </thead>\n",
       "  <tbody>\n",
       "    <tr>\n",
       "      <th>0</th>\n",
       "      <td>118</td>\n",
       "      <td>20170212</td>\n",
       "      <td>None</td>\n",
       "      <td>68be06ca386d4c31939f3a4f0e3dd783</td>\n",
       "      <td>NaN</td>\n",
       "    </tr>\n",
       "    <tr>\n",
       "      <th>1</th>\n",
       "      <td>55</td>\n",
       "      <td>20170715</td>\n",
       "      <td>F</td>\n",
       "      <td>0610b486422d4921ae7d2bf64640c50b</td>\n",
       "      <td>112000.0</td>\n",
       "    </tr>\n",
       "    <tr>\n",
       "      <th>2</th>\n",
       "      <td>118</td>\n",
       "      <td>20180712</td>\n",
       "      <td>None</td>\n",
       "      <td>38fe809add3b4fcf9315a9694bb96ff5</td>\n",
       "      <td>NaN</td>\n",
       "    </tr>\n",
       "    <tr>\n",
       "      <th>3</th>\n",
       "      <td>75</td>\n",
       "      <td>20170509</td>\n",
       "      <td>F</td>\n",
       "      <td>78afa995795e4d85b5d9ceeca43f5fef</td>\n",
       "      <td>100000.0</td>\n",
       "    </tr>\n",
       "    <tr>\n",
       "      <th>4</th>\n",
       "      <td>118</td>\n",
       "      <td>20170804</td>\n",
       "      <td>None</td>\n",
       "      <td>a03223e636434f42ac4c3df47e8bac43</td>\n",
       "      <td>NaN</td>\n",
       "    </tr>\n",
       "  </tbody>\n",
       "</table>\n",
       "</div>"
      ],
      "text/plain": [
       "   age  became_member_on gender                                id    income\n",
       "0  118          20170212   None  68be06ca386d4c31939f3a4f0e3dd783       NaN\n",
       "1   55          20170715      F  0610b486422d4921ae7d2bf64640c50b  112000.0\n",
       "2  118          20180712   None  38fe809add3b4fcf9315a9694bb96ff5       NaN\n",
       "3   75          20170509      F  78afa995795e4d85b5d9ceeca43f5fef  100000.0\n",
       "4  118          20170804   None  a03223e636434f42ac4c3df47e8bac43       NaN"
      ]
     },
     "execution_count": 128,
     "metadata": {},
     "output_type": "execute_result"
    }
   ],
   "source": [
    "#See the contents of the clean_profile \n",
    "clean_profile.head()"
   ]
  },
  {
   "cell_type": "code",
   "execution_count": 129,
   "metadata": {},
   "outputs": [],
   "source": [
    "# Let us rename column -id as customer_id\n",
    "clean_profile.rename(columns={'id':'customer_id'},inplace=True)"
   ]
  },
  {
   "cell_type": "code",
   "execution_count": 130,
   "metadata": {
    "scrolled": true
   },
   "outputs": [
    {
     "data": {
      "text/plain": [
       "Index(['age', 'became_member_on', 'gender', 'customer_id', 'income'], dtype='object')"
      ]
     },
     "execution_count": 130,
     "metadata": {},
     "output_type": "execute_result"
    }
   ],
   "source": [
    "# Let us see the columns in clean_profile\n",
    "clean_profile.columns"
   ]
  },
  {
   "cell_type": "code",
   "execution_count": 131,
   "metadata": {},
   "outputs": [],
   "source": [
    "# Make the customer_id column as first column  \n",
    "clean_profile = clean_profile.reindex(columns=['customer_id', 'age', 'became_member_on', 'gender', 'income'])"
   ]
  },
  {
   "cell_type": "code",
   "execution_count": 132,
   "metadata": {},
   "outputs": [
    {
     "data": {
      "text/plain": [
       "Index(['customer_id', 'age', 'became_member_on', 'gender', 'income'], dtype='object')"
      ]
     },
     "execution_count": 132,
     "metadata": {},
     "output_type": "execute_result"
    }
   ],
   "source": [
    "# Let us see the columns again\n",
    "clean_profile.columns"
   ]
  },
  {
   "cell_type": "code",
   "execution_count": 133,
   "metadata": {},
   "outputs": [],
   "source": [
    "# Let us change column-customer_id to numbers\n",
    "heading_customer_id = clean_profile['customer_id'].astype('category').cat.categories.tolist()\n",
    "replaced_customer_id = {'customer_id' : {k: v for k,v in zip(heading_customer_id,list(range(1,len(heading_customer_id)+1)))}}"
   ]
  },
  {
   "cell_type": "code",
   "execution_count": 134,
   "metadata": {},
   "outputs": [
    {
     "data": {
      "text/plain": [
       "{'customer_id': {'0009655768c64bdeb2e877511632db8f': 1,\n",
       "  '00116118485d4dfda04fdbaba9a87b5c': 2,\n",
       "  '0011e0d4e6b944f998e987f904e8c1e5': 3,\n",
       "  '0020c2b971eb4e9188eac86d93036a77': 4,\n",
       "  '0020ccbbb6d84e358d3414a3ff76cffd': 5,\n",
       "  '003d66b6608740288d6cc97a6903f4f0': 6,\n",
       "  '00426fe3ffde4c6b9cb9ad6d077a13ea': 7,\n",
       "  '004b041fbfe44859945daa2c7f79ee64': 8,\n",
       "  '004c5799adbf42868b9cff0396190900': 9,\n",
       "  '005500a7188546ff8a767329a2f7c76a': 10,\n",
       "  '0056df74b63b4298809f0b375a304cf4': 11,\n",
       "  '0063def0f9c14bc4805322a488839b32': 12,\n",
       "  '0069a50874d846438e58acff5e594725': 13,\n",
       "  '00715b6e55c3431cb56ff7307eb19675': 14,\n",
       "  '0082fd87c18f45f2be70dbcbb0fb8aad': 15,\n",
       "  '00840a2ca5d2408e982d56544dc14ffd': 16,\n",
       "  '00857b24b13f4fe0ad17b605f00357f5': 17,\n",
       "  '008d7088107b468893889da0ede0df5c': 18,\n",
       "  '0091d2b6a5ea4defaa8393e4e816db60': 19,\n",
       "  '0092a132ead946ceb30d11a1ed513d20': 20,\n",
       "  '0099bf30e4cb4265875266eb3eb25eab': 21,\n",
       "  '009d10c2c38a4fd795a7bc6ddbbddb78': 22,\n",
       "  '00a794f62b9a48beb58f8f6c02c2f1a6': 23,\n",
       "  '00ad4c2cace94f67a6354ec90d6c6f45': 24,\n",
       "  '00ae03011f9f49b8a4b3e6d416678b0b': 25,\n",
       "  '00aee28bbb3848dd8a31f0c91dc267dd': 26,\n",
       "  '00b18b535d6d4f779dea4dc9ac451478': 27,\n",
       "  '00b3400e4ff64ee68ce9ada1d0c222f0': 28,\n",
       "  '00b3c376db2a4115af3aef34a02f61d6': 29,\n",
       "  '00b5fb9d842d437e83033ad9e36f7148': 30,\n",
       "  '00b901d68f8f4fd68075184cd0f772d2': 31,\n",
       "  '00bbce6533f44ddeaf4dd32bcab55441': 32,\n",
       "  '00bc42a62f884b41a13cc595856cf7c3': 33,\n",
       "  '00bc983061d3471e8c8e74d31b7c8b6f': 34,\n",
       "  '00c20a9202d5475190b31a24de6fb06d': 35,\n",
       "  '00c2f812f4604c8893152a5c6572030e': 36,\n",
       "  '00c32a104f0c4065b5b552895fb22e34': 37,\n",
       "  '00c5a385c71a4d3db5e9b4e31e430943': 38,\n",
       "  '00c6035df45840038a72766c6d27a0db': 39,\n",
       "  '00c91f31f5f74e769fa7a359b63e1a9f': 40,\n",
       "  '00ceaf16a40341e6996d543d04daa2c2': 41,\n",
       "  '00cf1bbec83f4a658f8994e556db4633': 42,\n",
       "  '00cf471ed1aa42a8bdde5561d67da2b1': 43,\n",
       "  '00d6dc87be4146ceb47fcd4baaaf6477': 44,\n",
       "  '00d791e20c564add8056498e40eb56cc': 45,\n",
       "  '00d7c95f793a4212af44e632fdc1e431': 46,\n",
       "  '00d91c5919514448bc4f718e4e3f26ab': 47,\n",
       "  '00e20b4ca129458aaab0f4727ef3513a': 48,\n",
       "  '00e52682848542c3a6f59b7824e9a5c5': 49,\n",
       "  '00e8d701c583461e81cc10053681a12b': 50,\n",
       "  '00e9f403afa641889cd034ee7c7ca6e9': 51,\n",
       "  '00ed7e22b32749cfafbfd88592d401d4': 52,\n",
       "  '00ee2ca6421c4af0aeca60a1b3e00f6c': 53,\n",
       "  '00ee69db83964d6da32f8109b32a1ce7': 54,\n",
       "  '00fac72fd6ad448e8019b175267023df': 55,\n",
       "  '00fbb9b5edb94f02afbaf1eb49bb4d7d': 56,\n",
       "  '00fdd4416dec40b49180814c0a7c8d76': 57,\n",
       "  '0100dbd4e8554aa69b73b6ac0547f6bf': 58,\n",
       "  '0103de989e084e0fab400e80678d7591': 59,\n",
       "  '0106d19a26af41288035afc4b9b6c2c2': 60,\n",
       "  '01162252405b4524a8fa1bf8e6d5f04b': 61,\n",
       "  '01176ee7289b48e39ee6261d5c071a07': 62,\n",
       "  '0118fbb66dd2443a9dd407d2c99a7672': 63,\n",
       "  '0121fe001b7a404fa9cbe486f8944baf': 64,\n",
       "  '0123564dbaf144a88a418c33b6350c17': 65,\n",
       "  '012ee55a90bd4d969b0d0cdfaffdf6ab': 66,\n",
       "  '013094309e1b49e095c098df412d125d': 67,\n",
       "  '01380da907f8495496679c795867790b': 68,\n",
       "  '013f2c82889f4641a9b847a48861cce0': 69,\n",
       "  '0141d3870a424c03a20390040efad826': 70,\n",
       "  '01443a2afce54939a323c978f467c540': 71,\n",
       "  '014899c751254a62a96ce676eb11ddc2': 72,\n",
       "  '0155a21497d54684a55c3bc609843768': 73,\n",
       "  '0157e63b39c5456393026c6c03f3d84a': 74,\n",
       "  '015c3d28c67e46aa95e9ec97c27220e8': 75,\n",
       "  '015ef929e016415098eeae8ce59da721': 76,\n",
       "  '015fb0b3fbaa4aceb910fbdf272f7547': 77,\n",
       "  '016086228d58476599d0b47881c25509': 78,\n",
       "  '01613170f679422a8acfa96f0f19fdf2': 79,\n",
       "  '01633b71b3a2457aa7d35d8bcc3afb5a': 80,\n",
       "  '016871ea865d4338975026ae08d221d0': 81,\n",
       "  '016b37032984457fb33ba2767fcc8c9f': 82,\n",
       "  '016edb1d1d67477391c5337545a5d98a': 83,\n",
       "  '017160c1cdb845d48abec3c330b4427e': 84,\n",
       "  '01772eae932447f9a853461a60820dc6': 85,\n",
       "  '01784d3e205548a594ba3fcdbdaaf17d': 86,\n",
       "  '017a93d1204f457bbe85f5e7de062b56': 87,\n",
       "  '017febbe52e64ac19cf28cf0d44386e4': 88,\n",
       "  '01873cc8de734961949af7c04b2e9872': 89,\n",
       "  '01887dcd32b64feb807e2436548b6c87': 90,\n",
       "  '018a49ffb8cf4812903e7c1f56fbb0b0': 91,\n",
       "  '018b8f83176d471db63d9733c741fc8a': 92,\n",
       "  '01925607d99c460996c281f17cdbb9e2': 93,\n",
       "  '0193c118afe84208b33ffeb1dcb277d8': 94,\n",
       "  '01956670cf414b309675aa73368b94a9': 95,\n",
       "  '0196d2062b8d4d019b8d96292266e8a4': 96,\n",
       "  '0199681637524988a14245632b8376af': 97,\n",
       "  '019be0c6f8fd4000b1967c7308b4bdf4': 98,\n",
       "  '019cc78d8fed432ca6df71c132c72a99': 99,\n",
       "  '019ed95d987446e3947da0246cdab831': 100,\n",
       "  '01a202a9021e40aeaa5451a5d134c16c': 101,\n",
       "  '01a5e8b57bc04e0292525f3e2817fa17': 102,\n",
       "  '01ab25c31f034f85bc4ac9d286fb7a76': 103,\n",
       "  '01ac633821f0498893320b41b5b22dfc': 104,\n",
       "  '01b6d7e8f0884deb936a8a7f15dba895': 105,\n",
       "  '01d26f638c274aa0b965d24cefe3183f': 106,\n",
       "  '01d7da27b8934ba1b3602a0153e4415f': 107,\n",
       "  '01de69b5edab4b89859ea8a7214ba35a': 108,\n",
       "  '01e09d713abe4a36a70a33fe4b40534e': 109,\n",
       "  '01e57718fc6b49b2875a9c02b32905b1': 110,\n",
       "  '01e8739670a042b3877f8e843bdf55a7': 111,\n",
       "  '01e91c5bc14148b2a4de0ce819e4c500': 112,\n",
       "  '01e97a4633bf4963838a4aa9ed1dce3e': 113,\n",
       "  '01ef4c6618b64334a15914ff9963eaac': 114,\n",
       "  '01f33ff554d0443a9841adfd66d253f6': 115,\n",
       "  '01f46a5191424005af436cdf48a5da7c': 116,\n",
       "  '01f663b988964a4caca8b19abecb551d': 117,\n",
       "  '01fe5ec668f241608eb2f7ec374cb1b7': 118,\n",
       "  '01ff6c5d8d014dbd8c120e2b43a065ea': 119,\n",
       "  '0200f61c69da4c2ea078842cdaf234e6': 120,\n",
       "  '020354b1aea342cbaa018993f68fba68': 121,\n",
       "  '0206e1388c34454caba2b7fce3123943': 122,\n",
       "  '020be6e9805649858595dfbaab15ccd7': 123,\n",
       "  '020be8b0fafa446ebcce6449b20bc92c': 124,\n",
       "  '020c2d7b3d1b4d24b9502626b2d7ef46': 125,\n",
       "  '020cd0f8047142e18a754303f9337d53': 126,\n",
       "  '020d3a52b9ce432ea5f98fc58e9bfcc4': 127,\n",
       "  '020d72e77c704c42bb0a858c1aaa3bcd': 128,\n",
       "  '0215efe5136d4a038cb81eae92d59368': 129,\n",
       "  '021616b8deea46438e3badc7fca5894d': 130,\n",
       "  '0217c4393fd54e74a523b63c0fcc3da5': 131,\n",
       "  '0218964095c94da0bfac44cf40c9343f': 132,\n",
       "  '021adce38ab34ede96422ae107643fd5': 133,\n",
       "  '021c1940868647efbcb40ccdb942813b': 134,\n",
       "  '0222d267445f4f078bc325224e471766': 135,\n",
       "  '0223ed57fef54575ac0b256937dc68fa': 136,\n",
       "  '0225045e245f4b7289cc55c0b5870ae2': 137,\n",
       "  '022f5553a0704b53ba26f2d23cb1234d': 138,\n",
       "  '0231c913a51e420783be6bdeb75aa842': 139,\n",
       "  '023411b8a45a4715979dae6cec425a8b': 140,\n",
       "  '023a42cf62f742b795a975d56955e220': 141,\n",
       "  '023fd15e56184ec19e23ed5a31c87543': 142,\n",
       "  '024218e67fa549a4a0a99b32b7b6fbf9': 143,\n",
       "  '0246e7cc7a3d4a98a940cb13776b5b55': 144,\n",
       "  '0246f8fdf0b64014a98822b70231c58d': 145,\n",
       "  '0247953d899b4a99acab74fa0a807c0f': 146,\n",
       "  '0251876076024444864473545adce065': 147,\n",
       "  '0252aa6f0dee4585ba886945c60f48f5': 148,\n",
       "  '02557fafcf334c30a22c312c5647f71a': 149,\n",
       "  '026876bc8c6a4e0c8e330342c92cc844': 150,\n",
       "  '027561a162a54d86b6d45af5071c4d27': 151,\n",
       "  '027596e6ed19471392923eb833b25fd3': 152,\n",
       "  '02765747959045a0a7c452888b2f31eb': 153,\n",
       "  '0276c9a3092d4f79a29d61a1462f9b4d': 154,\n",
       "  '027c18923c0146e58ccd615f6a62d82f': 155,\n",
       "  '02865fee714e466e99f9bb7a7203887b': 156,\n",
       "  '028a12f0ee584455850300886174f3d7': 157,\n",
       "  '028c88a958e54c36a31c4800fd6e887b': 158,\n",
       "  '0295719cd357460cbab54f2392b01d19': 159,\n",
       "  '029e063479234fb1b6c8727c3d45de62': 160,\n",
       "  '02a00d256444415da8460cd2a3457ea7': 161,\n",
       "  '02a3aa431c1047be8eafec3dcd6b5fd0': 162,\n",
       "  '02a458e1233342b79caff81edbcc30a9': 163,\n",
       "  '02abd909ebc94aca8766f3f0ee39db80': 164,\n",
       "  '02b148f44eee4b9ca7487371472a6781': 165,\n",
       "  '02b5aa5725f94bcb94ca58208015b7bc': 166,\n",
       "  '02b6895b3cab4f79a116bddc1c70b5c3': 167,\n",
       "  '02b7a80a321c4b078af92d494cc0f012': 168,\n",
       "  '02ba8c272f284139abef53e0290bfb67': 169,\n",
       "  '02c083884c7d45b39cc68e1314fec56c': 170,\n",
       "  '02c6daf74a49491ca397f105ef944784': 171,\n",
       "  '02c89861ce2c4010bf4ed63f6f6d5df3': 172,\n",
       "  '02c8c9806a8c44f792a218fb2e8756b3': 173,\n",
       "  '02d206df55d54efda515783e1c525e8d': 174,\n",
       "  '02d2c404f19440ff9038c0d60a695cbd': 175,\n",
       "  '02db8af535e54416a01aff51836d166f': 176,\n",
       "  '02dd040b77914163b1fd02efc3976d55': 177,\n",
       "  '02e2211319524b9e8bd09794d00d8513': 178,\n",
       "  '02e4c9dff62e4857a429a4be3ba73ed0': 179,\n",
       "  '02e5396559f94469b6d03e40d85830c7': 180,\n",
       "  '02e6dbe7c694441a88f9160b6b0e1a35': 181,\n",
       "  '02e6dd10b22c43fcb5a2dfc0038dac22': 182,\n",
       "  '02eba2268a3640bb8e85880e12617c5f': 183,\n",
       "  '02efe2a67be247a686f79ba1cbce42f1': 184,\n",
       "  '02efe413dd194069ab58abde38ab5e02': 185,\n",
       "  '02f446e152254ab7b01e29698932dd01': 186,\n",
       "  '02f638a6c98241c98b24a06ca489aac0': 187,\n",
       "  '02f77bb76ed14d28a05e23b3e00aeb9b': 188,\n",
       "  '03019e49a5164723ae527bbd6949e0c1': 189,\n",
       "  '0305b52a24744a9bb660bffc6b39e884': 190,\n",
       "  '030c30c1955f4a17be09b692caf5ec5f': 191,\n",
       "  '03118ab70a404fada1a433cd6abaa491': 192,\n",
       "  '031387fa9cfd47e88f4e4b4b4cb71925': 193,\n",
       "  '03257d4fcb6641aebaa46d5605d205ca': 194,\n",
       "  '032aaa79b15e4103a9e91a786d416734': 195,\n",
       "  '0335d274249f4eb6b3c51527f02a3216': 196,\n",
       "  '03361f5f681e46ad97796d52caf9afa2': 197,\n",
       "  '03374e3f14564b36a7138154ed8c194a': 198,\n",
       "  '033bf5269a494dd787e5e9f4a45b843c': 199,\n",
       "  '033d0a511a5c452ea2be37a23f8c6dcb': 200,\n",
       "  '033f0ee2250e475b87f70115e7895957': 201,\n",
       "  '033fed8bb1504885b866429db25543a0': 202,\n",
       "  '0340f0361285411ab60a24823b020112': 203,\n",
       "  '0342c7c449a84440b3f7a80ad095761a': 204,\n",
       "  '0345b2da6507473ca4400ed84dc6725a': 205,\n",
       "  '034946bd82b34a219b556a47f1200828': 206,\n",
       "  '034b962ed61d4da1bb0baaec84cc2e85': 207,\n",
       "  '034ce97360c6485ab990d903343f9f08': 208,\n",
       "  '034dcdec0a0547a19d77dcf2bc8ecc48': 209,\n",
       "  '03533ca5a4244ca3ac48b9c8ccba8332': 210,\n",
       "  '0355c6a5fdbc429ea5b05e8a9ecd2eae': 211,\n",
       "  '03566626393f43a88c55de21c61761d0': 212,\n",
       "  '03568fe0e51b41a9bd752ec8be307ba5': 213,\n",
       "  '03575a43a3da4691998de01fff617f99': 214,\n",
       "  '035d5aa3c23a4059ae663b4c07aa26ce': 215,\n",
       "  '03637e48ffda4bf9b73b079d03c0bbe3': 216,\n",
       "  '03659e112e884f38afa963dcb243c6a6': 217,\n",
       "  '03676dc08a0a4899b0af5030bb6da6f5': 218,\n",
       "  '036c34e6a32a463db11ebb398a8719b6': 219,\n",
       "  '036e4bedca2045afad50fda2d3b505ab': 220,\n",
       "  '036f1e5cca91478685c8cef24cc8b076': 221,\n",
       "  '03716dbf46394867ba126ebe1ebc202e': 222,\n",
       "  '037334c596b849cc8f8004e4e663b005': 223,\n",
       "  '0375600415e24e0a9fd83ec191d5955d': 224,\n",
       "  '037c3e0c1cd6477dbe15812a05619fc5': 225,\n",
       "  '03833a1fe27f4435917da7e54c6fa48a': 226,\n",
       "  '0383a12d3a2d4fbb86ec83bd0c25eead': 227,\n",
       "  '03887756866f4ea9b74b7e1b83ffac44': 228,\n",
       "  '038d32f25cff4833ab44c5123e42583a': 229,\n",
       "  '0390715ee2a4443eac8582a5941d61a9': 230,\n",
       "  '03922ce960124f4a8c4acd2a332ef296': 231,\n",
       "  '039e0c539c2f4fc582423412a8bceb40': 232,\n",
       "  '03a6837af25144b18936719d7afd5a58': 233,\n",
       "  '03aaca8d2f4448a0a1a4bc1423b3b45a': 234,\n",
       "  '03ab43c52f3f44e3879910eaf9cd138d': 235,\n",
       "  '03adb16f61e44e6594d6d8e38d0a3e64': 236,\n",
       "  '03ae3b023c2540f4969b64b633be5ede': 237,\n",
       "  '03af4a51012e4a00809df85c9279e4e4': 238,\n",
       "  '03b0358ba8d945b3ac283f25969a0cca': 239,\n",
       "  '03b326a99f5345df8b4d21ed26bdb0da': 240,\n",
       "  '03b810ec338c4a85b063449f40c7b9cc': 241,\n",
       "  '03bbce97de8240359c2706a4c9f537f2': 242,\n",
       "  '03c0b69b3db24c70bba1622bc8dd8459': 243,\n",
       "  '03c23b2ec84f4c5296e99c939288bcd4': 244,\n",
       "  '03c7b0b202294fbe8edbd73b0b499fac': 245,\n",
       "  '03cc530b458e4fb180c222777916e9b5': 246,\n",
       "  '03cd7c3f955a4c47bd3caf4e9a2db37c': 247,\n",
       "  '03deb7cf0ebd4c7889a8a9e44df1c50a': 248,\n",
       "  '03e507f56bd34d3dacdecb5eb87111f7': 249,\n",
       "  '03e67807671e4cb4bb34f2ebabc97d28': 250,\n",
       "  '03e866224ec641c58bc93a69be00de9c': 251,\n",
       "  '03ef53e2d3e1436eb3b2042a4825adec': 252,\n",
       "  '03f1ad04292f47b2b1299cc92f8f2a5d': 253,\n",
       "  '03f75ac6db7a457dbd6086e6b86a4fd1': 254,\n",
       "  '03fbbeecf81b468684b50dbe63ac4587': 255,\n",
       "  '03fe8e9f855846c88fd01c4b7b147db7': 256,\n",
       "  '03ff3cf4aec84162be697c28346bdd5a': 257,\n",
       "  '040704e99ab84cd08977858fab9b9276': 258,\n",
       "  '0409252539634eca8a8d1b5407caa582': 259,\n",
       "  '0409df7f3af74e8c813d975fbd4ceb02': 260,\n",
       "  '040b2e6d3e914d609f6764b34b5a3a88': 261,\n",
       "  '0414fcebbd7f4a19bca352622b1c84e2': 262,\n",
       "  '04189492f0aa46f2b6fefe34ffbc7062': 263,\n",
       "  '041967ceb80841ddbd306958d4f744ac': 264,\n",
       "  '041f00ddd6f340b18c174a0c997c9955': 265,\n",
       "  '041fd7c6b796430a867c4e03d2ff8f4d': 266,\n",
       "  '042d7ab61d1143fe9230bcb1af34aa5a': 267,\n",
       "  '04326bc8a2e94fe09557d30388647e52': 268,\n",
       "  '04362cece3104f4ebcb3d49ef0bc7e9c': 269,\n",
       "  '04369aa7ac9a4440a794c471ae7c3f77': 270,\n",
       "  '043702ae29bc426e9f65ef7beb6cd08a': 271,\n",
       "  '043b6b6be98c412d901f7f376e0548d0': 272,\n",
       "  '043bcfeacb874bbc837300701ce25870': 273,\n",
       "  '04452c214f5f401bb1418313c1526cbb': 274,\n",
       "  '044a7e5bbe7f4c66a898ad1dc4bc0049': 275,\n",
       "  '044f41cfd98940119477d73c81f973a3': 276,\n",
       "  '0454292436bd4cee98e8ec873e30433e': 277,\n",
       "  '0456cf6870f849cc9e1ac5ea9e02dccd': 278,\n",
       "  '04698a1182a24807ad4c36f12b67c5ef': 279,\n",
       "  '046a2f9c32c14e7e9ad508f811ebfa2e': 280,\n",
       "  '0471fe94846d40e9b5bc8ec77293720c': 281,\n",
       "  '047a2de0c17849c89d04248c357cab52': 282,\n",
       "  '047ad0135cfe4c0ea5ba019da4de9c52': 283,\n",
       "  '047db31ef98140149f97667abee20860': 284,\n",
       "  '04837bcb97e241769a747cd71c50fe2f': 285,\n",
       "  '0485b8cb0bfc4d938895bbd6d8cbd7df': 286,\n",
       "  '048bf07732684843b6334f8f157af033': 287,\n",
       "  '0494aa6671414fab9837fa3cd45e72bc': 288,\n",
       "  '04a19ef08c9c4648a587d64ff72bf6df': 289,\n",
       "  '04aa84f9a46a4920b70386c3fe60165d': 290,\n",
       "  '04aeb750695a4d9eb3de6ce2ddb7b1e7': 291,\n",
       "  '04bd9be0d1374492800aca71e512ed51': 292,\n",
       "  '04c143b7068e4c32995e1031173bea43': 293,\n",
       "  '04c3b99e274c40b4898ed7653e09cb62': 294,\n",
       "  '04c4f933a8864cccbd4560e090355657': 295,\n",
       "  '04c66db4925042a5bb103fec87225370': 296,\n",
       "  '04c769db13764e6784ecd8e3fc25e207': 297,\n",
       "  '04ca4f4a66934cec9d3bbd8833572cf7': 298,\n",
       "  '04ca68b26ef14fbc96eb01ab1f2d1fc2': 299,\n",
       "  '04cb9d0033f142efa2a367f4ef273460': 300,\n",
       "  '04cfc7c495c1419f9a316c2a9876af97': 301,\n",
       "  '04dc393b52714269877cf4ceda3f78f8': 302,\n",
       "  '04dc7c54fc8147069875a5def52d711e': 303,\n",
       "  '04e0842b079c4113a759aa6e09ea17ed': 304,\n",
       "  '04e0eff0b4704fc291bbe1275f01fb7a': 305,\n",
       "  '04e34b1c5fe64fbcb76bfe47ebbbf015': 306,\n",
       "  '04e39b3e8fc449cfbcafd7dba2429f1c': 307,\n",
       "  '04e44377fe9046a3b5b781d1cc74d064': 308,\n",
       "  '04e4f53f9be74c09a9751838010386e5': 309,\n",
       "  '04e5255c9e754c66b83c06ec70f62203': 310,\n",
       "  '04ea45ec66574a618b0918834ee08fed': 311,\n",
       "  '04ec49d81d154a70b3f0d5f280da3756': 312,\n",
       "  '04f1f44632cd409cace939fa62b5fc7a': 313,\n",
       "  '04f2e86f182d4fc4b7b1a1858c280a38': 314,\n",
       "  '04f59344d54947ed8aa82c25effc9487': 315,\n",
       "  '04fa747cd2d841bcaf08f0a64e82bbef': 316,\n",
       "  '04fad15f96d446f483823ad08857e752': 317,\n",
       "  '04fb6b47e11640139f3ef5d74d7a79a1': 318,\n",
       "  '04fcbc5e1faf4b7bba20116ecb30ca17': 319,\n",
       "  '05018c82b3d241328a5b0558dada3286': 320,\n",
       "  '05037de294c540d3ba92aa627b992066': 321,\n",
       "  '050a57f4d675402ba1a06c8c49a4a200': 322,\n",
       "  '050cdb2d5b4b4bb3b1c612e17e0e8c1b': 323,\n",
       "  '051006a0cddf40e0a973d9317c032086': 324,\n",
       "  '051066a2c1284e23a1e3a2cc1389f23f': 325,\n",
       "  '0514e61ffb1c4b52b8f0bf5ed2a348c7': 326,\n",
       "  '0517e2aca44d4327875c3bb8478e492e': 327,\n",
       "  '051b92f5a9f94328a8721e86905c1d3d': 328,\n",
       "  '051e221bbd75481c8d935f6adcee2edc': 329,\n",
       "  '05298f5390c7417c8dbbcbef9f081800': 330,\n",
       "  '052f1e4cb527405facdb09a0b7e70861': 331,\n",
       "  '05313b089485492aa50683d7f00fcbdd': 332,\n",
       "  '0537e8df8a5a418ab1fd28c2063ad6f8': 333,\n",
       "  '0538071eb35247af8c2816ec75a3c87c': 334,\n",
       "  '053ba80f39aa4e4394ecf2d64d8ca85f': 335,\n",
       "  '053de26a38684d628b83fef38eae0c69': 336,\n",
       "  '05417c4386804c4fa74e34a3ca632f49': 337,\n",
       "  '054244238c794ca380a197a21b2fd6e6': 338,\n",
       "  '054a387e28fb4939abfe484ea801ff3f': 339,\n",
       "  '054cfa16ec4a4757a41b1a4d0fb8add7': 340,\n",
       "  '0552370c278345298835cc70e616c96c': 341,\n",
       "  '0555eeabf1284cfd85c306caf9360d05': 342,\n",
       "  '055640cd12d04eb4b8a51ec67d451fc7': 343,\n",
       "  '055a06b9a6ad42fcaa1fe7706b5e21aa': 344,\n",
       "  '055a2a48b6f84b5ba3427e05e6beeb3f': 345,\n",
       "  '055eab487b874f38b65f3edf31b5eb41': 346,\n",
       "  '055fe39c422643d89a93cf05cf610b2e': 347,\n",
       "  '0561e602225b441aac45ff6e5bb74037': 348,\n",
       "  '056495e7cd754a6c81b25d4ae5ca5e02': 349,\n",
       "  '0565285a6b374513b887f9a6af7fa5bb': 350,\n",
       "  '056b230b94304920a5c289974acaeb0c': 351,\n",
       "  '05703c17280649238ea5005898dc7076': 352,\n",
       "  '05746077fd824d72899e035cf893ce0e': 353,\n",
       "  '0578d2389a8f4e4a81f4d2648b85293e': 354,\n",
       "  '057f6741e0e0438e827cc0b18c601160': 355,\n",
       "  '0580b842b328497ea4bd463af56c17e2': 356,\n",
       "  '0581b31e87c64c92a64e1eb91bca5dc7': 357,\n",
       "  '058406afd91541fbae0060827c0ac156': 358,\n",
       "  '0585b57db9514fc786b29008e693a49d': 359,\n",
       "  '058815f9957648d5ade6e9f8643e5e0a': 360,\n",
       "  '05894078f0a84797a81049d3c3f04402': 361,\n",
       "  '058b4e5020734ba7b48b0b43119bab0f': 362,\n",
       "  '058e689c3b554eaf868897c8cef80c82': 363,\n",
       "  '058e76ac9080489993e6adfbb943fd8d': 364,\n",
       "  '058f0ba7688348b5b95581e513879743': 365,\n",
       "  '05929d20f3c24ffe90b919936b714dc1': 366,\n",
       "  '059de3bbf78b497fa190ecbc20d26521': 367,\n",
       "  '059df2ccba4a442eb5537fbd8519569b': 368,\n",
       "  '05a009c95e8d477cbed5c1661343bbb9': 369,\n",
       "  '05a490c5df01453fb33e6ddd7e1744be': 370,\n",
       "  '05a4da5c46034e42abb4495507d293bd': 371,\n",
       "  '05a4f70725804ceab1daa9dc73734827': 372,\n",
       "  '05aca359cfb04309a05362db256954ae': 373,\n",
       "  '05ad6da25fcf4ea483562a4233cc345f': 374,\n",
       "  '05b0cd60c07e4ffdb1829da2010b55ee': 375,\n",
       "  '05b1e22c61c849c4bddd497795f2ac37': 376,\n",
       "  '05bbe7decb6d43b684221df448979612': 377,\n",
       "  '05bedc6bbcc64a41b1745f6efe00776d': 378,\n",
       "  '05beec1cbeb8481d9bfb5844343ba374': 379,\n",
       "  '05c001b0be8a436dba8f7fdb7ac9273b': 380,\n",
       "  '05c64ce569db467a939173b41889a77a': 381,\n",
       "  '05cf6d57cbb042e29569cd3ca842ba42': 382,\n",
       "  '05dedca5b2034055a64979a2c28b3477': 383,\n",
       "  '05e14ffbb5234affb70068da5fafbb25': 384,\n",
       "  '05e3b4ecea3b45adb9734a2793eeb26f': 385,\n",
       "  '05e42f14818d4e82911557052b334e05': 386,\n",
       "  '05e6bcb70fe14e0da4730527ca35a4ae': 387,\n",
       "  '05e96e45ce6045edbf84b14a6b557a18': 388,\n",
       "  '05ea8d8a95eb4b209a6e048878470df1': 389,\n",
       "  '05f33951bb1047f2a5b277d84c675cab': 390,\n",
       "  '05f4d69f73024172a23a350e611166b4': 391,\n",
       "  '05f5d803302a40d78b0724c86022c7cc': 392,\n",
       "  '05f7979ead604ba1947685f603023b1e': 393,\n",
       "  '05fc000adcf544ed9a726f45adac5896': 394,\n",
       "  '05fc9b1280454d84a712d8cb763c7c79': 395,\n",
       "  '0607b32041f94d65a07835fc9a13416a': 396,\n",
       "  '060c0b9181674d03aa181b75353b9422': 397,\n",
       "  '060f8becdb7543ed82d9ef1afd10e274': 398,\n",
       "  '0610b486422d4921ae7d2bf64640c50b': 399,\n",
       "  '06131d1c0a154320bd9b24af9f51f76d': 400,\n",
       "  '06186260c2554978a92be071e4fe3c79': 401,\n",
       "  '061afeca89524537b960b57b0a609533': 402,\n",
       "  '061e7367906a4d0087b8e8f2f92a313e': 403,\n",
       "  '0622afdf88de4cb4b0b59f08312c344c': 404,\n",
       "  '06277465ef3145f28b6e15acb4a948b6': 405,\n",
       "  '062964a129f64110a3919595cd731141': 406,\n",
       "  '062bebd7d15a422aacfbe41412c1bbd5': 407,\n",
       "  '062d468f10ff4489822fbdd647e57398': 408,\n",
       "  '0632e74a24484c819d06eb086298c406': 409,\n",
       "  '0637650fd20f4bc2a7b416f44f9383d2': 410,\n",
       "  '06476b6b8d2a46a4a6a010ad0bb41698': 411,\n",
       "  '0647d8018845486094ce99b6ca99eb6c': 412,\n",
       "  '064c75dd2f664b5f9c1daa3d588d3073': 413,\n",
       "  '064fd993498c4d628348de2085e9d569': 414,\n",
       "  '0650c7a4df92429f8b695a4b646aa195': 415,\n",
       "  '0651e2ab376f4608886a5b4a310944fc': 416,\n",
       "  '0653f4c3e0524329896a2cbb7a423090': 417,\n",
       "  '065467da18c743a7b8a87c9fd2d536d9': 418,\n",
       "  '06546973bb7942f9bac814496d70678c': 419,\n",
       "  '06609f295aba4e42abdaf07c2f758303': 420,\n",
       "  '066146d1b92b4bd88ca2e7e0729bce5c': 421,\n",
       "  '06647904f5c84f299ec20efa1cf923f4': 422,\n",
       "  '066eb63659fa4f63b80eb829237dfbc4': 423,\n",
       "  '0671319b6dde4602abbab1278752768d': 424,\n",
       "  '0673e9690e874b7b842da2be63d2de84': 425,\n",
       "  '0679b66105224a0c960efdb95f19ee1d': 426,\n",
       "  '067d00749d234d72946b07f1f472fcba': 427,\n",
       "  '067d163ebd2748cf954bd1ccc4cfa4af': 428,\n",
       "  '067ee299952e49328b06da73e2ba1965': 429,\n",
       "  '0681388282b14555ac390bef6c526ed7': 430,\n",
       "  '06833436ed1a4cc1bda33978472e4444': 431,\n",
       "  '06ab01a0775d4b35bceca2d607271874': 432,\n",
       "  '06b1031271174d8596c1996478f07ede': 433,\n",
       "  '06b14580b3d44014b99214631b841e66': 434,\n",
       "  '06b81e95ef4b41d494b03f4832b2c82e': 435,\n",
       "  '06b99e8cc24b426f8a578c749974b88a': 436,\n",
       "  '06c2a531fef542cd89877cb9fb10aaeb': 437,\n",
       "  '06ca908ab8624ea7af1ed69068b47155': 438,\n",
       "  '06ccdaa9fbaa4c21b4321c83bcd2a000': 439,\n",
       "  '06d34b0fb66e4feea9b2c765755a8e1f': 440,\n",
       "  '06d7f5abc31b4a02836349333ac02f33': 441,\n",
       "  '06d95051c47a42f1a0704fca3be979be': 442,\n",
       "  '06de851506d44f9f803058b8e01d4392': 443,\n",
       "  '06e25a9a59f046de9aba0aa367613681': 444,\n",
       "  '06e2f7db27064b629f73908f6b187561': 445,\n",
       "  '06ed8e3c641e4e8e803f336e5b20ddd7': 446,\n",
       "  '06ef15a17adf4d7189287d691d3965e4': 447,\n",
       "  '06f4bfb1cb4c4c968add3d9980a279fa': 448,\n",
       "  '06f7365ea14649b4a54935bd2fa6f5e3': 449,\n",
       "  '0707c762ab764cb2a29fec7f1cb798ba': 450,\n",
       "  '070a3bb5f2874b9da388626c84b4b64a': 451,\n",
       "  '070c6e10c833437d9e28ea80b0af48d8': 452,\n",
       "  '07220f70535d46459cbe0ca0e2c85dec': 453,\n",
       "  '07223b7cc9d448b196562395c8f8d4c7': 454,\n",
       "  '072290a7410e49d3a1e45a89c92c58f3': 455,\n",
       "  '0726974d41e5448ebdbb441f00df925f': 456,\n",
       "  '072731be403a472883bed6c38a8e7aa8': 457,\n",
       "  '072ee847d4c348db9c24669902dc6abb': 458,\n",
       "  '073190b534ba4e36803151ebe0e5ee27': 459,\n",
       "  '073e3ef64e344bc8891732b558582492': 460,\n",
       "  '073fce5708884b30a28b65b3cb15a919': 461,\n",
       "  '073ff5dc4bee4e8c97ab421c19e50549': 462,\n",
       "  '07455479fc8c4b5aba6c50955a5ca60f': 463,\n",
       "  '074b758a424a4d618f97e18bf3e2e4a8': 464,\n",
       "  '074c30edf3194b0e9cebaf64256bcfe1': 465,\n",
       "  '074c9939731945d5a71735d8997a22c5': 466,\n",
       "  '074e7e5b342a4254ad649dc6aeb6fa04': 467,\n",
       "  '0750f076ecc945a99bcec8c00d1291e9': 468,\n",
       "  '075388d9edb74c879d4ab4e4589eac60': 469,\n",
       "  '0758cd8721ca4bb88a32162e244d715f': 470,\n",
       "  '075d0096867d4a08901e1715c038eaa5': 471,\n",
       "  '07636351f331428d8dca7e8c29efa73b': 472,\n",
       "  '07637d5afb234025bc95687f69fc6356': 473,\n",
       "  '076c88aa6fcb464f801327263f961370': 474,\n",
       "  '0777ced8b2004b7e8e33a3cbe0ee3be6': 475,\n",
       "  '07805efd53494b8fa08f661e311dad9e': 476,\n",
       "  '0785f1fce0b04ba08e01c7d2ebab4917': 477,\n",
       "  '078808d49ac341a0a303212f258a3410': 478,\n",
       "  '078d8748630a4a66ba59d6ed6cc023bf': 479,\n",
       "  '078e2d4d278f4525ac4c2ea51bdb66e6': 480,\n",
       "  '0794f1312de44cc3afca03add293fb24': 481,\n",
       "  '0799a98aeb994b8d9a719deccd90ed39': 482,\n",
       "  '079a60e8e7694ffb8d9a4ddf45e85897': 483,\n",
       "  '079bc7a16fe94907911fcac3b93754d5': 484,\n",
       "  '07a00827302441ee968555e2fd20dbcd': 485,\n",
       "  '07adfad3f0c54e738d60fd5a51285486': 486,\n",
       "  '07b37c82377e4e5ba8cf8eb6ed39d052': 487,\n",
       "  '07b3cbbeea81414b9024bea5bc229daa': 488,\n",
       "  '07b78a8616714b58ad3a9ed94126c459': 489,\n",
       "  '07b89f3fed16463b9fb391f40d6e1c58': 490,\n",
       "  '07b9aa69f88a493f91add35a5a87d426': 491,\n",
       "  '07bdb81f215b4ef19653675c6eb2c447': 492,\n",
       "  '07be3211a22c4ff7a09a1944693fefb7': 493,\n",
       "  '07c0543d781742cb94db14afb1420e2a': 494,\n",
       "  '07c21f323f2b41e7abf75e9b66d7ec2c': 495,\n",
       "  '07c44df054f241aab553723ed855ca21': 496,\n",
       "  '07d157fd060949a38730a1872b668c05': 497,\n",
       "  '07d1d0df6d1e467ba9e23844145b1477': 498,\n",
       "  '07d5af069ead41e9994707b6caf0312a': 499,\n",
       "  '07d8e818a7d34429aae9d19958913a58': 500,\n",
       "  '07dc543bf5d24eb9893c1a3f199f275f': 501,\n",
       "  '07df8065f7894333b51f57c1999dfb6c': 502,\n",
       "  '07e29d02d0074da28b430e1dc40cc1fc': 503,\n",
       "  '07e7d74b98e9496eae8226d4af05f33b': 504,\n",
       "  '07ebe89c877e4328b60f4e5676452ee1': 505,\n",
       "  '07f1d6d949634863bb93b0e9fd0dc8f0': 506,\n",
       "  '07f4ec4a70cd456583e224bb6d2d1787': 507,\n",
       "  '08031f6005104429b664b7abd3a54136': 508,\n",
       "  '08081f80dad246c29d7ef266ff3f4765': 509,\n",
       "  '08083d179b0b4c1e895c27261aca17a7': 510,\n",
       "  '0809ff2ff8fe461ea8996377a7abd46d': 511,\n",
       "  '080ee808af4d416ab7c598b3bf2855ba': 512,\n",
       "  '080fc5e11b2a4dbeb88e1ffa952cb638': 513,\n",
       "  '0821c517c4544631b2f540933caeb98b': 514,\n",
       "  '08243bf7c8df469591c0b9d29074463d': 515,\n",
       "  '082624ed9a14484e914323d0cd586ca8': 516,\n",
       "  '083145b8b0004b21bd4433134747c6b2': 517,\n",
       "  '08331c061bd140c2ae27b8d735763e79': 518,\n",
       "  '08377118255f4374b173879fa81b8100': 519,\n",
       "  '083977ebbd00410dbc2054e7fd62513b': 520,\n",
       "  '083d316ee57640689731e5e7be9d5c20': 521,\n",
       "  '0842bae0ce7f4dd283c868b01a19f793': 522,\n",
       "  '0844b119bdc542cdb54188f4f10b7eb1': 523,\n",
       "  '0846873e9e4d4d19afa993278b1e8f3d': 524,\n",
       "  '084afe9e774d4e54b5ccaf786cd29f67': 525,\n",
       "  '084c6cf4cd3a46a288e55ab2213e644c': 526,\n",
       "  '0854b236fc3b422d88cee4cb6d44ce0c': 527,\n",
       "  '08579355f46b49efa8412ddacc4ac832': 528,\n",
       "  '085efb39e80140f08b90e0d77299958b': 529,\n",
       "  '0860d25635e84c6a95c6f32cae8b9c37': 530,\n",
       "  '0861b9ca31b741bb8b411b18f82d18f6': 531,\n",
       "  '0864b88ddd1945ff8982d042d520c7fb': 532,\n",
       "  '086948f6255845fca809c982f452e311': 533,\n",
       "  '086dc8a56e3d467d81bf7e47efca0404': 534,\n",
       "  '086f6cec7c6e4f5c9d401b015f39c764': 535,\n",
       "  '0872d0fa41104fcaaf143ddc1b81a420': 536,\n",
       "  '087339125d104a39bdf4e6e18be64ece': 537,\n",
       "  '0873c38c2c804bc18f5559e4531f2068': 538,\n",
       "  '087d0fcdbf294f7494a96d8d6a56cf41': 539,\n",
       "  '088debab4050432abc4817f192abc702': 540,\n",
       "  '088fe373367145d291e5b03d483accd7': 541,\n",
       "  '08926f1f08c34a4a9681ab3d6a5ef17e': 542,\n",
       "  '08954e2b550f423a98b664ace2d26c7f': 543,\n",
       "  '089884c069654beba55de2442e32ea82': 544,\n",
       "  '089d00cfd1fc45258ce97ebd2e4779f8': 545,\n",
       "  '08a06986ff2d45079b0b8a9322a570bf': 546,\n",
       "  '08a2693d053b4a18ac8276fdf1b396c7': 547,\n",
       "  '08a5adf50a9b40a9b5bb24019d0a55fc': 548,\n",
       "  '08adbb1879624d0bbe54ecc9748fcd57': 549,\n",
       "  '08b352c3e09a42e1900892a317f2b84e': 550,\n",
       "  '08c2d078295b42618969ee039f6156ff': 551,\n",
       "  '08c3111fd2a14bcdabcedbabde4ec93a': 552,\n",
       "  '08c7da2729124558865ab2aa17692fba': 553,\n",
       "  '08d03b9d8e3c4e33b87df24433217301': 554,\n",
       "  '08d06b602c844926a037b0b253901d52': 555,\n",
       "  '08d655efbe574f538c445adac44085b3': 556,\n",
       "  '08dc093548804971b6049d7a50a78f21': 557,\n",
       "  '08df8f2800684b3ba9e1e18d76ef51dd': 558,\n",
       "  '08e5303c6da84aeba3cefb6e8fe370eb': 559,\n",
       "  '08e66f9936c545d4aedf21d35b96baf6': 560,\n",
       "  '08e7c2a166ff44e4a009a18b5e8e4b81': 561,\n",
       "  '08e9830fef754fc7aa560823d6127259': 562,\n",
       "  '08eae23115f745e6a388307d62261686': 563,\n",
       "  '08eb126ad33f447ca3ad076482445c05': 564,\n",
       "  '08eb3d097916423f9649e0be727c7d84': 565,\n",
       "  '08f478cb589a4dcb882a079b1ccffc20': 566,\n",
       "  '08f5b62adc9143de953cf983f435536b': 567,\n",
       "  '08f9f15c18064a80b9ee82256bafd697': 568,\n",
       "  '08fd4c97526a46b58919a0d48ec65434': 569,\n",
       "  '08fee0daaf174feb9944aecc99461d2f': 570,\n",
       "  '08ff04fc9e9243869a95e447674c31e0': 571,\n",
       "  '08ff7a65c7824da19966319a5cd99bc2': 572,\n",
       "  '090025d59b7d41b590b246ae806a19a9': 573,\n",
       "  '09020cacd73b48a7b1d1310dd9ca004b': 574,\n",
       "  '0903e02ddbb7438f8de18081d1595a34': 575,\n",
       "  '09064dd864994ff19040ad8c2b2572ee': 576,\n",
       "  '090787edb9ca42a7ac812641fe2ab118': 577,\n",
       "  '0914283b4a2948d18d7978e28f10ef1f': 578,\n",
       "  '09144b1952844d96b356b7aae28ec80d': 579,\n",
       "  '091c007c27584fb4850eb5fa0ff890e5': 580,\n",
       "  '09218129551d4929a3beea8d3eafd787': 581,\n",
       "  '0922ba5634c748439e91d5c6ed793d8e': 582,\n",
       "  '09271091511549778c0979d64bf3dfac': 583,\n",
       "  '092e0c1da23a48f3bc18627d390e83d5': 584,\n",
       "  '0934678d34c54056b8fb1203d8bad8ab': 585,\n",
       "  '0934fd310ac249179c6b61292cc14e8c': 586,\n",
       "  '09367ecb1ea4474b8810b7ece379e60c': 587,\n",
       "  '093f0c09cc7242228edbb0e52ca14af6': 588,\n",
       "  '094630a89b2e45129af4384494385492': 589,\n",
       "  '09516b73ace043c395bd5292845912f1': 590,\n",
       "  '0951cc66d2f841e99cce016730c3f6da': 591,\n",
       "  '09531802efb9407586a3061eefd9cfef': 592,\n",
       "  '09533b07fec7435d97fe33fc9aca6428': 593,\n",
       "  '095387dd9436426fa454cda037297d0a': 594,\n",
       "  '0955202f20fc49e0b7d1c2a6843a9011': 595,\n",
       "  '095bc1a9b5f64d0f88ed616df292a3ec': 596,\n",
       "  '095cc9fc7aaa428b99c0ad42b3949fc5': 597,\n",
       "  '0964d4f3fa2344409e792c5ac6885a88': 598,\n",
       "  '0969a11464224731b03c60f287c192e1': 599,\n",
       "  '096d06b35e534a08b20bc00850c31919': 600,\n",
       "  '0973a73fb67147e09659b92bc511eb78': 601,\n",
       "  '09752271072d4a259ee5f35e077bbe3e': 602,\n",
       "  '0975267d50f7470da79d18591352e13d': 603,\n",
       "  '0976fd3ecfb84e1ca92d90b6adc2001c': 604,\n",
       "  '0978745a7e524deeabd326d6e5a13d0c': 605,\n",
       "  '097be133b42b4be1963a109e7ab62417': 606,\n",
       "  '097e0be7292b4349a952e59ee82bab73': 607,\n",
       "  '0982f641668e470d9946a58b8c3ccb88': 608,\n",
       "  '09840ad0df884a18910af206fd90e597': 609,\n",
       "  '098acf107368478395b52818930d1bbc': 610,\n",
       "  '098b861b283940bcb24ec4dc78f16cc0': 611,\n",
       "  '098d124614df4e4b862d678160b98638': 612,\n",
       "  '098d957407b44982a3debf3337aa6b9c': 613,\n",
       "  '0990624579434298afa4aa83a1202e72': 614,\n",
       "  '09916e16312345b6a9bed4b77e0211c3': 615,\n",
       "  '09926978a42248f08791fe53fc7ac085': 616,\n",
       "  '0999506e6713408b96827816f547f0ff': 617,\n",
       "  '09a232cdf36d4d2b9d23a860493ce998': 618,\n",
       "  '09a5c16b6b9d4aa8a6d1301620c0e900': 619,\n",
       "  '09a6798f587a404c8c44a2cd5fd2d940': 620,\n",
       "  '09ac1d69e9f74deb835ecdfac30ae8f1': 621,\n",
       "  '09b7c854b70f495d883b9004d83d0137': 622,\n",
       "  '09bed795bc814b4e9ab2cad8f8b78fc0': 623,\n",
       "  '09c361194dfa428e9b859561d7ea8188': 624,\n",
       "  '09c944213971466cba17010979413eaa': 625,\n",
       "  '09c957e5a4ac4c339b25fe08b12cd921': 626,\n",
       "  '09cb1b009f154a9a93af117920ddb353': 627,\n",
       "  '09ccb706f86c4d1ca7a35d054caa9fb5': 628,\n",
       "  '09ccc48287ba46f59a92d9ed89dec344': 629,\n",
       "  '09d4dc01d9d74d5d87f8b537f2e248b4': 630,\n",
       "  '09d8cabe7017456da71f0a8fb4bf4b3d': 631,\n",
       "  '09dc6bc32ad74886b405dc2f455ddb4e': 632,\n",
       "  '09dee7958cca49c3b32e3b3cf8ed1165': 633,\n",
       "  '09e73eeb14874fe69467f8c123091f50': 634,\n",
       "  '09e7e40eb89943458f4f79fe2e023dd6': 635,\n",
       "  '09eb3e5e84224d018376b4d92b00b815': 636,\n",
       "  '09f02acdfa6f44818fc46ecbbcb7356b': 637,\n",
       "  '09f61d1d6e05402ca923d614dda52d57': 638,\n",
       "  '09f6c78df51047dbb554388ca1e514b9': 639,\n",
       "  '09f9c7a696c340cf988d9a38c8a495e2': 640,\n",
       "  '0a0034a3fe9644d49d77729378751043': 641,\n",
       "  '0a00603b2632477983033b51a5a05a73': 642,\n",
       "  '0a03ef333feb47db93bf30d6ef41b239': 643,\n",
       "  '0a0730c8bc904102a088b1e2e9b6e7a7': 644,\n",
       "  '0a080bbcdf104247b383fa8fe4e99385': 645,\n",
       "  '0a08679f042649e6b771d3fd7f6d69e7': 646,\n",
       "  '0a0bb27cb9904b638d376ad1c6d09e81': 647,\n",
       "  '0a0e0f2c65304dd2ae36d854baac2cbe': 648,\n",
       "  '0a0e3bd8c3dc4127ada0c58bcf997da7': 649,\n",
       "  '0a13150de06440bea92ed6aeaadf5b9d': 650,\n",
       "  '0a16939f97dd42e39272e5ea36163a64': 651,\n",
       "  '0a197ecc873f4c04998372999e80ce79': 652,\n",
       "  '0a20aacc0b0040598997c1a6d829d8e0': 653,\n",
       "  '0a225a4c15904951b5b31d949a0d968a': 654,\n",
       "  '0a28210b220047fb88b58fe001f940c0': 655,\n",
       "  '0a2d08c3970c4d2181711b61f4f9cb31': 656,\n",
       "  '0a2d35d038d04a3698c382cc9cb976f9': 657,\n",
       "  '0a331bcbd92f4719ab8ad2223fd588fe': 658,\n",
       "  '0a34323c7f254960979fb7c6cafa6b3c': 659,\n",
       "  '0a3a378dedac4d5f80aa616e5c8007b3': 660,\n",
       "  '0a3a8cc5e3d64253b7300797cb07c818': 661,\n",
       "  '0a3b7be9b7d44dbc9e02db3b86d19e28': 662,\n",
       "  '0a3c4a0c066d49f1ad4eb52987a0fb05': 663,\n",
       "  '0a3e6bcfc66445babbaeee2ce9a9fd85': 664,\n",
       "  '0a3fe7f225ef42798190a1654b9a43ac': 665,\n",
       "  '0a4153113a484ad8bf54b623d9ab3504': 666,\n",
       "  '0a43626c07724771836f653098a19ec8': 667,\n",
       "  '0a445954a2f749df8f0811d466dd31e0': 668,\n",
       "  '0a47df892c774c7aae037b231baae5db': 669,\n",
       "  '0a4a8c491ba646b89638bd32cb9ed0e3': 670,\n",
       "  '0a514b89adbc4ace99b6c22782c6fd71': 671,\n",
       "  '0a53d7787b594ba79e69cf19de80a8c9': 672,\n",
       "  '0a5431e766764fc09ef2e123c930b212': 673,\n",
       "  '0a56a31dc8614353abf47c5a027e657b': 674,\n",
       "  '0a56aac1e1b34467aabab91930db6786': 675,\n",
       "  '0a570779782948acb54f2f8e31a49c21': 676,\n",
       "  '0a59aabdf1fc4f999711d65fb84c4f90': 677,\n",
       "  '0a5bf99f04044a00b1c51b0ab02201af': 678,\n",
       "  '0a5cf2f85cab44efbb4124d5410ee671': 679,\n",
       "  '0a5ecb5b15fa464b8a2f1cb3bcba284c': 680,\n",
       "  '0a68034a1858477e8053ca18a05c213c': 681,\n",
       "  '0a6a4f5b66974c8ba7dfdba2ce7a432a': 682,\n",
       "  '0a6d56d11a9b43bdb6aec1be26ae3f52': 683,\n",
       "  '0a73c45eda784402957f033343dabeed': 684,\n",
       "  '0a79a089b9d543438ba577e66e0eea82': 685,\n",
       "  '0a7ac081fbc147cf827c5df27db32f00': 686,\n",
       "  '0a7c7af5e814481b8e4a4a3b6e2f8697': 687,\n",
       "  '0a8446aecfe548388a774ab52162850e': 688,\n",
       "  '0a85562cbc1d4e92b66d6ff67e629d55': 689,\n",
       "  '0a892db1033e4da3bc8ac7435f1646d9': 690,\n",
       "  '0a8b2a9395314cb2a83f2eaf9b18f018': 691,\n",
       "  '0a93a485420b4285949568ff618d10df': 692,\n",
       "  '0a947767586e4587b06b8ca3efc3c8e7': 693,\n",
       "  '0a94b618de1b435dbcfa1989e8c43ce8': 694,\n",
       "  '0a9749f5782748e2933622664a8309af': 695,\n",
       "  '0a97bf47a35e4668bd43d5d9dde64148': 696,\n",
       "  '0a9b887bdf2d41b592ba69549760f191': 697,\n",
       "  '0a9fe790648c471bb8ee7bd554ce3122': 698,\n",
       "  '0aad47034065492095f29d3a6003c9f2': 699,\n",
       "  '0aaeeafa15f44a7fbd10feb66bb9534e': 700,\n",
       "  '0ab26a89e3494acd922ea9fd0ff938e5': 701,\n",
       "  '0ab5c869c82648e88d2780562e7835d8': 702,\n",
       "  '0ab68614da78404e978ce963c230bd45': 703,\n",
       "  '0abb3f3cf3634fd4866a22052f8c9e5f': 704,\n",
       "  '0abc1b42c9bb48398c8b774e1be725bc': 705,\n",
       "  '0abf09a9470a46c392425e988493ecef': 706,\n",
       "  '0ac22ea0a7234c7898ce445e9a67a73b': 707,\n",
       "  '0ac4004c9f854997b8c9697dc9bbdd8f': 708,\n",
       "  '0ac4ad9e2a114350a35d4bd48cb92617': 709,\n",
       "  '0ac4cc504d9047d3aac00d5c8417f784': 710,\n",
       "  '0ac5ffb0f1624297a453494b845e1a91': 711,\n",
       "  '0ac73ba2449646378b3f72a7a677cc3a': 712,\n",
       "  '0acaa564f18b418ba642e2a4ff3e028d': 713,\n",
       "  '0acca8aae113433999f7de6a5c32497c': 714,\n",
       "  '0ad738158c52421eb5db2d42a1ad166c': 715,\n",
       "  '0ad8a9771c59432f9641e48212b2ccb9': 716,\n",
       "  '0ae0111e8e394788879bd78cd520d8a0': 717,\n",
       "  '0ae29213aca44708a61a65ddac56b0d1': 718,\n",
       "  '0ae3f297443a40f9b081f5dec14e6ad6': 719,\n",
       "  '0ae565c6ebc5417db7f6d2ee5eaabe72': 720,\n",
       "  '0aea37c300ba4262b523881c7112484d': 721,\n",
       "  '0afacad54c614b348139fcf6a6e19c7a': 722,\n",
       "  '0b0e7c84cee54feebc11f81bb2aa8fb9': 723,\n",
       "  '0b12d4acf7224f74a35eba7db6586f57': 724,\n",
       "  '0b1b8fa8117043b09e75518860f3ee8d': 725,\n",
       "  '0b21a1c16247452ba0cb77ad3a8bb370': 726,\n",
       "  '0b250fe9fab14dac96ba542a572da081': 727,\n",
       "  '0b254a1b95384340af47130bc63ee76b': 728,\n",
       "  '0b265c689a2b406095d5aec5b33bded9': 729,\n",
       "  '0b2c053116874c8abe7c1c4aa9af7e24': 730,\n",
       "  '0b321fdc45364a67858a81b59da7f943': 731,\n",
       "  '0b363865b7574d8d947b56a574745bbd': 732,\n",
       "  '0b38476159e746b58c10c4090c69fe65': 733,\n",
       "  '0b3878783eed4009993f706e51f19d9e': 734,\n",
       "  '0b46f27233cf4f56b5ed434eccf401aa': 735,\n",
       "  '0b4c43b9cba1408a91dbf48c44b8026a': 736,\n",
       "  '0b506f0a7c814c5f8bddd0634f9fa90c': 737,\n",
       "  '0b538fb7a1b44847a237b9f7eb825755': 738,\n",
       "  '0b54aa822f7b44e6b023cea1a0e8d8a0': 739,\n",
       "  '0b5849cbbac74a1baa249064988f89f1': 740,\n",
       "  '0b5dbd14f53748c0b91f7d72b4ee60e6': 741,\n",
       "  '0b5e0b7de9bb42d9bc4a728be1626509': 742,\n",
       "  '0b5f7c9086c24311a971fef614bafd22': 743,\n",
       "  '0b63d4cabf5f4c1eab0277c6c1b09362': 744,\n",
       "  '0b64be3b241c4407a5c9a71781173829': 745,\n",
       "  '0b680efe1a0a40788ebb6fb2c587b4a7': 746,\n",
       "  '0b6b453772ea4c3a963e92ae2b0817a2': 747,\n",
       "  '0b6c775f84a8435a9083900e1cb43ec9': 748,\n",
       "  '0b73997a269247088b2a63355f53ee58': 749,\n",
       "  '0b7b452e6b9042839d3d6d15c057d23e': 750,\n",
       "  '0b83ad12131140a9bd1b2e5e1ae457e4': 751,\n",
       "  '0b8503be108149b58bdd5f1827612fdc': 752,\n",
       "  '0b854279718f4295a7a6bae7cd7ee2e3': 753,\n",
       "  '0b8684abe074418d9ec08eee090f1859': 754,\n",
       "  '0b86e2ad1f2140db8dc4db1b71e1e73a': 755,\n",
       "  '0b9248aa06a24ff991321150b8b56098': 756,\n",
       "  '0b931f3c0c9049dd825fc371e4d759f9': 757,\n",
       "  '0b99a9ca8c8946cda19fe7b27df89a2b': 758,\n",
       "  '0b99c75c3e0e424fafe2975a64d66e00': 759,\n",
       "  '0b9c42f29edd4e0cbbcdc22ebdeb937c': 760,\n",
       "  '0b9cac742f534951b5af48395dfe6879': 761,\n",
       "  '0b9d749dd7c4461c8b4547eea2ddaa65': 762,\n",
       "  '0ba0d7ac80a94d28b831018681656c8d': 763,\n",
       "  '0ba55f2ffeef4c70b34e1838ee36f920': 764,\n",
       "  '0ba5ddd198e04ce3837c1ee2fbb3e4b1': 765,\n",
       "  '0ba6584a372247e68f0ddcbf98316a0a': 766,\n",
       "  '0ba6e2ad781c4429afd26cf0b35f2d11': 767,\n",
       "  '0ba8b605e9ab4114b55d26c267fdff7f': 768,\n",
       "  '0bab4b4713984db0ac68a9a42f6af163': 769,\n",
       "  '0bb1b63ae72141ceaa722b966df2d6d2': 770,\n",
       "  '0bb2879db8a0458fa7cb17280a54847f': 771,\n",
       "  '0bb50a84fe1040c69f941f6f34f751b2': 772,\n",
       "  '0bb56cebce3342c0a71fd5aca70abab2': 773,\n",
       "  '0bbcf0985bd04fc4bbf77b4500ada512': 774,\n",
       "  '0bc0a681c7a74a4abd36563d3f3646b2': 775,\n",
       "  '0bc7c49f736c4a7fb104595df8c54d74': 776,\n",
       "  '0bcecfedf7e448b08e5ed4c00f47217d': 777,\n",
       "  '0bd0abaa6fca42d8b186c24c78358fa6': 778,\n",
       "  '0bdd63f5331b4c7eb571a9cbecfb4fb7': 779,\n",
       "  '0be4d6e6e5a64e4eaca901db0b124fbe': 780,\n",
       "  '0be57c9e9b2048a7b769669347c6c138': 781,\n",
       "  '0be7a1517b0549c991926c94869d8fb5': 782,\n",
       "  '0bea4d4182784e1386cb56e0eb3cc35d': 783,\n",
       "  '0bfbad000b9844b3bc6753262251ecd2': 784,\n",
       "  '0bfbcb94ca614b198f1786bd29fc9b4b': 785,\n",
       "  '0bfc794e24c146ceb5c899579e77b940': 786,\n",
       "  '0c027f5f34dd4b9eba0a25785c611273': 787,\n",
       "  '0c0af42e1e804ded94eb5d73dfffbb6f': 788,\n",
       "  '0c1c3ea43216407eb168841c1a140337': 789,\n",
       "  '0c1f4e74e76849b08588f8b5cd3aade7': 790,\n",
       "  '0c21d96502a64b6c9a90d5ca2b8a7be8': 791,\n",
       "  '0c286a286b4a4ed982768df3a7e8a8d1': 792,\n",
       "  '0c2ade08c3324036901605a050fc3c69': 793,\n",
       "  '0c2b6d3f0ec041e0b3ff7bca40fd57c1': 794,\n",
       "  '0c2f0f0606384933a1d47dcc022bee2e': 795,\n",
       "  '0c3b3be85e534b709670a6652fb30527': 796,\n",
       "  '0c3e283397d74cd9a3f535c7dd1d188c': 797,\n",
       "  '0c41798831f44abfbe474aba2ee0a802': 798,\n",
       "  '0c4469885bf54976a3a595ec6acc3847': 799,\n",
       "  '0c4636aab4284e1484b7f88c6d48ba36': 800,\n",
       "  '0c4823420e2a4d53801e6d71874aaa65': 801,\n",
       "  '0c48cec9c44b4b47923a70dcb0641662': 802,\n",
       "  '0c55f7afe6a44b859a2344af100ec3f3': 803,\n",
       "  '0c568217dc7d47ca936b567f8a22588f': 804,\n",
       "  '0c57fbefe3fd4fdf8c275ed3da65f871': 805,\n",
       "  '0c5d91496aec44d6a4fff1c280a6a7d5': 806,\n",
       "  '0c643a90af774f3eb7f730f80f3e5b4c': 807,\n",
       "  '0c6831f7dc144972882bbeaf710e2034': 808,\n",
       "  '0c6ba803d2c84d71b0f0980a03912398': 809,\n",
       "  '0c6ef3d7dde644c897e95f6129b55d86': 810,\n",
       "  '0c74d9a15b9f4b4aa85e150e55b9beb6': 811,\n",
       "  '0c7ba4aca9f3477ba0d105f3763f5871': 812,\n",
       "  '0c88140597254428ba857b1e6782bce1': 813,\n",
       "  '0c89378f14804b42b6e63e4dc26e8d3e': 814,\n",
       "  '0c8cb8d4ccdd4aa2a9bb93c3bf4b3dc4': 815,\n",
       "  '0c8e04f373a04738969178acc25b3238': 816,\n",
       "  '0c8f2163ee564e05a6b07a27adea0ca9': 817,\n",
       "  '0c945946715c4d2d98af6d20786c28e8': 818,\n",
       "  '0c96e5392702403b8db72f8781784abe': 819,\n",
       "  '0c9c4852f7a04dc8be4865dac3e75d5d': 820,\n",
       "  '0c9cba93f6454c16bdb698683072438b': 821,\n",
       "  '0c9fe9389f694052a6296b425cdb0d86': 822,\n",
       "  '0ca46c6ce97a4f0eb2b64423527f86b5': 823,\n",
       "  '0caa5fbb22264d78a9608ce3761761e7': 824,\n",
       "  '0cade469f8204713a1ea0ad29d578c0d': 825,\n",
       "  '0cb086ad62d34af1b8a3fc1860e4215f': 826,\n",
       "  '0cb948aa329f4902afa2e3f19af6dec9': 827,\n",
       "  '0cbb467090b142ca89d238bf9a9a3b4d': 828,\n",
       "  '0cbb7a6f90b94efd801ed46d95a22c9d': 829,\n",
       "  '0cbc5b2f775f4ae69b79196ec2ee061e': 830,\n",
       "  '0cc0066758e647e3adb2e9d06eb7de59': 831,\n",
       "  '0cc00e05b6be41e78d8385f64ccb5e15': 832,\n",
       "  '0cc13b3094c7473aa4fd1a6b35d25652': 833,\n",
       "  '0cc67e089ff64108a2fa117971f666f9': 834,\n",
       "  '0cc6e8553c844c02ab525bc466aa569b': 835,\n",
       "  '0cca03ab86bd478199187560be008d63': 836,\n",
       "  '0cca2a7a1b6c44c9b0c7b78856dfd40b': 837,\n",
       "  '0cdb6f990b804f3fa1ee88c757bfff86': 838,\n",
       "  '0cdbae04f7394db9b09a905291336ea6': 839,\n",
       "  '0cdc033bb1f44552a01956cbe57a43a6': 840,\n",
       "  '0ce0ba52448e482590a6ddd885050b3d': 841,\n",
       "  '0ce9a07602cc40c298a27089b5f2175a': 842,\n",
       "  '0cebf0c50b1f4aa7a403380b2851109b': 843,\n",
       "  '0cec20d571574e2d810148b0e26b2047': 844,\n",
       "  '0cefab35004f4329971c5a91696932b4': 845,\n",
       "  '0cf2ddcf6c034ac9906831614a360d0d': 846,\n",
       "  '0cf6244daee84b73afb0c96ff4ad3454': 847,\n",
       "  '0cfa52f4335642c9a7602854eb509d9c': 848,\n",
       "  '0cfb5a7caa0e4bc89aeff1849c4f4fe3': 849,\n",
       "  '0cfc8087b52b413f98f20f433ca54b23': 850,\n",
       "  '0cfc87a1aec942fd9c6055add7179075': 851,\n",
       "  '0cfff5bcbc2c4da8b633fb7b06593625': 852,\n",
       "  '0d069e0def304114b261daa9695433ba': 853,\n",
       "  '0d090272e52845acab67d8eaf8960366': 854,\n",
       "  '0d0a9ca9281248a8a35806c9ae68f872': 855,\n",
       "  '0d0c8b66f0954686ad82e5eb8a61baf6': 856,\n",
       "  '0d13a6068f4448799bd2faf79a6f2e95': 857,\n",
       "  '0d15aeb66e044f26b1a50c678cef7fe4': 858,\n",
       "  '0d18c37c8b58459f8aa6af2f7b541357': 859,\n",
       "  '0d1f4bc41883493ba6f72af2485bab65': 860,\n",
       "  '0d20a089f54045539b2ee9b292c0cdc8': 861,\n",
       "  '0d219e744675450583b6981e39306587': 862,\n",
       "  '0d21bafce46a417d9488c090367278e1': 863,\n",
       "  '0d22a83650df410d978e9ae2a3f94152': 864,\n",
       "  '0d24a49bc2ca4b38834bd30114979ee9': 865,\n",
       "  '0d24afa153544549ac3117f32fdd9072': 866,\n",
       "  '0d2aa8fa2faf49a383bf5b02d67d62da': 867,\n",
       "  '0d2c8f6e2cd441bbbbfaf0036c41630d': 868,\n",
       "  '0d3451dbd862480caf1f408154c18887': 869,\n",
       "  '0d3dc68161a243b3931832164030ff8b': 870,\n",
       "  '0d3f3f5f65b5433db4ef88f6cb518c29': 871,\n",
       "  '0d430e04265c4049809fe2ce680940ee': 872,\n",
       "  '0d4bc2b53dcf4489bffe55c3a32adf1f': 873,\n",
       "  '0d50a9abf52442e29e484474cc8d0d68': 874,\n",
       "  '0d52476253874872970140a42a277a2b': 875,\n",
       "  '0d56277b07ed4a8bb3a19325803e3579': 876,\n",
       "  '0d58682ece0e4b788eff41f6d805314e': 877,\n",
       "  '0d5b03d6662f4a789fa24f8383ace671': 878,\n",
       "  '0d5c1536f389406fb476f63658c20fda': 879,\n",
       "  '0d5eac9a9e284f75b81b6d664a65c188': 880,\n",
       "  '0d6c058f1193416781734b5886fcbc4e': 881,\n",
       "  '0d6cc5eb3fb84a05aaa042abfd286945': 882,\n",
       "  '0d6ff25e524b4d1e97039c91a20113f6': 883,\n",
       "  '0d71469761604d3688ca099ff09a403f': 884,\n",
       "  '0d732f0791d34ef393aa6dee0b260ede': 885,\n",
       "  '0d74b166a5e54b269795dbaf38c6dfae': 886,\n",
       "  '0d78e1683bdb47f2919a8b4a62e6488d': 887,\n",
       "  '0d799e1906ff4387bfc3cfab8600ff4e': 888,\n",
       "  '0d837358d66749459ddafd22b85f722f': 889,\n",
       "  '0d8d6d7dbda1470792c74b8fb1f82f36': 890,\n",
       "  '0d8ed206607c4ff98c9222339de108f2': 891,\n",
       "  '0d92e7575a224263927f4f0307284441': 892,\n",
       "  '0d9532ebd7394223a47f93849cc8eee1': 893,\n",
       "  '0d96a963d3e94044aa7934276db005e4': 894,\n",
       "  '0d9a55f4493544deaf6b1dbc007373b8': 895,\n",
       "  '0d9a6758e02e4e11a68d48c22ccd8901': 896,\n",
       "  '0d9b73ed8868407e9fc6537bf08f1610': 897,\n",
       "  '0daad40a375348329d90f625a13a1e3f': 898,\n",
       "  '0dab5a72d09e42ee957a574567a5ad3f': 899,\n",
       "  '0dae72f0da8849e9b0f95050e6c69856': 900,\n",
       "  '0db38d21da2e4d17b1b0b43320b7ebab': 901,\n",
       "  '0dc5a10c6c654387b7e1298724a464e1': 902,\n",
       "  '0dc85918181e4c3eb0e412d37fa8a552': 903,\n",
       "  '0dcdc92ac2c74dacb1e53bb046398cec': 904,\n",
       "  '0dce458d31ae427cb2fe83841dc236b4': 905,\n",
       "  '0dd489ee7a524f6c81947243b4ced288': 906,\n",
       "  '0dd96a99c8814d0c9ce06a4f1aadbb9c': 907,\n",
       "  '0ddad59124e745d98d38210400400a97': 908,\n",
       "  '0de1bbba4f4c4723a088e5739d2fd592': 909,\n",
       "  '0de7e5bda8e84fcfa7c67bf87170c88e': 910,\n",
       "  '0de88a1f670a470ab5dda5e4242bcbb9': 911,\n",
       "  '0def8320fc9e4ec1a74e75bd3e1a993f': 912,\n",
       "  '0df14ab3f3274a0bbc4c76acef224f02': 913,\n",
       "  '0dffd428f9f94f60aaf80dd5ac210206': 914,\n",
       "  '0e03241e165b4686a2e5e546d499e637': 915,\n",
       "  '0e0b661dcd6e456c816747eaf0342057': 916,\n",
       "  '0e14aee174bf42e6821720e733e112de': 917,\n",
       "  '0e1578217ad7455d8cb08509eeee1aee': 918,\n",
       "  '0e16e7aec2f5499999439990a56e2ddd': 919,\n",
       "  '0e18338db3524564870a52ee5cfe68a4': 920,\n",
       "  '0e1ba2f7bef34c4788328679e52fd56c': 921,\n",
       "  '0e1bcbaa5ca64055a1ebc360886b1c17': 922,\n",
       "  '0e1c6bc99dc34d8d82d7a0048de8501e': 923,\n",
       "  '0e1d61a719e54bf596e45f1b4948b3d0': 924,\n",
       "  '0e28b22b5f68463baff0f9e4d8353797': 925,\n",
       "  '0e2a283e9c2247678cd7fb69009b13ac': 926,\n",
       "  '0e3186ea9b0b4c378f89e413ee6ff69b': 927,\n",
       "  '0e389daa5f5b428489ddabfdc0eb9f7b': 928,\n",
       "  '0e3b4b66438c4b52a1b050daa1ae8cc7': 929,\n",
       "  '0e3dc1b57ab447199f7e7f223981a37c': 930,\n",
       "  '0e40f7b94c2b424285625d310311f3d6': 931,\n",
       "  '0e4e14ea66044a9eaee0b5efbff6ca62': 932,\n",
       "  '0e5242be49104c608825b24ee7b85fad': 933,\n",
       "  '0e5a036dfa3e4b2b89672b2e008086b7': 934,\n",
       "  '0e5b96f4d09a4bad94da8b04b0ed9a4e': 935,\n",
       "  '0e6943735578469cada541e3654a5693': 936,\n",
       "  '0e6d0e08329c4d0c90987d234f0983d2': 937,\n",
       "  '0e6e271d144946de863574da082c1837': 938,\n",
       "  '0e6f81eb2b924f55abc1d7ddcf9e0424': 939,\n",
       "  '0e72fad934a74c2c97a98c525d64f738': 940,\n",
       "  '0e7599f5c84247ea82c1495180158042': 941,\n",
       "  '0e75eea1fe5d40dd822e9f311738400e': 942,\n",
       "  '0e7642435a514809ab74563c86245c61': 943,\n",
       "  '0e79ee043ba442189e07d907c5590c98': 944,\n",
       "  '0e7a9c1d1ebd4ed4a77dee9edaad8093': 945,\n",
       "  '0e7dbeabb5bb42ccafdca4aa7f155485': 946,\n",
       "  '0e7e49b5e82f4003a070c7ba7e5c41ba': 947,\n",
       "  '0e7f9c775784453d8504e4a480d56c8e': 948,\n",
       "  '0e845251823e427c90265e3ca04f1e2f': 949,\n",
       "  '0e84f26096b14faa9ee343d703681c38': 950,\n",
       "  '0e881591e52e48c6bf80c9e02e6a2aa8': 951,\n",
       "  '0e957fd8c76e40b8bf5beb169a575412': 952,\n",
       "  '0ea0f06e30bf4802afd33b531f871e6e': 953,\n",
       "  '0ea1f0bb1ba245abbf709b962d326dd7': 954,\n",
       "  '0ea6ca65121843f4832440ccd6c28973': 955,\n",
       "  '0eaa2ea23fff4edaacc67bfad21553e0': 956,\n",
       "  '0eaa9e50ca864649b365f7da4121ed31': 957,\n",
       "  '0eab0b968b7e46898abd1567ad1f7539': 958,\n",
       "  '0eae927d54084bd5925a65d801a665cf': 959,\n",
       "  '0eaf4d62f1254762a37507c33aff24dc': 960,\n",
       "  '0eb1e015491241889fd6bfdf0794f052': 961,\n",
       "  '0eb51351d07c4bdba4ed8db8b3fb2392': 962,\n",
       "  '0ebc3c4c39234ab6a2701fe2525705a9': 963,\n",
       "  '0ebdcb7cf7454897882063fcaf6ef948': 964,\n",
       "  '0ebe2aec9774444a9be339aadbb817b4': 965,\n",
       "  '0ec30c57402945a6af2418582bf2c570': 966,\n",
       "  '0ec49da4a6d54229ad3c450cba7701f4': 967,\n",
       "  '0ec92c145b6e46e4b453b0a12099b404': 968,\n",
       "  '0eca500cc9b449f2a134bcd37990d539': 969,\n",
       "  '0ecc8a63f8ce437aaec064b14cd5813f': 970,\n",
       "  '0ed0e522069a41588b0fa35dfcb0fd5e': 971,\n",
       "  '0ed8629b96cf4b1bb5d7375660cd9b04': 972,\n",
       "  '0eda310a2b0c4e808af13f68afc81eea': 973,\n",
       "  '0edd6d3a7fdc444d9a00efe6a024e925': 974,\n",
       "  '0ee730ab06b448d29aff60a13d0709dc': 975,\n",
       "  '0eea703cbb0a47eeace88cfcde0ac89a': 976,\n",
       "  '0eed1b43c7924182a635f0597fdf2adf': 977,\n",
       "  '0ef5270c4e634eccbfcf23a172921a8d': 978,\n",
       "  '0efb3efdcd0d4d8296e1c47265b07660': 979,\n",
       "  '0eff8ea94ef445e09ce45cb22e5f09f8': 980,\n",
       "  '0f040996f2f64f2195dba68117bacde1': 981,\n",
       "  '0f0c770d5eaa4ebe9ca67f8c5c240f76': 982,\n",
       "  '0f0d1325cdf646bea396a91d4868f7dd': 983,\n",
       "  '0f12659af9ed4251a2b4c8ade57133f2': 984,\n",
       "  '0f1423b731ae48a2a82253abfc8d8c54': 985,\n",
       "  '0f14c97e012049359320876b8dffef58': 986,\n",
       "  '0f174c618a6f42d59388c6f07d1ef9a6': 987,\n",
       "  '0f1927ad064b43f4ae26d06a9d52416f': 988,\n",
       "  '0f1a6784bf944bd886e4ddcbd229a224': 989,\n",
       "  '0f1af368427e4edb931bf92763762812': 990,\n",
       "  '0f1c35c45ffa45deb5f96ca742409dc1': 991,\n",
       "  '0f1d40baf5fd438ea8d699a721467c1b': 992,\n",
       "  '0f1fe763ba994fe2b415920a6410507e': 993,\n",
       "  '0f206ff4e35445f2b20d9d6f48ea7e2a': 994,\n",
       "  '0f2c815583284499a7045ebb875a4237': 995,\n",
       "  '0f323f6a9ad945fa9fdf0a9085c39ed4': 996,\n",
       "  '0f457f3ccf254eb0af0921ddd996b504': 997,\n",
       "  '0f45882b7ebf44be98626ba118e034a4': 998,\n",
       "  '0f46a272dd8b4b789e31f910653fc8f4': 999,\n",
       "  '0f4a68826e204f45be2a1103dcc5b014': 1000,\n",
       "  ...}}"
      ]
     },
     "execution_count": 134,
     "metadata": {},
     "output_type": "execute_result"
    }
   ],
   "source": [
    "# check the customer_id again\n",
    "replaced_customer_id"
   ]
  },
  {
   "cell_type": "code",
   "execution_count": 135,
   "metadata": {},
   "outputs": [],
   "source": [
    "# Change the customer-id to numbers\n",
    "clean_profile.replace(replaced_customer_id, inplace=True)"
   ]
  },
  {
   "cell_type": "code",
   "execution_count": 136,
   "metadata": {
    "scrolled": true
   },
   "outputs": [
    {
     "data": {
      "text/html": [
       "<div>\n",
       "<style scoped>\n",
       "    .dataframe tbody tr th:only-of-type {\n",
       "        vertical-align: middle;\n",
       "    }\n",
       "\n",
       "    .dataframe tbody tr th {\n",
       "        vertical-align: top;\n",
       "    }\n",
       "\n",
       "    .dataframe thead th {\n",
       "        text-align: right;\n",
       "    }\n",
       "</style>\n",
       "<table border=\"1\" class=\"dataframe\">\n",
       "  <thead>\n",
       "    <tr style=\"text-align: right;\">\n",
       "      <th></th>\n",
       "      <th>customer_id</th>\n",
       "      <th>age</th>\n",
       "      <th>became_member_on</th>\n",
       "      <th>gender</th>\n",
       "      <th>income</th>\n",
       "    </tr>\n",
       "  </thead>\n",
       "  <tbody>\n",
       "    <tr>\n",
       "      <th>0</th>\n",
       "      <td>6962</td>\n",
       "      <td>118</td>\n",
       "      <td>20170212</td>\n",
       "      <td>None</td>\n",
       "      <td>NaN</td>\n",
       "    </tr>\n",
       "    <tr>\n",
       "      <th>1</th>\n",
       "      <td>399</td>\n",
       "      <td>55</td>\n",
       "      <td>20170715</td>\n",
       "      <td>F</td>\n",
       "      <td>112000.0</td>\n",
       "    </tr>\n",
       "    <tr>\n",
       "      <th>2</th>\n",
       "      <td>3747</td>\n",
       "      <td>118</td>\n",
       "      <td>20180712</td>\n",
       "      <td>None</td>\n",
       "      <td>NaN</td>\n",
       "    </tr>\n",
       "    <tr>\n",
       "      <th>3</th>\n",
       "      <td>7997</td>\n",
       "      <td>75</td>\n",
       "      <td>20170509</td>\n",
       "      <td>F</td>\n",
       "      <td>100000.0</td>\n",
       "    </tr>\n",
       "    <tr>\n",
       "      <th>4</th>\n",
       "      <td>10736</td>\n",
       "      <td>118</td>\n",
       "      <td>20170804</td>\n",
       "      <td>None</td>\n",
       "      <td>NaN</td>\n",
       "    </tr>\n",
       "  </tbody>\n",
       "</table>\n",
       "</div>"
      ],
      "text/plain": [
       "   customer_id  age  became_member_on gender    income\n",
       "0         6962  118          20170212   None       NaN\n",
       "1          399   55          20170715      F  112000.0\n",
       "2         3747  118          20180712   None       NaN\n",
       "3         7997   75          20170509      F  100000.0\n",
       "4        10736  118          20170804   None       NaN"
      ]
     },
     "execution_count": 136,
     "metadata": {},
     "output_type": "execute_result"
    }
   ],
   "source": [
    "#Let us check the clean_profile\n",
    "clean_profile.head()"
   ]
  },
  {
   "cell_type": "code",
   "execution_count": 137,
   "metadata": {},
   "outputs": [],
   "source": [
    "# Change age to NaN whereever it is 118\n",
    "clean_profile['age'] = clean_profile['age'].apply(lambda x: np.nan if x == 118 else x)"
   ]
  },
  {
   "cell_type": "code",
   "execution_count": 138,
   "metadata": {},
   "outputs": [
    {
     "data": {
      "text/html": [
       "<div>\n",
       "<style scoped>\n",
       "    .dataframe tbody tr th:only-of-type {\n",
       "        vertical-align: middle;\n",
       "    }\n",
       "\n",
       "    .dataframe tbody tr th {\n",
       "        vertical-align: top;\n",
       "    }\n",
       "\n",
       "    .dataframe thead th {\n",
       "        text-align: right;\n",
       "    }\n",
       "</style>\n",
       "<table border=\"1\" class=\"dataframe\">\n",
       "  <thead>\n",
       "    <tr style=\"text-align: right;\">\n",
       "      <th></th>\n",
       "      <th>customer_id</th>\n",
       "      <th>age</th>\n",
       "      <th>became_member_on</th>\n",
       "      <th>gender</th>\n",
       "      <th>income</th>\n",
       "    </tr>\n",
       "  </thead>\n",
       "  <tbody>\n",
       "  </tbody>\n",
       "</table>\n",
       "</div>"
      ],
      "text/plain": [
       "Empty DataFrame\n",
       "Columns: [customer_id, age, became_member_on, gender, income]\n",
       "Index: []"
      ]
     },
     "execution_count": 138,
     "metadata": {},
     "output_type": "execute_result"
    }
   ],
   "source": [
    "# check 118 is removed .\n",
    "clean_profile[clean_profile['age'] == 118]"
   ]
  },
  {
   "cell_type": "code",
   "execution_count": 139,
   "metadata": {},
   "outputs": [],
   "source": [
    "# Let us remove NaNs in all columns\n",
    "clean_profile.dropna(inplace=True)"
   ]
  },
  {
   "cell_type": "code",
   "execution_count": 140,
   "metadata": {
    "scrolled": true
   },
   "outputs": [
    {
     "data": {
      "text/plain": [
       "customer_id         0\n",
       "age                 0\n",
       "became_member_on    0\n",
       "gender              0\n",
       "income              0\n",
       "dtype: int64"
      ]
     },
     "execution_count": 140,
     "metadata": {},
     "output_type": "execute_result"
    }
   ],
   "source": [
    "# See if  NaNs removed \n",
    "clean_profile.isna().sum()"
   ]
  },
  {
   "cell_type": "code",
   "execution_count": 141,
   "metadata": {},
   "outputs": [],
   "source": [
    "# Let us change the datatype to int where required .\n",
    "clean_profile[['age','income']] = clean_profile[['age','income']].astype(int)"
   ]
  },
  {
   "cell_type": "code",
   "execution_count": 142,
   "metadata": {},
   "outputs": [],
   "source": [
    "# Let us make a new column - age_group\n",
    "clean_profile['age_category'] = pd.cut(clean_profile['age'], bins=[17, 22, 35, 60, 103],labels=['teenager', 'young-adult', 'adult', 'elderly'])"
   ]
  },
  {
   "cell_type": "code",
   "execution_count": 143,
   "metadata": {
    "scrolled": true
   },
   "outputs": [
    {
     "data": {
      "text/plain": [
       "1       adult\n",
       "3     elderly\n",
       "5     elderly\n",
       "8     elderly\n",
       "12      adult\n",
       "Name: age_category, dtype: category\n",
       "Categories (4, object): [teenager < young-adult < adult < elderly]"
      ]
     },
     "execution_count": 143,
     "metadata": {},
     "output_type": "execute_result"
    }
   ],
   "source": [
    "# checking the unique values in the newely created column\n",
    "clean_profile['age_category'].head()"
   ]
  },
  {
   "cell_type": "code",
   "execution_count": 144,
   "metadata": {},
   "outputs": [],
   "source": [
    "# Replace age_group with numerical values\n",
    "Heading_age_category = clean_profile['age_category'].astype('category').cat.categories.tolist()\n",
    "numerical_age_category = {'age_category' : {k: v for k,v in zip(Heading_age_category,list(range(1,len(Heading_age_category)+1)))}}"
   ]
  },
  {
   "cell_type": "code",
   "execution_count": 145,
   "metadata": {},
   "outputs": [
    {
     "data": {
      "text/plain": [
       "{'age_category': {'teenager': 1, 'young-adult': 2, 'adult': 3, 'elderly': 4}}"
      ]
     },
     "execution_count": 145,
     "metadata": {},
     "output_type": "execute_result"
    }
   ],
   "source": [
    "#check the values \n",
    "numerical_age_category"
   ]
  },
  {
   "cell_type": "code",
   "execution_count": 146,
   "metadata": {},
   "outputs": [],
   "source": [
    "# change the lables of -age_group with numerical values\n",
    "clean_profile.replace(numerical_age_category, inplace=True)"
   ]
  },
  {
   "cell_type": "code",
   "execution_count": 147,
   "metadata": {
    "scrolled": true
   },
   "outputs": [
    {
     "data": {
      "text/plain": [
       "1     3\n",
       "3     4\n",
       "5     4\n",
       "8     4\n",
       "12    3\n",
       "Name: age_category, dtype: int64"
      ]
     },
     "execution_count": 147,
     "metadata": {},
     "output_type": "execute_result"
    }
   ],
   "source": [
    "# Check values \n",
    "clean_profile['age_category'].head()"
   ]
  },
  {
   "cell_type": "code",
   "execution_count": 148,
   "metadata": {
    "scrolled": true
   },
   "outputs": [
    {
     "data": {
      "text/html": [
       "<div>\n",
       "<style scoped>\n",
       "    .dataframe tbody tr th:only-of-type {\n",
       "        vertical-align: middle;\n",
       "    }\n",
       "\n",
       "    .dataframe tbody tr th {\n",
       "        vertical-align: top;\n",
       "    }\n",
       "\n",
       "    .dataframe thead th {\n",
       "        text-align: right;\n",
       "    }\n",
       "</style>\n",
       "<table border=\"1\" class=\"dataframe\">\n",
       "  <thead>\n",
       "    <tr style=\"text-align: right;\">\n",
       "      <th></th>\n",
       "      <th>customer_id</th>\n",
       "      <th>age</th>\n",
       "      <th>became_member_on</th>\n",
       "      <th>gender</th>\n",
       "      <th>income</th>\n",
       "      <th>age_category</th>\n",
       "    </tr>\n",
       "  </thead>\n",
       "  <tbody>\n",
       "    <tr>\n",
       "      <th>1</th>\n",
       "      <td>399</td>\n",
       "      <td>55</td>\n",
       "      <td>20170715</td>\n",
       "      <td>F</td>\n",
       "      <td>112000</td>\n",
       "      <td>3</td>\n",
       "    </tr>\n",
       "    <tr>\n",
       "      <th>3</th>\n",
       "      <td>7997</td>\n",
       "      <td>75</td>\n",
       "      <td>20170509</td>\n",
       "      <td>F</td>\n",
       "      <td>100000</td>\n",
       "      <td>4</td>\n",
       "    </tr>\n",
       "    <tr>\n",
       "      <th>5</th>\n",
       "      <td>15044</td>\n",
       "      <td>68</td>\n",
       "      <td>20180426</td>\n",
       "      <td>M</td>\n",
       "      <td>70000</td>\n",
       "      <td>4</td>\n",
       "    </tr>\n",
       "    <tr>\n",
       "      <th>8</th>\n",
       "      <td>3729</td>\n",
       "      <td>65</td>\n",
       "      <td>20180209</td>\n",
       "      <td>M</td>\n",
       "      <td>53000</td>\n",
       "      <td>4</td>\n",
       "    </tr>\n",
       "    <tr>\n",
       "      <th>12</th>\n",
       "      <td>3060</td>\n",
       "      <td>58</td>\n",
       "      <td>20171111</td>\n",
       "      <td>M</td>\n",
       "      <td>51000</td>\n",
       "      <td>3</td>\n",
       "    </tr>\n",
       "  </tbody>\n",
       "</table>\n",
       "</div>"
      ],
      "text/plain": [
       "    customer_id  age  became_member_on gender  income  age_category\n",
       "1           399   55          20170715      F  112000             3\n",
       "3          7997   75          20170509      F  100000             4\n",
       "5         15044   68          20180426      M   70000             4\n",
       "8          3729   65          20180209      M   53000             4\n",
       "12         3060   58          20171111      M   51000             3"
      ]
     },
     "execution_count": 148,
     "metadata": {},
     "output_type": "execute_result"
    }
   ],
   "source": [
    "# Check values after changes\n",
    "clean_profile.head()"
   ]
  },
  {
   "cell_type": "code",
   "execution_count": 149,
   "metadata": {},
   "outputs": [],
   "source": [
    "# Let us create a new column-income_group \n",
    "clean_profile['income_group'] = pd.cut(clean_profile['income'], bins=[29999, 60000, 90000, 120001],labels=['average', 'above-average', 'high'])"
   ]
  },
  {
   "cell_type": "code",
   "execution_count": 150,
   "metadata": {},
   "outputs": [],
   "source": [
    "# Let us replace the income_group with numbers\n",
    "labels_income_group = clean_profile['income_group'].astype('category').cat.categories.tolist()\n",
    "numerical_income_group = {'income_group' : {k: v for k,v in zip(labels_income_group,list(range(1,len(labels_income_group)+1)))}}"
   ]
  },
  {
   "cell_type": "code",
   "execution_count": 151,
   "metadata": {},
   "outputs": [
    {
     "data": {
      "text/plain": [
       "{'income_group': {'average': 1, 'above-average': 2, 'high': 3}}"
      ]
     },
     "execution_count": 151,
     "metadata": {},
     "output_type": "execute_result"
    }
   ],
   "source": [
    "#check the values\n",
    "numerical_income_group"
   ]
  },
  {
   "cell_type": "code",
   "execution_count": 152,
   "metadata": {},
   "outputs": [],
   "source": [
    "# Let us repalce the income_group column with numbers\n",
    "clean_profile.replace(numerical_income_group, inplace=True)"
   ]
  },
  {
   "cell_type": "code",
   "execution_count": 153,
   "metadata": {
    "scrolled": true
   },
   "outputs": [
    {
     "data": {
      "text/html": [
       "<div>\n",
       "<style scoped>\n",
       "    .dataframe tbody tr th:only-of-type {\n",
       "        vertical-align: middle;\n",
       "    }\n",
       "\n",
       "    .dataframe tbody tr th {\n",
       "        vertical-align: top;\n",
       "    }\n",
       "\n",
       "    .dataframe thead th {\n",
       "        text-align: right;\n",
       "    }\n",
       "</style>\n",
       "<table border=\"1\" class=\"dataframe\">\n",
       "  <thead>\n",
       "    <tr style=\"text-align: right;\">\n",
       "      <th></th>\n",
       "      <th>customer_id</th>\n",
       "      <th>age</th>\n",
       "      <th>became_member_on</th>\n",
       "      <th>gender</th>\n",
       "      <th>income</th>\n",
       "      <th>age_category</th>\n",
       "      <th>income_group</th>\n",
       "    </tr>\n",
       "  </thead>\n",
       "  <tbody>\n",
       "    <tr>\n",
       "      <th>1</th>\n",
       "      <td>399</td>\n",
       "      <td>55</td>\n",
       "      <td>20170715</td>\n",
       "      <td>F</td>\n",
       "      <td>112000</td>\n",
       "      <td>3</td>\n",
       "      <td>3</td>\n",
       "    </tr>\n",
       "    <tr>\n",
       "      <th>3</th>\n",
       "      <td>7997</td>\n",
       "      <td>75</td>\n",
       "      <td>20170509</td>\n",
       "      <td>F</td>\n",
       "      <td>100000</td>\n",
       "      <td>4</td>\n",
       "      <td>3</td>\n",
       "    </tr>\n",
       "    <tr>\n",
       "      <th>5</th>\n",
       "      <td>15044</td>\n",
       "      <td>68</td>\n",
       "      <td>20180426</td>\n",
       "      <td>M</td>\n",
       "      <td>70000</td>\n",
       "      <td>4</td>\n",
       "      <td>2</td>\n",
       "    </tr>\n",
       "    <tr>\n",
       "      <th>8</th>\n",
       "      <td>3729</td>\n",
       "      <td>65</td>\n",
       "      <td>20180209</td>\n",
       "      <td>M</td>\n",
       "      <td>53000</td>\n",
       "      <td>4</td>\n",
       "      <td>1</td>\n",
       "    </tr>\n",
       "    <tr>\n",
       "      <th>12</th>\n",
       "      <td>3060</td>\n",
       "      <td>58</td>\n",
       "      <td>20171111</td>\n",
       "      <td>M</td>\n",
       "      <td>51000</td>\n",
       "      <td>3</td>\n",
       "      <td>1</td>\n",
       "    </tr>\n",
       "  </tbody>\n",
       "</table>\n",
       "</div>"
      ],
      "text/plain": [
       "    customer_id  age  became_member_on gender  income  age_category  \\\n",
       "1           399   55          20170715      F  112000             3   \n",
       "3          7997   75          20170509      F  100000             4   \n",
       "5         15044   68          20180426      M   70000             4   \n",
       "8          3729   65          20180209      M   53000             4   \n",
       "12         3060   58          20171111      M   51000             3   \n",
       "\n",
       "    income_group  \n",
       "1              3  \n",
       "3              3  \n",
       "5              2  \n",
       "8              1  \n",
       "12             1  "
      ]
     },
     "execution_count": 153,
     "metadata": {},
     "output_type": "execute_result"
    }
   ],
   "source": [
    "#check values\n",
    "clean_profile.head()"
   ]
  },
  {
   "cell_type": "code",
   "execution_count": 154,
   "metadata": {},
   "outputs": [],
   "source": [
    "#next, Let us repalce the column-gender to numbers values\n",
    "heading_gender = clean_profile['gender'].astype('category').cat.categories.tolist()\n",
    "numerical_heading_gender = {'gender' : {k: v for k,v in zip(heading_gender,list(range(1,len(heading_gender)+1)))}}\n",
    "clean_profile.replace(numerical_heading_gender, inplace=True)"
   ]
  },
  {
   "cell_type": "code",
   "execution_count": 155,
   "metadata": {
    "scrolled": true
   },
   "outputs": [
    {
     "data": {
      "text/plain": [
       "{'gender': {'F': 1, 'M': 2, 'O': 3}}"
      ]
     },
     "execution_count": 155,
     "metadata": {},
     "output_type": "execute_result"
    }
   ],
   "source": [
    "#Check values\n",
    "numerical_heading_gender"
   ]
  },
  {
   "cell_type": "code",
   "execution_count": 156,
   "metadata": {
    "scrolled": true
   },
   "outputs": [
    {
     "data": {
      "text/html": [
       "<div>\n",
       "<style scoped>\n",
       "    .dataframe tbody tr th:only-of-type {\n",
       "        vertical-align: middle;\n",
       "    }\n",
       "\n",
       "    .dataframe tbody tr th {\n",
       "        vertical-align: top;\n",
       "    }\n",
       "\n",
       "    .dataframe thead th {\n",
       "        text-align: right;\n",
       "    }\n",
       "</style>\n",
       "<table border=\"1\" class=\"dataframe\">\n",
       "  <thead>\n",
       "    <tr style=\"text-align: right;\">\n",
       "      <th></th>\n",
       "      <th>customer_id</th>\n",
       "      <th>age</th>\n",
       "      <th>became_member_on</th>\n",
       "      <th>gender</th>\n",
       "      <th>income</th>\n",
       "      <th>age_category</th>\n",
       "      <th>income_group</th>\n",
       "    </tr>\n",
       "  </thead>\n",
       "  <tbody>\n",
       "    <tr>\n",
       "      <th>1</th>\n",
       "      <td>399</td>\n",
       "      <td>55</td>\n",
       "      <td>20170715</td>\n",
       "      <td>1</td>\n",
       "      <td>112000</td>\n",
       "      <td>3</td>\n",
       "      <td>3</td>\n",
       "    </tr>\n",
       "    <tr>\n",
       "      <th>3</th>\n",
       "      <td>7997</td>\n",
       "      <td>75</td>\n",
       "      <td>20170509</td>\n",
       "      <td>1</td>\n",
       "      <td>100000</td>\n",
       "      <td>4</td>\n",
       "      <td>3</td>\n",
       "    </tr>\n",
       "    <tr>\n",
       "      <th>5</th>\n",
       "      <td>15044</td>\n",
       "      <td>68</td>\n",
       "      <td>20180426</td>\n",
       "      <td>2</td>\n",
       "      <td>70000</td>\n",
       "      <td>4</td>\n",
       "      <td>2</td>\n",
       "    </tr>\n",
       "    <tr>\n",
       "      <th>8</th>\n",
       "      <td>3729</td>\n",
       "      <td>65</td>\n",
       "      <td>20180209</td>\n",
       "      <td>2</td>\n",
       "      <td>53000</td>\n",
       "      <td>4</td>\n",
       "      <td>1</td>\n",
       "    </tr>\n",
       "    <tr>\n",
       "      <th>12</th>\n",
       "      <td>3060</td>\n",
       "      <td>58</td>\n",
       "      <td>20171111</td>\n",
       "      <td>2</td>\n",
       "      <td>51000</td>\n",
       "      <td>3</td>\n",
       "      <td>1</td>\n",
       "    </tr>\n",
       "  </tbody>\n",
       "</table>\n",
       "</div>"
      ],
      "text/plain": [
       "    customer_id  age  became_member_on  gender  income  age_category  \\\n",
       "1           399   55          20170715       1  112000             3   \n",
       "3          7997   75          20170509       1  100000             4   \n",
       "5         15044   68          20180426       2   70000             4   \n",
       "8          3729   65          20180209       2   53000             4   \n",
       "12         3060   58          20171111       2   51000             3   \n",
       "\n",
       "    income_group  \n",
       "1              3  \n",
       "3              3  \n",
       "5              2  \n",
       "8              1  \n",
       "12             1  "
      ]
     },
     "execution_count": 156,
     "metadata": {},
     "output_type": "execute_result"
    }
   ],
   "source": [
    "#Let us now see the clean_profile\n",
    "clean_profile.head()"
   ]
  },
  {
   "cell_type": "code",
   "execution_count": 157,
   "metadata": {},
   "outputs": [],
   "source": [
    "# Next, Let us change the column value of -became_memeber_on to date\n",
    "clean_profile['became_member_on'] = pd.to_datetime(clean_profile['became_member_on'], format = '%Y%m%d')"
   ]
  },
  {
   "cell_type": "code",
   "execution_count": 158,
   "metadata": {},
   "outputs": [],
   "source": [
    "# Let us add a new column -start_year\n",
    "clean_profile['start_year'] = clean_profile['became_member_on'].dt.year"
   ]
  },
  {
   "cell_type": "code",
   "execution_count": 159,
   "metadata": {
    "scrolled": true
   },
   "outputs": [
    {
     "data": {
      "text/html": [
       "<div>\n",
       "<style scoped>\n",
       "    .dataframe tbody tr th:only-of-type {\n",
       "        vertical-align: middle;\n",
       "    }\n",
       "\n",
       "    .dataframe tbody tr th {\n",
       "        vertical-align: top;\n",
       "    }\n",
       "\n",
       "    .dataframe thead th {\n",
       "        text-align: right;\n",
       "    }\n",
       "</style>\n",
       "<table border=\"1\" class=\"dataframe\">\n",
       "  <thead>\n",
       "    <tr style=\"text-align: right;\">\n",
       "      <th></th>\n",
       "      <th>customer_id</th>\n",
       "      <th>age</th>\n",
       "      <th>became_member_on</th>\n",
       "      <th>gender</th>\n",
       "      <th>income</th>\n",
       "      <th>age_category</th>\n",
       "      <th>income_group</th>\n",
       "      <th>start_year</th>\n",
       "    </tr>\n",
       "  </thead>\n",
       "  <tbody>\n",
       "    <tr>\n",
       "      <th>1</th>\n",
       "      <td>399</td>\n",
       "      <td>55</td>\n",
       "      <td>2017-07-15</td>\n",
       "      <td>1</td>\n",
       "      <td>112000</td>\n",
       "      <td>3</td>\n",
       "      <td>3</td>\n",
       "      <td>2017</td>\n",
       "    </tr>\n",
       "    <tr>\n",
       "      <th>3</th>\n",
       "      <td>7997</td>\n",
       "      <td>75</td>\n",
       "      <td>2017-05-09</td>\n",
       "      <td>1</td>\n",
       "      <td>100000</td>\n",
       "      <td>4</td>\n",
       "      <td>3</td>\n",
       "      <td>2017</td>\n",
       "    </tr>\n",
       "    <tr>\n",
       "      <th>5</th>\n",
       "      <td>15044</td>\n",
       "      <td>68</td>\n",
       "      <td>2018-04-26</td>\n",
       "      <td>2</td>\n",
       "      <td>70000</td>\n",
       "      <td>4</td>\n",
       "      <td>2</td>\n",
       "      <td>2018</td>\n",
       "    </tr>\n",
       "    <tr>\n",
       "      <th>8</th>\n",
       "      <td>3729</td>\n",
       "      <td>65</td>\n",
       "      <td>2018-02-09</td>\n",
       "      <td>2</td>\n",
       "      <td>53000</td>\n",
       "      <td>4</td>\n",
       "      <td>1</td>\n",
       "      <td>2018</td>\n",
       "    </tr>\n",
       "    <tr>\n",
       "      <th>12</th>\n",
       "      <td>3060</td>\n",
       "      <td>58</td>\n",
       "      <td>2017-11-11</td>\n",
       "      <td>2</td>\n",
       "      <td>51000</td>\n",
       "      <td>3</td>\n",
       "      <td>1</td>\n",
       "      <td>2017</td>\n",
       "    </tr>\n",
       "  </tbody>\n",
       "</table>\n",
       "</div>"
      ],
      "text/plain": [
       "    customer_id  age became_member_on  gender  income  age_category  \\\n",
       "1           399   55       2017-07-15       1  112000             3   \n",
       "3          7997   75       2017-05-09       1  100000             4   \n",
       "5         15044   68       2018-04-26       2   70000             4   \n",
       "8          3729   65       2018-02-09       2   53000             4   \n",
       "12         3060   58       2017-11-11       2   51000             3   \n",
       "\n",
       "    income_group  start_year  \n",
       "1              3        2017  \n",
       "3              3        2017  \n",
       "5              2        2018  \n",
       "8              1        2018  \n",
       "12             1        2017  "
      ]
     },
     "execution_count": 159,
     "metadata": {},
     "output_type": "execute_result"
    }
   ],
   "source": [
    "clean_profile.head()"
   ]
  },
  {
   "cell_type": "code",
   "execution_count": 160,
   "metadata": {},
   "outputs": [
    {
     "name": "stdout",
     "output_type": "stream",
     "text": [
      "<class 'pandas.core.frame.DataFrame'>\n",
      "Int64Index: 14825 entries, 1 to 16999\n",
      "Data columns (total 8 columns):\n",
      "customer_id         14825 non-null int64\n",
      "age                 14825 non-null int64\n",
      "became_member_on    14825 non-null datetime64[ns]\n",
      "gender              14825 non-null int64\n",
      "income              14825 non-null int64\n",
      "age_category        14825 non-null int64\n",
      "income_group        14825 non-null int64\n",
      "start_year          14825 non-null int64\n",
      "dtypes: datetime64[ns](1), int64(7)\n",
      "memory usage: 1.0 MB\n"
     ]
    }
   ],
   "source": [
    "clean_profile.info()"
   ]
  },
  {
   "cell_type": "code",
   "execution_count": 161,
   "metadata": {},
   "outputs": [],
   "source": [
    "# Let us add new column- total_days\n",
    "clean_profile['total_days'] = datetime.datetime.today().date() - clean_profile['became_member_on'].dt.date"
   ]
  },
  {
   "cell_type": "code",
   "execution_count": 162,
   "metadata": {},
   "outputs": [
    {
     "data": {
      "text/html": [
       "<div>\n",
       "<style scoped>\n",
       "    .dataframe tbody tr th:only-of-type {\n",
       "        vertical-align: middle;\n",
       "    }\n",
       "\n",
       "    .dataframe tbody tr th {\n",
       "        vertical-align: top;\n",
       "    }\n",
       "\n",
       "    .dataframe thead th {\n",
       "        text-align: right;\n",
       "    }\n",
       "</style>\n",
       "<table border=\"1\" class=\"dataframe\">\n",
       "  <thead>\n",
       "    <tr style=\"text-align: right;\">\n",
       "      <th></th>\n",
       "      <th>customer_id</th>\n",
       "      <th>age</th>\n",
       "      <th>became_member_on</th>\n",
       "      <th>gender</th>\n",
       "      <th>income</th>\n",
       "      <th>age_category</th>\n",
       "      <th>income_group</th>\n",
       "      <th>start_year</th>\n",
       "      <th>total_days</th>\n",
       "    </tr>\n",
       "  </thead>\n",
       "  <tbody>\n",
       "    <tr>\n",
       "      <th>1</th>\n",
       "      <td>399</td>\n",
       "      <td>55</td>\n",
       "      <td>2017-07-15</td>\n",
       "      <td>1</td>\n",
       "      <td>112000</td>\n",
       "      <td>3</td>\n",
       "      <td>3</td>\n",
       "      <td>2017</td>\n",
       "      <td>1682 days</td>\n",
       "    </tr>\n",
       "    <tr>\n",
       "      <th>3</th>\n",
       "      <td>7997</td>\n",
       "      <td>75</td>\n",
       "      <td>2017-05-09</td>\n",
       "      <td>1</td>\n",
       "      <td>100000</td>\n",
       "      <td>4</td>\n",
       "      <td>3</td>\n",
       "      <td>2017</td>\n",
       "      <td>1749 days</td>\n",
       "    </tr>\n",
       "    <tr>\n",
       "      <th>5</th>\n",
       "      <td>15044</td>\n",
       "      <td>68</td>\n",
       "      <td>2018-04-26</td>\n",
       "      <td>2</td>\n",
       "      <td>70000</td>\n",
       "      <td>4</td>\n",
       "      <td>2</td>\n",
       "      <td>2018</td>\n",
       "      <td>1397 days</td>\n",
       "    </tr>\n",
       "    <tr>\n",
       "      <th>8</th>\n",
       "      <td>3729</td>\n",
       "      <td>65</td>\n",
       "      <td>2018-02-09</td>\n",
       "      <td>2</td>\n",
       "      <td>53000</td>\n",
       "      <td>4</td>\n",
       "      <td>1</td>\n",
       "      <td>2018</td>\n",
       "      <td>1473 days</td>\n",
       "    </tr>\n",
       "    <tr>\n",
       "      <th>12</th>\n",
       "      <td>3060</td>\n",
       "      <td>58</td>\n",
       "      <td>2017-11-11</td>\n",
       "      <td>2</td>\n",
       "      <td>51000</td>\n",
       "      <td>3</td>\n",
       "      <td>1</td>\n",
       "      <td>2017</td>\n",
       "      <td>1563 days</td>\n",
       "    </tr>\n",
       "  </tbody>\n",
       "</table>\n",
       "</div>"
      ],
      "text/plain": [
       "    customer_id  age became_member_on  gender  income  age_category  \\\n",
       "1           399   55       2017-07-15       1  112000             3   \n",
       "3          7997   75       2017-05-09       1  100000             4   \n",
       "5         15044   68       2018-04-26       2   70000             4   \n",
       "8          3729   65       2018-02-09       2   53000             4   \n",
       "12         3060   58       2017-11-11       2   51000             3   \n",
       "\n",
       "    income_group  start_year total_days  \n",
       "1              3        2017  1682 days  \n",
       "3              3        2017  1749 days  \n",
       "5              2        2018  1397 days  \n",
       "8              1        2018  1473 days  \n",
       "12             1        2017  1563 days  "
      ]
     },
     "execution_count": 162,
     "metadata": {},
     "output_type": "execute_result"
    }
   ],
   "source": [
    "clean_profile.head()"
   ]
  },
  {
   "cell_type": "code",
   "execution_count": 163,
   "metadata": {
    "scrolled": true
   },
   "outputs": [],
   "source": [
    "# Let us drop the days unit\n",
    "clean_profile['total_days'] = clean_profile['total_days'].dt.days"
   ]
  },
  {
   "cell_type": "code",
   "execution_count": 164,
   "metadata": {
    "scrolled": true
   },
   "outputs": [
    {
     "data": {
      "text/html": [
       "<div>\n",
       "<style scoped>\n",
       "    .dataframe tbody tr th:only-of-type {\n",
       "        vertical-align: middle;\n",
       "    }\n",
       "\n",
       "    .dataframe tbody tr th {\n",
       "        vertical-align: top;\n",
       "    }\n",
       "\n",
       "    .dataframe thead th {\n",
       "        text-align: right;\n",
       "    }\n",
       "</style>\n",
       "<table border=\"1\" class=\"dataframe\">\n",
       "  <thead>\n",
       "    <tr style=\"text-align: right;\">\n",
       "      <th></th>\n",
       "      <th>customer_id</th>\n",
       "      <th>age</th>\n",
       "      <th>became_member_on</th>\n",
       "      <th>gender</th>\n",
       "      <th>income</th>\n",
       "      <th>age_category</th>\n",
       "      <th>income_group</th>\n",
       "      <th>start_year</th>\n",
       "      <th>total_days</th>\n",
       "    </tr>\n",
       "  </thead>\n",
       "  <tbody>\n",
       "    <tr>\n",
       "      <th>1</th>\n",
       "      <td>399</td>\n",
       "      <td>55</td>\n",
       "      <td>2017-07-15</td>\n",
       "      <td>1</td>\n",
       "      <td>112000</td>\n",
       "      <td>3</td>\n",
       "      <td>3</td>\n",
       "      <td>2017</td>\n",
       "      <td>1682</td>\n",
       "    </tr>\n",
       "    <tr>\n",
       "      <th>3</th>\n",
       "      <td>7997</td>\n",
       "      <td>75</td>\n",
       "      <td>2017-05-09</td>\n",
       "      <td>1</td>\n",
       "      <td>100000</td>\n",
       "      <td>4</td>\n",
       "      <td>3</td>\n",
       "      <td>2017</td>\n",
       "      <td>1749</td>\n",
       "    </tr>\n",
       "    <tr>\n",
       "      <th>5</th>\n",
       "      <td>15044</td>\n",
       "      <td>68</td>\n",
       "      <td>2018-04-26</td>\n",
       "      <td>2</td>\n",
       "      <td>70000</td>\n",
       "      <td>4</td>\n",
       "      <td>2</td>\n",
       "      <td>2018</td>\n",
       "      <td>1397</td>\n",
       "    </tr>\n",
       "    <tr>\n",
       "      <th>8</th>\n",
       "      <td>3729</td>\n",
       "      <td>65</td>\n",
       "      <td>2018-02-09</td>\n",
       "      <td>2</td>\n",
       "      <td>53000</td>\n",
       "      <td>4</td>\n",
       "      <td>1</td>\n",
       "      <td>2018</td>\n",
       "      <td>1473</td>\n",
       "    </tr>\n",
       "    <tr>\n",
       "      <th>12</th>\n",
       "      <td>3060</td>\n",
       "      <td>58</td>\n",
       "      <td>2017-11-11</td>\n",
       "      <td>2</td>\n",
       "      <td>51000</td>\n",
       "      <td>3</td>\n",
       "      <td>1</td>\n",
       "      <td>2017</td>\n",
       "      <td>1563</td>\n",
       "    </tr>\n",
       "  </tbody>\n",
       "</table>\n",
       "</div>"
      ],
      "text/plain": [
       "    customer_id  age became_member_on  gender  income  age_category  \\\n",
       "1           399   55       2017-07-15       1  112000             3   \n",
       "3          7997   75       2017-05-09       1  100000             4   \n",
       "5         15044   68       2018-04-26       2   70000             4   \n",
       "8          3729   65       2018-02-09       2   53000             4   \n",
       "12         3060   58       2017-11-11       2   51000             3   \n",
       "\n",
       "    income_group  start_year  total_days  \n",
       "1              3        2017        1682  \n",
       "3              3        2017        1749  \n",
       "5              2        2018        1397  \n",
       "8              1        2018        1473  \n",
       "12             1        2017        1563  "
      ]
     },
     "execution_count": 164,
     "metadata": {},
     "output_type": "execute_result"
    }
   ],
   "source": [
    "# check clean_profile again \n",
    "clean_profile.head()"
   ]
  },
  {
   "cell_type": "code",
   "execution_count": 165,
   "metadata": {},
   "outputs": [],
   "source": [
    "# Let us create a new colum-member_cat\n",
    "clean_profile['member_cat'] = pd.cut(clean_profile['total_days'], bins=[390, 1000, 1600, 2500],labels=['new', 'regular', 'loyal'])"
   ]
  },
  {
   "cell_type": "code",
   "execution_count": 166,
   "metadata": {},
   "outputs": [],
   "source": [
    "# Let us replace the new value of column-member_cat to numerical\n",
    "heading_member_cat = clean_profile['member_cat'].astype('category').cat.categories.tolist()\n",
    "numerical_member_type = {'member_cat' : {k: v for k,v in zip(heading_member_cat,list(range(1,len(heading_member_cat)+1)))}}"
   ]
  },
  {
   "cell_type": "code",
   "execution_count": 167,
   "metadata": {},
   "outputs": [
    {
     "data": {
      "text/plain": [
       "{'member_cat': {'new': 1, 'regular': 2, 'loyal': 3}}"
      ]
     },
     "execution_count": 167,
     "metadata": {},
     "output_type": "execute_result"
    }
   ],
   "source": [
    "# check the values\n",
    "numerical_member_type"
   ]
  },
  {
   "cell_type": "code",
   "execution_count": 168,
   "metadata": {},
   "outputs": [],
   "source": [
    "# Let us change -member_cat to numerical\n",
    "clean_profile.replace(numerical_member_type, inplace=True)"
   ]
  },
  {
   "cell_type": "code",
   "execution_count": 169,
   "metadata": {},
   "outputs": [],
   "source": [
    "# Let us remove columns-age,income,became_member_on, total_days.\n",
    "clean_profile.drop(columns = ['age','income','became_member_on', 'total_days'], axis=1, inplace=True)"
   ]
  },
  {
   "cell_type": "code",
   "execution_count": 170,
   "metadata": {},
   "outputs": [
    {
     "name": "stdout",
     "output_type": "stream",
     "text": [
      "<class 'pandas.core.frame.DataFrame'>\n",
      "Int64Index: 14825 entries, 1 to 16999\n",
      "Data columns (total 6 columns):\n",
      "customer_id     14825 non-null int64\n",
      "gender          14825 non-null int64\n",
      "age_category    14825 non-null int64\n",
      "income_group    14825 non-null int64\n",
      "start_year      14825 non-null int64\n",
      "member_cat      13673 non-null float64\n",
      "dtypes: float64(1), int64(5)\n",
      "memory usage: 810.7 KB\n"
     ]
    }
   ],
   "source": [
    "# Check the changes\n",
    "clean_profile.info()"
   ]
  },
  {
   "cell_type": "code",
   "execution_count": 171,
   "metadata": {
    "scrolled": false
   },
   "outputs": [
    {
     "data": {
      "text/html": [
       "<div>\n",
       "<style scoped>\n",
       "    .dataframe tbody tr th:only-of-type {\n",
       "        vertical-align: middle;\n",
       "    }\n",
       "\n",
       "    .dataframe tbody tr th {\n",
       "        vertical-align: top;\n",
       "    }\n",
       "\n",
       "    .dataframe thead th {\n",
       "        text-align: right;\n",
       "    }\n",
       "</style>\n",
       "<table border=\"1\" class=\"dataframe\">\n",
       "  <thead>\n",
       "    <tr style=\"text-align: right;\">\n",
       "      <th></th>\n",
       "      <th>customer_id</th>\n",
       "      <th>gender</th>\n",
       "      <th>age_category</th>\n",
       "      <th>income_group</th>\n",
       "      <th>start_year</th>\n",
       "      <th>member_cat</th>\n",
       "    </tr>\n",
       "  </thead>\n",
       "  <tbody>\n",
       "    <tr>\n",
       "      <th>1</th>\n",
       "      <td>399</td>\n",
       "      <td>1</td>\n",
       "      <td>3</td>\n",
       "      <td>3</td>\n",
       "      <td>2017</td>\n",
       "      <td>3.0</td>\n",
       "    </tr>\n",
       "    <tr>\n",
       "      <th>3</th>\n",
       "      <td>7997</td>\n",
       "      <td>1</td>\n",
       "      <td>4</td>\n",
       "      <td>3</td>\n",
       "      <td>2017</td>\n",
       "      <td>3.0</td>\n",
       "    </tr>\n",
       "    <tr>\n",
       "      <th>5</th>\n",
       "      <td>15044</td>\n",
       "      <td>2</td>\n",
       "      <td>4</td>\n",
       "      <td>2</td>\n",
       "      <td>2018</td>\n",
       "      <td>2.0</td>\n",
       "    </tr>\n",
       "    <tr>\n",
       "      <th>8</th>\n",
       "      <td>3729</td>\n",
       "      <td>2</td>\n",
       "      <td>4</td>\n",
       "      <td>1</td>\n",
       "      <td>2018</td>\n",
       "      <td>2.0</td>\n",
       "    </tr>\n",
       "    <tr>\n",
       "      <th>12</th>\n",
       "      <td>3060</td>\n",
       "      <td>2</td>\n",
       "      <td>3</td>\n",
       "      <td>1</td>\n",
       "      <td>2017</td>\n",
       "      <td>2.0</td>\n",
       "    </tr>\n",
       "  </tbody>\n",
       "</table>\n",
       "</div>"
      ],
      "text/plain": [
       "    customer_id  gender  age_category  income_group  start_year  member_cat\n",
       "1           399       1             3             3        2017         3.0\n",
       "3          7997       1             4             3        2017         3.0\n",
       "5         15044       2             4             2        2018         2.0\n",
       "8          3729       2             4             1        2018         2.0\n",
       "12         3060       2             3             1        2017         2.0"
      ]
     },
     "execution_count": 171,
     "metadata": {},
     "output_type": "execute_result"
    }
   ],
   "source": [
    "# check some rows of cleab_profile\n",
    "clean_profile.head()"
   ]
  },
  {
   "cell_type": "code",
   "execution_count": 172,
   "metadata": {},
   "outputs": [],
   "source": [
    "#Trasncript dataset cleaning and processing"
   ]
  },
  {
   "cell_type": "code",
   "execution_count": 173,
   "metadata": {},
   "outputs": [],
   "source": [
    "# Let us make a copy of transcript\n",
    "clean_transcript = transcript.copy()"
   ]
  },
  {
   "cell_type": "code",
   "execution_count": 174,
   "metadata": {},
   "outputs": [
    {
     "data": {
      "text/html": [
       "<div>\n",
       "<style scoped>\n",
       "    .dataframe tbody tr th:only-of-type {\n",
       "        vertical-align: middle;\n",
       "    }\n",
       "\n",
       "    .dataframe tbody tr th {\n",
       "        vertical-align: top;\n",
       "    }\n",
       "\n",
       "    .dataframe thead th {\n",
       "        text-align: right;\n",
       "    }\n",
       "</style>\n",
       "<table border=\"1\" class=\"dataframe\">\n",
       "  <thead>\n",
       "    <tr style=\"text-align: right;\">\n",
       "      <th></th>\n",
       "      <th>event</th>\n",
       "      <th>person</th>\n",
       "      <th>time</th>\n",
       "      <th>value</th>\n",
       "    </tr>\n",
       "  </thead>\n",
       "  <tbody>\n",
       "    <tr>\n",
       "      <th>0</th>\n",
       "      <td>offer received</td>\n",
       "      <td>78afa995795e4d85b5d9ceeca43f5fef</td>\n",
       "      <td>0</td>\n",
       "      <td>{'offer id': '9b98b8c7a33c4b65b9aebfe6a799e6d9'}</td>\n",
       "    </tr>\n",
       "    <tr>\n",
       "      <th>1</th>\n",
       "      <td>offer received</td>\n",
       "      <td>a03223e636434f42ac4c3df47e8bac43</td>\n",
       "      <td>0</td>\n",
       "      <td>{'offer id': '0b1e1539f2cc45b7b9fa7c272da2e1d7'}</td>\n",
       "    </tr>\n",
       "    <tr>\n",
       "      <th>2</th>\n",
       "      <td>offer received</td>\n",
       "      <td>e2127556f4f64592b11af22de27a7932</td>\n",
       "      <td>0</td>\n",
       "      <td>{'offer id': '2906b810c7d4411798c6938adc9daaa5'}</td>\n",
       "    </tr>\n",
       "    <tr>\n",
       "      <th>3</th>\n",
       "      <td>offer received</td>\n",
       "      <td>8ec6ce2a7e7949b1bf142def7d0e0586</td>\n",
       "      <td>0</td>\n",
       "      <td>{'offer id': 'fafdcd668e3743c1bb461111dcafc2a4'}</td>\n",
       "    </tr>\n",
       "    <tr>\n",
       "      <th>4</th>\n",
       "      <td>offer received</td>\n",
       "      <td>68617ca6246f4fbc85e91a2a49552598</td>\n",
       "      <td>0</td>\n",
       "      <td>{'offer id': '4d5c57ea9a6940dd891ad53e9dbe8da0'}</td>\n",
       "    </tr>\n",
       "  </tbody>\n",
       "</table>\n",
       "</div>"
      ],
      "text/plain": [
       "            event                            person  time  \\\n",
       "0  offer received  78afa995795e4d85b5d9ceeca43f5fef     0   \n",
       "1  offer received  a03223e636434f42ac4c3df47e8bac43     0   \n",
       "2  offer received  e2127556f4f64592b11af22de27a7932     0   \n",
       "3  offer received  8ec6ce2a7e7949b1bf142def7d0e0586     0   \n",
       "4  offer received  68617ca6246f4fbc85e91a2a49552598     0   \n",
       "\n",
       "                                              value  \n",
       "0  {'offer id': '9b98b8c7a33c4b65b9aebfe6a799e6d9'}  \n",
       "1  {'offer id': '0b1e1539f2cc45b7b9fa7c272da2e1d7'}  \n",
       "2  {'offer id': '2906b810c7d4411798c6938adc9daaa5'}  \n",
       "3  {'offer id': 'fafdcd668e3743c1bb461111dcafc2a4'}  \n",
       "4  {'offer id': '4d5c57ea9a6940dd891ad53e9dbe8da0'}  "
      ]
     },
     "execution_count": 174,
     "metadata": {},
     "output_type": "execute_result"
    }
   ],
   "source": [
    "#check the cleaned dataset\n",
    "clean_transcript.head()"
   ]
  },
  {
   "cell_type": "code",
   "execution_count": 175,
   "metadata": {},
   "outputs": [],
   "source": [
    "# Let us rename column-time to time_hour\n",
    "clean_transcript.rename(columns={'time':'time_hour'},inplace=True)"
   ]
  },
  {
   "cell_type": "code",
   "execution_count": 176,
   "metadata": {},
   "outputs": [],
   "source": [
    "# Let us rename the column- person as custmer_id\n",
    "clean_transcript.rename(columns={'person':'customer_id'},inplace=True)"
   ]
  },
  {
   "cell_type": "code",
   "execution_count": 177,
   "metadata": {},
   "outputs": [
    {
     "data": {
      "text/html": [
       "<div>\n",
       "<style scoped>\n",
       "    .dataframe tbody tr th:only-of-type {\n",
       "        vertical-align: middle;\n",
       "    }\n",
       "\n",
       "    .dataframe tbody tr th {\n",
       "        vertical-align: top;\n",
       "    }\n",
       "\n",
       "    .dataframe thead th {\n",
       "        text-align: right;\n",
       "    }\n",
       "</style>\n",
       "<table border=\"1\" class=\"dataframe\">\n",
       "  <thead>\n",
       "    <tr style=\"text-align: right;\">\n",
       "      <th></th>\n",
       "      <th>event</th>\n",
       "      <th>customer_id</th>\n",
       "      <th>time_hour</th>\n",
       "      <th>value</th>\n",
       "    </tr>\n",
       "  </thead>\n",
       "  <tbody>\n",
       "    <tr>\n",
       "      <th>0</th>\n",
       "      <td>offer received</td>\n",
       "      <td>78afa995795e4d85b5d9ceeca43f5fef</td>\n",
       "      <td>0</td>\n",
       "      <td>{'offer id': '9b98b8c7a33c4b65b9aebfe6a799e6d9'}</td>\n",
       "    </tr>\n",
       "    <tr>\n",
       "      <th>1</th>\n",
       "      <td>offer received</td>\n",
       "      <td>a03223e636434f42ac4c3df47e8bac43</td>\n",
       "      <td>0</td>\n",
       "      <td>{'offer id': '0b1e1539f2cc45b7b9fa7c272da2e1d7'}</td>\n",
       "    </tr>\n",
       "    <tr>\n",
       "      <th>2</th>\n",
       "      <td>offer received</td>\n",
       "      <td>e2127556f4f64592b11af22de27a7932</td>\n",
       "      <td>0</td>\n",
       "      <td>{'offer id': '2906b810c7d4411798c6938adc9daaa5'}</td>\n",
       "    </tr>\n",
       "    <tr>\n",
       "      <th>3</th>\n",
       "      <td>offer received</td>\n",
       "      <td>8ec6ce2a7e7949b1bf142def7d0e0586</td>\n",
       "      <td>0</td>\n",
       "      <td>{'offer id': 'fafdcd668e3743c1bb461111dcafc2a4'}</td>\n",
       "    </tr>\n",
       "    <tr>\n",
       "      <th>4</th>\n",
       "      <td>offer received</td>\n",
       "      <td>68617ca6246f4fbc85e91a2a49552598</td>\n",
       "      <td>0</td>\n",
       "      <td>{'offer id': '4d5c57ea9a6940dd891ad53e9dbe8da0'}</td>\n",
       "    </tr>\n",
       "  </tbody>\n",
       "</table>\n",
       "</div>"
      ],
      "text/plain": [
       "            event                       customer_id  time_hour  \\\n",
       "0  offer received  78afa995795e4d85b5d9ceeca43f5fef          0   \n",
       "1  offer received  a03223e636434f42ac4c3df47e8bac43          0   \n",
       "2  offer received  e2127556f4f64592b11af22de27a7932          0   \n",
       "3  offer received  8ec6ce2a7e7949b1bf142def7d0e0586          0   \n",
       "4  offer received  68617ca6246f4fbc85e91a2a49552598          0   \n",
       "\n",
       "                                              value  \n",
       "0  {'offer id': '9b98b8c7a33c4b65b9aebfe6a799e6d9'}  \n",
       "1  {'offer id': '0b1e1539f2cc45b7b9fa7c272da2e1d7'}  \n",
       "2  {'offer id': '2906b810c7d4411798c6938adc9daaa5'}  \n",
       "3  {'offer id': 'fafdcd668e3743c1bb461111dcafc2a4'}  \n",
       "4  {'offer id': '4d5c57ea9a6940dd891ad53e9dbe8da0'}  "
      ]
     },
     "execution_count": 177,
     "metadata": {},
     "output_type": "execute_result"
    }
   ],
   "source": [
    "clean_transcript.head()"
   ]
  },
  {
   "cell_type": "code",
   "execution_count": 178,
   "metadata": {
    "scrolled": true
   },
   "outputs": [],
   "source": [
    "clean_transcript.replace(replaced_customer_id, inplace=True)"
   ]
  },
  {
   "cell_type": "code",
   "execution_count": 179,
   "metadata": {
    "scrolled": true
   },
   "outputs": [
    {
     "data": {
      "text/html": [
       "<div>\n",
       "<style scoped>\n",
       "    .dataframe tbody tr th:only-of-type {\n",
       "        vertical-align: middle;\n",
       "    }\n",
       "\n",
       "    .dataframe tbody tr th {\n",
       "        vertical-align: top;\n",
       "    }\n",
       "\n",
       "    .dataframe thead th {\n",
       "        text-align: right;\n",
       "    }\n",
       "</style>\n",
       "<table border=\"1\" class=\"dataframe\">\n",
       "  <thead>\n",
       "    <tr style=\"text-align: right;\">\n",
       "      <th></th>\n",
       "      <th>event</th>\n",
       "      <th>customer_id</th>\n",
       "      <th>time_hour</th>\n",
       "      <th>value</th>\n",
       "    </tr>\n",
       "  </thead>\n",
       "  <tbody>\n",
       "    <tr>\n",
       "      <th>0</th>\n",
       "      <td>offer received</td>\n",
       "      <td>7997</td>\n",
       "      <td>0</td>\n",
       "      <td>{'offer id': '9b98b8c7a33c4b65b9aebfe6a799e6d9'}</td>\n",
       "    </tr>\n",
       "    <tr>\n",
       "      <th>1</th>\n",
       "      <td>offer received</td>\n",
       "      <td>10736</td>\n",
       "      <td>0</td>\n",
       "      <td>{'offer id': '0b1e1539f2cc45b7b9fa7c272da2e1d7'}</td>\n",
       "    </tr>\n",
       "    <tr>\n",
       "      <th>2</th>\n",
       "      <td>offer received</td>\n",
       "      <td>15044</td>\n",
       "      <td>0</td>\n",
       "      <td>{'offer id': '2906b810c7d4411798c6938adc9daaa5'}</td>\n",
       "    </tr>\n",
       "    <tr>\n",
       "      <th>3</th>\n",
       "      <td>offer received</td>\n",
       "      <td>9525</td>\n",
       "      <td>0</td>\n",
       "      <td>{'offer id': 'fafdcd668e3743c1bb461111dcafc2a4'}</td>\n",
       "    </tr>\n",
       "    <tr>\n",
       "      <th>4</th>\n",
       "      <td>offer received</td>\n",
       "      <td>6940</td>\n",
       "      <td>0</td>\n",
       "      <td>{'offer id': '4d5c57ea9a6940dd891ad53e9dbe8da0'}</td>\n",
       "    </tr>\n",
       "    <tr>\n",
       "      <th>5</th>\n",
       "      <td>offer received</td>\n",
       "      <td>3729</td>\n",
       "      <td>0</td>\n",
       "      <td>{'offer id': 'f19421c1d4aa40978ebb69ca19b0e20d'}</td>\n",
       "    </tr>\n",
       "    <tr>\n",
       "      <th>6</th>\n",
       "      <td>offer received</td>\n",
       "      <td>13109</td>\n",
       "      <td>0</td>\n",
       "      <td>{'offer id': '2298d6c36e964ae4a3e7e9706d1fb8c2'}</td>\n",
       "    </tr>\n",
       "    <tr>\n",
       "      <th>7</th>\n",
       "      <td>offer received</td>\n",
       "      <td>3060</td>\n",
       "      <td>0</td>\n",
       "      <td>{'offer id': '3f207df678b143eea3cee63160fa8bed'}</td>\n",
       "    </tr>\n",
       "    <tr>\n",
       "      <th>8</th>\n",
       "      <td>offer received</td>\n",
       "      <td>11411</td>\n",
       "      <td>0</td>\n",
       "      <td>{'offer id': '0b1e1539f2cc45b7b9fa7c272da2e1d7'}</td>\n",
       "    </tr>\n",
       "    <tr>\n",
       "      <th>9</th>\n",
       "      <td>offer received</td>\n",
       "      <td>3275</td>\n",
       "      <td>0</td>\n",
       "      <td>{'offer id': '0b1e1539f2cc45b7b9fa7c272da2e1d7'}</td>\n",
       "    </tr>\n",
       "    <tr>\n",
       "      <th>10</th>\n",
       "      <td>offer received</td>\n",
       "      <td>7719</td>\n",
       "      <td>0</td>\n",
       "      <td>{'offer id': '0b1e1539f2cc45b7b9fa7c272da2e1d7'}</td>\n",
       "    </tr>\n",
       "    <tr>\n",
       "      <th>11</th>\n",
       "      <td>offer received</td>\n",
       "      <td>4062</td>\n",
       "      <td>0</td>\n",
       "      <td>{'offer id': '0b1e1539f2cc45b7b9fa7c272da2e1d7'}</td>\n",
       "    </tr>\n",
       "    <tr>\n",
       "      <th>12</th>\n",
       "      <td>offer received</td>\n",
       "      <td>4997</td>\n",
       "      <td>0</td>\n",
       "      <td>{'offer id': 'ae264e3637204a6fb9bb56bc8210ddfd'}</td>\n",
       "    </tr>\n",
       "    <tr>\n",
       "      <th>13</th>\n",
       "      <td>offer received</td>\n",
       "      <td>12985</td>\n",
       "      <td>0</td>\n",
       "      <td>{'offer id': '3f207df678b143eea3cee63160fa8bed'}</td>\n",
       "    </tr>\n",
       "    <tr>\n",
       "      <th>14</th>\n",
       "      <td>offer received</td>\n",
       "      <td>14193</td>\n",
       "      <td>0</td>\n",
       "      <td>{'offer id': '0b1e1539f2cc45b7b9fa7c272da2e1d7'}</td>\n",
       "    </tr>\n",
       "    <tr>\n",
       "      <th>15</th>\n",
       "      <td>offer received</td>\n",
       "      <td>16459</td>\n",
       "      <td>0</td>\n",
       "      <td>{'offer id': 'fafdcd668e3743c1bb461111dcafc2a4'}</td>\n",
       "    </tr>\n",
       "    <tr>\n",
       "      <th>16</th>\n",
       "      <td>offer received</td>\n",
       "      <td>13881</td>\n",
       "      <td>0</td>\n",
       "      <td>{'offer id': '0b1e1539f2cc45b7b9fa7c272da2e1d7'}</td>\n",
       "    </tr>\n",
       "    <tr>\n",
       "      <th>17</th>\n",
       "      <td>offer received</td>\n",
       "      <td>6733</td>\n",
       "      <td>0</td>\n",
       "      <td>{'offer id': '2906b810c7d4411798c6938adc9daaa5'}</td>\n",
       "    </tr>\n",
       "    <tr>\n",
       "      <th>18</th>\n",
       "      <td>offer received</td>\n",
       "      <td>15695</td>\n",
       "      <td>0</td>\n",
       "      <td>{'offer id': '9b98b8c7a33c4b65b9aebfe6a799e6d9'}</td>\n",
       "    </tr>\n",
       "    <tr>\n",
       "      <th>19</th>\n",
       "      <td>offer received</td>\n",
       "      <td>1962</td>\n",
       "      <td>0</td>\n",
       "      <td>{'offer id': 'ae264e3637204a6fb9bb56bc8210ddfd'}</td>\n",
       "    </tr>\n",
       "  </tbody>\n",
       "</table>\n",
       "</div>"
      ],
      "text/plain": [
       "             event  customer_id  time_hour  \\\n",
       "0   offer received         7997          0   \n",
       "1   offer received        10736          0   \n",
       "2   offer received        15044          0   \n",
       "3   offer received         9525          0   \n",
       "4   offer received         6940          0   \n",
       "5   offer received         3729          0   \n",
       "6   offer received        13109          0   \n",
       "7   offer received         3060          0   \n",
       "8   offer received        11411          0   \n",
       "9   offer received         3275          0   \n",
       "10  offer received         7719          0   \n",
       "11  offer received         4062          0   \n",
       "12  offer received         4997          0   \n",
       "13  offer received        12985          0   \n",
       "14  offer received        14193          0   \n",
       "15  offer received        16459          0   \n",
       "16  offer received        13881          0   \n",
       "17  offer received         6733          0   \n",
       "18  offer received        15695          0   \n",
       "19  offer received         1962          0   \n",
       "\n",
       "                                               value  \n",
       "0   {'offer id': '9b98b8c7a33c4b65b9aebfe6a799e6d9'}  \n",
       "1   {'offer id': '0b1e1539f2cc45b7b9fa7c272da2e1d7'}  \n",
       "2   {'offer id': '2906b810c7d4411798c6938adc9daaa5'}  \n",
       "3   {'offer id': 'fafdcd668e3743c1bb461111dcafc2a4'}  \n",
       "4   {'offer id': '4d5c57ea9a6940dd891ad53e9dbe8da0'}  \n",
       "5   {'offer id': 'f19421c1d4aa40978ebb69ca19b0e20d'}  \n",
       "6   {'offer id': '2298d6c36e964ae4a3e7e9706d1fb8c2'}  \n",
       "7   {'offer id': '3f207df678b143eea3cee63160fa8bed'}  \n",
       "8   {'offer id': '0b1e1539f2cc45b7b9fa7c272da2e1d7'}  \n",
       "9   {'offer id': '0b1e1539f2cc45b7b9fa7c272da2e1d7'}  \n",
       "10  {'offer id': '0b1e1539f2cc45b7b9fa7c272da2e1d7'}  \n",
       "11  {'offer id': '0b1e1539f2cc45b7b9fa7c272da2e1d7'}  \n",
       "12  {'offer id': 'ae264e3637204a6fb9bb56bc8210ddfd'}  \n",
       "13  {'offer id': '3f207df678b143eea3cee63160fa8bed'}  \n",
       "14  {'offer id': '0b1e1539f2cc45b7b9fa7c272da2e1d7'}  \n",
       "15  {'offer id': 'fafdcd668e3743c1bb461111dcafc2a4'}  \n",
       "16  {'offer id': '0b1e1539f2cc45b7b9fa7c272da2e1d7'}  \n",
       "17  {'offer id': '2906b810c7d4411798c6938adc9daaa5'}  \n",
       "18  {'offer id': '9b98b8c7a33c4b65b9aebfe6a799e6d9'}  \n",
       "19  {'offer id': 'ae264e3637204a6fb9bb56bc8210ddfd'}  "
      ]
     },
     "execution_count": 179,
     "metadata": {},
     "output_type": "execute_result"
    }
   ],
   "source": [
    "clean_transcript.head(20)"
   ]
  },
  {
   "cell_type": "code",
   "execution_count": 180,
   "metadata": {},
   "outputs": [],
   "source": [
    "# Let us take out the keys in column-value to new column\n",
    "keys = []\n",
    "for idx, row in clean_transcript.iterrows():\n",
    "    for k in row['value']:\n",
    "        if k in keys:\n",
    "            continue\n",
    "        else:\n",
    "            keys.append(k)"
   ]
  },
  {
   "cell_type": "code",
   "execution_count": 181,
   "metadata": {
    "scrolled": true
   },
   "outputs": [
    {
     "data": {
      "text/plain": [
       "['offer id', 'amount', 'offer_id', 'reward']"
      ]
     },
     "execution_count": 181,
     "metadata": {},
     "output_type": "execute_result"
    }
   ],
   "source": [
    "# checking the keys\n",
    "keys"
   ]
  },
  {
   "cell_type": "code",
   "execution_count": 182,
   "metadata": {},
   "outputs": [],
   "source": [
    "#Let us create new columns for each datatyoe\n",
    "clean_transcript['offer_id'] = '' \n",
    "clean_transcript['amount'] = 0 \n",
    "clean_transcript['reward'] = 0  "
   ]
  },
  {
   "cell_type": "code",
   "execution_count": 183,
   "metadata": {},
   "outputs": [],
   "source": [
    "# Let us Iterate on clean_transcript and update with value for new columns\n",
    "for idx, row in clean_transcript.iterrows():\n",
    "    for v in row['value']:\n",
    "        if v == 'offer_id' or v == 'offer id': #offer id and offer_id are same \n",
    "            clean_transcript.at[idx, 'offer_id'] = row['value'][v]\n",
    "        if v == 'amount':\n",
    "            clean_transcript.at[idx, 'amount'] = row['value'][v]\n",
    "        if v == 'reward':\n",
    "            clean_transcript.at[idx, 'reward'] = row['value'][v]"
   ]
  },
  {
   "cell_type": "code",
   "execution_count": 184,
   "metadata": {},
   "outputs": [],
   "source": [
    "# Let us fill the NaN with N/A in column-offer_id \n",
    "clean_transcript['offer_id'] = clean_transcript['offer_id'].apply(lambda x: 'N/A' if x == '' else x)"
   ]
  },
  {
   "cell_type": "code",
   "execution_count": 185,
   "metadata": {},
   "outputs": [],
   "source": [
    "# Let us drop the colum-value\n",
    "clean_transcript.drop('value', axis=1, inplace=True)"
   ]
  },
  {
   "cell_type": "code",
   "execution_count": 186,
   "metadata": {
    "scrolled": true
   },
   "outputs": [
    {
     "data": {
      "text/html": [
       "<div>\n",
       "<style scoped>\n",
       "    .dataframe tbody tr th:only-of-type {\n",
       "        vertical-align: middle;\n",
       "    }\n",
       "\n",
       "    .dataframe tbody tr th {\n",
       "        vertical-align: top;\n",
       "    }\n",
       "\n",
       "    .dataframe thead th {\n",
       "        text-align: right;\n",
       "    }\n",
       "</style>\n",
       "<table border=\"1\" class=\"dataframe\">\n",
       "  <thead>\n",
       "    <tr style=\"text-align: right;\">\n",
       "      <th></th>\n",
       "      <th>event</th>\n",
       "      <th>customer_id</th>\n",
       "      <th>time_hour</th>\n",
       "      <th>offer_id</th>\n",
       "      <th>amount</th>\n",
       "      <th>reward</th>\n",
       "    </tr>\n",
       "  </thead>\n",
       "  <tbody>\n",
       "    <tr>\n",
       "      <th>0</th>\n",
       "      <td>offer received</td>\n",
       "      <td>7997</td>\n",
       "      <td>0</td>\n",
       "      <td>9b98b8c7a33c4b65b9aebfe6a799e6d9</td>\n",
       "      <td>0</td>\n",
       "      <td>0</td>\n",
       "    </tr>\n",
       "    <tr>\n",
       "      <th>1</th>\n",
       "      <td>offer received</td>\n",
       "      <td>10736</td>\n",
       "      <td>0</td>\n",
       "      <td>0b1e1539f2cc45b7b9fa7c272da2e1d7</td>\n",
       "      <td>0</td>\n",
       "      <td>0</td>\n",
       "    </tr>\n",
       "    <tr>\n",
       "      <th>2</th>\n",
       "      <td>offer received</td>\n",
       "      <td>15044</td>\n",
       "      <td>0</td>\n",
       "      <td>2906b810c7d4411798c6938adc9daaa5</td>\n",
       "      <td>0</td>\n",
       "      <td>0</td>\n",
       "    </tr>\n",
       "    <tr>\n",
       "      <th>3</th>\n",
       "      <td>offer received</td>\n",
       "      <td>9525</td>\n",
       "      <td>0</td>\n",
       "      <td>fafdcd668e3743c1bb461111dcafc2a4</td>\n",
       "      <td>0</td>\n",
       "      <td>0</td>\n",
       "    </tr>\n",
       "    <tr>\n",
       "      <th>4</th>\n",
       "      <td>offer received</td>\n",
       "      <td>6940</td>\n",
       "      <td>0</td>\n",
       "      <td>4d5c57ea9a6940dd891ad53e9dbe8da0</td>\n",
       "      <td>0</td>\n",
       "      <td>0</td>\n",
       "    </tr>\n",
       "  </tbody>\n",
       "</table>\n",
       "</div>"
      ],
      "text/plain": [
       "            event  customer_id  time_hour                          offer_id  \\\n",
       "0  offer received         7997          0  9b98b8c7a33c4b65b9aebfe6a799e6d9   \n",
       "1  offer received        10736          0  0b1e1539f2cc45b7b9fa7c272da2e1d7   \n",
       "2  offer received        15044          0  2906b810c7d4411798c6938adc9daaa5   \n",
       "3  offer received         9525          0  fafdcd668e3743c1bb461111dcafc2a4   \n",
       "4  offer received         6940          0  4d5c57ea9a6940dd891ad53e9dbe8da0   \n",
       "\n",
       "   amount  reward  \n",
       "0       0       0  \n",
       "1       0       0  \n",
       "2       0       0  \n",
       "3       0       0  \n",
       "4       0       0  "
      ]
     },
     "execution_count": 186,
     "metadata": {},
     "output_type": "execute_result"
    }
   ],
   "source": [
    "# Check the values of clean_transcript\n",
    "clean_transcript.head()"
   ]
  },
  {
   "cell_type": "code",
   "execution_count": 187,
   "metadata": {},
   "outputs": [
    {
     "data": {
      "text/plain": [
       "array(['offer received', 'offer viewed', 'transaction', 'offer completed'], dtype=object)"
      ]
     },
     "execution_count": 187,
     "metadata": {},
     "output_type": "execute_result"
    }
   ],
   "source": [
    "# Let us check the unique values in column-event\n",
    "clean_transcript['event'].unique()"
   ]
  },
  {
   "cell_type": "code",
   "execution_count": 188,
   "metadata": {},
   "outputs": [],
   "source": [
    "# Let us remove the transactions in column -event from clean_transcript \n",
    "clean_transcript = clean_transcript[clean_transcript['event'] != 'transaction']"
   ]
  },
  {
   "cell_type": "code",
   "execution_count": 189,
   "metadata": {},
   "outputs": [],
   "source": [
    "# Let us remove -offer_received as well from col-event\n",
    "clean_transcript = clean_transcript[clean_transcript['event'] != 'offer received']"
   ]
  },
  {
   "cell_type": "code",
   "execution_count": 190,
   "metadata": {},
   "outputs": [
    {
     "data": {
      "text/plain": [
       "array(['offer viewed', 'offer completed'], dtype=object)"
      ]
     },
     "execution_count": 190,
     "metadata": {},
     "output_type": "execute_result"
    }
   ],
   "source": [
    "# check the above are removed.\n",
    "clean_transcript['event'].unique()"
   ]
  },
  {
   "cell_type": "code",
   "execution_count": 191,
   "metadata": {},
   "outputs": [],
   "source": [
    "# Let us do the process to change column-event to numbers\n",
    "heading_event = clean_transcript['event'].astype('category').cat.categories.tolist()\n",
    "replaced_heading_event = {'event' : {k: v for k,v in zip(heading_event,list(range(1,len(heading_event)+1)))}}"
   ]
  },
  {
   "cell_type": "code",
   "execution_count": 192,
   "metadata": {},
   "outputs": [
    {
     "data": {
      "text/plain": [
       "{'event': {'offer completed': 1, 'offer viewed': 2}}"
      ]
     },
     "execution_count": 192,
     "metadata": {},
     "output_type": "execute_result"
    }
   ],
   "source": [
    "# Check the values\n",
    "replaced_heading_event"
   ]
  },
  {
   "cell_type": "code",
   "execution_count": 193,
   "metadata": {},
   "outputs": [],
   "source": [
    "# convert the column-event to numbers \n",
    "clean_transcript.replace(replaced_heading_event, inplace=True)"
   ]
  },
  {
   "cell_type": "code",
   "execution_count": 194,
   "metadata": {
    "scrolled": true
   },
   "outputs": [
    {
     "name": "stdout",
     "output_type": "stream",
     "text": [
      "<class 'pandas.core.frame.DataFrame'>\n",
      "Int64Index: 91304 entries, 12650 to 306527\n",
      "Data columns (total 6 columns):\n",
      "event          91304 non-null int64\n",
      "customer_id    91304 non-null int64\n",
      "time_hour      91304 non-null int64\n",
      "offer_id       91304 non-null object\n",
      "amount         91304 non-null int64\n",
      "reward         91304 non-null int64\n",
      "dtypes: int64(5), object(1)\n",
      "memory usage: 4.9+ MB\n"
     ]
    }
   ],
   "source": [
    "# Let us check the clean_transcript column details\n",
    "clean_transcript.info()"
   ]
  },
  {
   "cell_type": "code",
   "execution_count": 195,
   "metadata": {
    "scrolled": true
   },
   "outputs": [
    {
     "data": {
      "text/html": [
       "<div>\n",
       "<style scoped>\n",
       "    .dataframe tbody tr th:only-of-type {\n",
       "        vertical-align: middle;\n",
       "    }\n",
       "\n",
       "    .dataframe tbody tr th {\n",
       "        vertical-align: top;\n",
       "    }\n",
       "\n",
       "    .dataframe thead th {\n",
       "        text-align: right;\n",
       "    }\n",
       "</style>\n",
       "<table border=\"1\" class=\"dataframe\">\n",
       "  <thead>\n",
       "    <tr style=\"text-align: right;\">\n",
       "      <th></th>\n",
       "      <th>event</th>\n",
       "      <th>customer_id</th>\n",
       "      <th>time_hour</th>\n",
       "      <th>offer_id</th>\n",
       "      <th>amount</th>\n",
       "      <th>reward</th>\n",
       "    </tr>\n",
       "  </thead>\n",
       "  <tbody>\n",
       "    <tr>\n",
       "      <th>12650</th>\n",
       "      <td>2</td>\n",
       "      <td>3729</td>\n",
       "      <td>0</td>\n",
       "      <td>f19421c1d4aa40978ebb69ca19b0e20d</td>\n",
       "      <td>0</td>\n",
       "      <td>0</td>\n",
       "    </tr>\n",
       "    <tr>\n",
       "      <th>12651</th>\n",
       "      <td>2</td>\n",
       "      <td>13995</td>\n",
       "      <td>0</td>\n",
       "      <td>5a8bc65990b245e5a138643cd4eb9837</td>\n",
       "      <td>0</td>\n",
       "      <td>0</td>\n",
       "    </tr>\n",
       "    <tr>\n",
       "      <th>12652</th>\n",
       "      <td>2</td>\n",
       "      <td>1052</td>\n",
       "      <td>0</td>\n",
       "      <td>4d5c57ea9a6940dd891ad53e9dbe8da0</td>\n",
       "      <td>0</td>\n",
       "      <td>0</td>\n",
       "    </tr>\n",
       "    <tr>\n",
       "      <th>12653</th>\n",
       "      <td>2</td>\n",
       "      <td>170</td>\n",
       "      <td>0</td>\n",
       "      <td>ae264e3637204a6fb9bb56bc8210ddfd</td>\n",
       "      <td>0</td>\n",
       "      <td>0</td>\n",
       "    </tr>\n",
       "    <tr>\n",
       "      <th>12655</th>\n",
       "      <td>2</td>\n",
       "      <td>12744</td>\n",
       "      <td>0</td>\n",
       "      <td>5a8bc65990b245e5a138643cd4eb9837</td>\n",
       "      <td>0</td>\n",
       "      <td>0</td>\n",
       "    </tr>\n",
       "  </tbody>\n",
       "</table>\n",
       "</div>"
      ],
      "text/plain": [
       "       event  customer_id  time_hour                          offer_id  \\\n",
       "12650      2         3729          0  f19421c1d4aa40978ebb69ca19b0e20d   \n",
       "12651      2        13995          0  5a8bc65990b245e5a138643cd4eb9837   \n",
       "12652      2         1052          0  4d5c57ea9a6940dd891ad53e9dbe8da0   \n",
       "12653      2          170          0  ae264e3637204a6fb9bb56bc8210ddfd   \n",
       "12655      2        12744          0  5a8bc65990b245e5a138643cd4eb9837   \n",
       "\n",
       "       amount  reward  \n",
       "12650       0       0  \n",
       "12651       0       0  \n",
       "12652       0       0  \n",
       "12653       0       0  \n",
       "12655       0       0  "
      ]
     },
     "execution_count": 195,
     "metadata": {},
     "output_type": "execute_result"
    }
   ],
   "source": [
    "#chek the data of clean_transcript\n",
    "clean_transcript.head()"
   ]
  },
  {
   "cell_type": "code",
   "execution_count": 196,
   "metadata": {},
   "outputs": [],
   "source": [
    "# Let us convert column-offer_id to numbers\n",
    "clean_transcript.replace(replaced_offer_id, inplace=True)"
   ]
  },
  {
   "cell_type": "code",
   "execution_count": 197,
   "metadata": {},
   "outputs": [
    {
     "name": "stdout",
     "output_type": "stream",
     "text": [
      "<class 'pandas.core.frame.DataFrame'>\n",
      "Int64Index: 91304 entries, 12650 to 306527\n",
      "Data columns (total 6 columns):\n",
      "event          91304 non-null int64\n",
      "customer_id    91304 non-null int64\n",
      "time_hour      91304 non-null int64\n",
      "offer_id       91304 non-null int64\n",
      "amount         91304 non-null int64\n",
      "reward         91304 non-null int64\n",
      "dtypes: int64(6)\n",
      "memory usage: 4.9 MB\n"
     ]
    }
   ],
   "source": [
    "# Let us see the colum details of clean_transcript\n",
    "clean_transcript.info()"
   ]
  },
  {
   "cell_type": "code",
   "execution_count": 198,
   "metadata": {
    "scrolled": false
   },
   "outputs": [
    {
     "data": {
      "text/html": [
       "<div>\n",
       "<style scoped>\n",
       "    .dataframe tbody tr th:only-of-type {\n",
       "        vertical-align: middle;\n",
       "    }\n",
       "\n",
       "    .dataframe tbody tr th {\n",
       "        vertical-align: top;\n",
       "    }\n",
       "\n",
       "    .dataframe thead th {\n",
       "        text-align: right;\n",
       "    }\n",
       "</style>\n",
       "<table border=\"1\" class=\"dataframe\">\n",
       "  <thead>\n",
       "    <tr style=\"text-align: right;\">\n",
       "      <th></th>\n",
       "      <th>event</th>\n",
       "      <th>customer_id</th>\n",
       "      <th>time_hour</th>\n",
       "      <th>offer_id</th>\n",
       "      <th>amount</th>\n",
       "      <th>reward</th>\n",
       "    </tr>\n",
       "  </thead>\n",
       "  <tbody>\n",
       "    <tr>\n",
       "      <th>12650</th>\n",
       "      <td>2</td>\n",
       "      <td>3729</td>\n",
       "      <td>0</td>\n",
       "      <td>9</td>\n",
       "      <td>0</td>\n",
       "      <td>0</td>\n",
       "    </tr>\n",
       "    <tr>\n",
       "      <th>12651</th>\n",
       "      <td>2</td>\n",
       "      <td>13995</td>\n",
       "      <td>0</td>\n",
       "      <td>6</td>\n",
       "      <td>0</td>\n",
       "      <td>0</td>\n",
       "    </tr>\n",
       "    <tr>\n",
       "      <th>12652</th>\n",
       "      <td>2</td>\n",
       "      <td>1052</td>\n",
       "      <td>0</td>\n",
       "      <td>5</td>\n",
       "      <td>0</td>\n",
       "      <td>0</td>\n",
       "    </tr>\n",
       "    <tr>\n",
       "      <th>12653</th>\n",
       "      <td>2</td>\n",
       "      <td>170</td>\n",
       "      <td>0</td>\n",
       "      <td>8</td>\n",
       "      <td>0</td>\n",
       "      <td>0</td>\n",
       "    </tr>\n",
       "    <tr>\n",
       "      <th>12655</th>\n",
       "      <td>2</td>\n",
       "      <td>12744</td>\n",
       "      <td>0</td>\n",
       "      <td>6</td>\n",
       "      <td>0</td>\n",
       "      <td>0</td>\n",
       "    </tr>\n",
       "  </tbody>\n",
       "</table>\n",
       "</div>"
      ],
      "text/plain": [
       "       event  customer_id  time_hour  offer_id  amount  reward\n",
       "12650      2         3729          0         9       0       0\n",
       "12651      2        13995          0         6       0       0\n",
       "12652      2         1052          0         5       0       0\n",
       "12653      2          170          0         8       0       0\n",
       "12655      2        12744          0         6       0       0"
      ]
     },
     "execution_count": 198,
     "metadata": {},
     "output_type": "execute_result"
    }
   ],
   "source": [
    "# Let us see data of clean_transcript\n",
    "clean_transcript.head()"
   ]
  },
  {
   "cell_type": "code",
   "execution_count": 244,
   "metadata": {},
   "outputs": [],
   "source": [
    "# Let us merge all the cleaned dataset transcript with portfolio\n",
    "main_df =clean_transcript.merge(clean_portfolio,how='left',on='offer_id')"
   ]
  },
  {
   "cell_type": "code",
   "execution_count": 245,
   "metadata": {
    "scrolled": true
   },
   "outputs": [
    {
     "data": {
      "text/html": [
       "<div>\n",
       "<style scoped>\n",
       "    .dataframe tbody tr th:only-of-type {\n",
       "        vertical-align: middle;\n",
       "    }\n",
       "\n",
       "    .dataframe tbody tr th {\n",
       "        vertical-align: top;\n",
       "    }\n",
       "\n",
       "    .dataframe thead th {\n",
       "        text-align: right;\n",
       "    }\n",
       "</style>\n",
       "<table border=\"1\" class=\"dataframe\">\n",
       "  <thead>\n",
       "    <tr style=\"text-align: right;\">\n",
       "      <th></th>\n",
       "      <th>event</th>\n",
       "      <th>customer_id</th>\n",
       "      <th>time_hour</th>\n",
       "      <th>offer_id</th>\n",
       "      <th>amount</th>\n",
       "      <th>reward_x</th>\n",
       "      <th>difficulty</th>\n",
       "      <th>total_durh</th>\n",
       "      <th>offer_type</th>\n",
       "      <th>reward_y</th>\n",
       "      <th>ch_email</th>\n",
       "      <th>ch_mobile</th>\n",
       "      <th>ch_social</th>\n",
       "      <th>ch_web</th>\n",
       "    </tr>\n",
       "  </thead>\n",
       "  <tbody>\n",
       "    <tr>\n",
       "      <th>0</th>\n",
       "      <td>2</td>\n",
       "      <td>3729</td>\n",
       "      <td>0</td>\n",
       "      <td>9</td>\n",
       "      <td>0</td>\n",
       "      <td>0</td>\n",
       "      <td>0.25</td>\n",
       "      <td>120</td>\n",
       "      <td>1</td>\n",
       "      <td>0.5</td>\n",
       "      <td>1</td>\n",
       "      <td>1</td>\n",
       "      <td>1</td>\n",
       "      <td>1</td>\n",
       "    </tr>\n",
       "    <tr>\n",
       "      <th>1</th>\n",
       "      <td>2</td>\n",
       "      <td>13995</td>\n",
       "      <td>0</td>\n",
       "      <td>6</td>\n",
       "      <td>0</td>\n",
       "      <td>0</td>\n",
       "      <td>0.00</td>\n",
       "      <td>72</td>\n",
       "      <td>3</td>\n",
       "      <td>0.0</td>\n",
       "      <td>1</td>\n",
       "      <td>1</td>\n",
       "      <td>1</td>\n",
       "      <td>0</td>\n",
       "    </tr>\n",
       "    <tr>\n",
       "      <th>2</th>\n",
       "      <td>2</td>\n",
       "      <td>1052</td>\n",
       "      <td>0</td>\n",
       "      <td>5</td>\n",
       "      <td>0</td>\n",
       "      <td>0</td>\n",
       "      <td>0.50</td>\n",
       "      <td>120</td>\n",
       "      <td>1</td>\n",
       "      <td>1.0</td>\n",
       "      <td>1</td>\n",
       "      <td>1</td>\n",
       "      <td>1</td>\n",
       "      <td>1</td>\n",
       "    </tr>\n",
       "    <tr>\n",
       "      <th>3</th>\n",
       "      <td>2</td>\n",
       "      <td>170</td>\n",
       "      <td>0</td>\n",
       "      <td>8</td>\n",
       "      <td>0</td>\n",
       "      <td>0</td>\n",
       "      <td>0.50</td>\n",
       "      <td>168</td>\n",
       "      <td>1</td>\n",
       "      <td>1.0</td>\n",
       "      <td>1</td>\n",
       "      <td>1</td>\n",
       "      <td>1</td>\n",
       "      <td>0</td>\n",
       "    </tr>\n",
       "    <tr>\n",
       "      <th>4</th>\n",
       "      <td>2</td>\n",
       "      <td>12744</td>\n",
       "      <td>0</td>\n",
       "      <td>6</td>\n",
       "      <td>0</td>\n",
       "      <td>0</td>\n",
       "      <td>0.00</td>\n",
       "      <td>72</td>\n",
       "      <td>3</td>\n",
       "      <td>0.0</td>\n",
       "      <td>1</td>\n",
       "      <td>1</td>\n",
       "      <td>1</td>\n",
       "      <td>0</td>\n",
       "    </tr>\n",
       "  </tbody>\n",
       "</table>\n",
       "</div>"
      ],
      "text/plain": [
       "   event  customer_id  time_hour  offer_id  amount  reward_x  difficulty  \\\n",
       "0      2         3729          0         9       0         0        0.25   \n",
       "1      2        13995          0         6       0         0        0.00   \n",
       "2      2         1052          0         5       0         0        0.50   \n",
       "3      2          170          0         8       0         0        0.50   \n",
       "4      2        12744          0         6       0         0        0.00   \n",
       "\n",
       "   total_durh  offer_type  reward_y  ch_email  ch_mobile  ch_social  ch_web  \n",
       "0         120           1       0.5         1          1          1       1  \n",
       "1          72           3       0.0         1          1          1       0  \n",
       "2         120           1       1.0         1          1          1       1  \n",
       "3         168           1       1.0         1          1          1       0  \n",
       "4          72           3       0.0         1          1          1       0  "
      ]
     },
     "execution_count": 245,
     "metadata": {},
     "output_type": "execute_result"
    }
   ],
   "source": [
    "main_df.head()"
   ]
  },
  {
   "cell_type": "code",
   "execution_count": 246,
   "metadata": {},
   "outputs": [],
   "source": [
    "# Let us join main and clean profile\n",
    "main_df = main_df.merge(clean_profile,how ='left', on = 'customer_id')"
   ]
  },
  {
   "cell_type": "code",
   "execution_count": 247,
   "metadata": {},
   "outputs": [
    {
     "data": {
      "text/html": [
       "<div>\n",
       "<style scoped>\n",
       "    .dataframe tbody tr th:only-of-type {\n",
       "        vertical-align: middle;\n",
       "    }\n",
       "\n",
       "    .dataframe tbody tr th {\n",
       "        vertical-align: top;\n",
       "    }\n",
       "\n",
       "    .dataframe thead th {\n",
       "        text-align: right;\n",
       "    }\n",
       "</style>\n",
       "<table border=\"1\" class=\"dataframe\">\n",
       "  <thead>\n",
       "    <tr style=\"text-align: right;\">\n",
       "      <th></th>\n",
       "      <th>event</th>\n",
       "      <th>customer_id</th>\n",
       "      <th>time_hour</th>\n",
       "      <th>offer_id</th>\n",
       "      <th>amount</th>\n",
       "      <th>reward_x</th>\n",
       "      <th>difficulty</th>\n",
       "      <th>total_durh</th>\n",
       "      <th>offer_type</th>\n",
       "      <th>reward_y</th>\n",
       "      <th>ch_email</th>\n",
       "      <th>ch_mobile</th>\n",
       "      <th>ch_social</th>\n",
       "      <th>ch_web</th>\n",
       "      <th>gender</th>\n",
       "      <th>age_category</th>\n",
       "      <th>income_group</th>\n",
       "      <th>start_year</th>\n",
       "      <th>member_cat</th>\n",
       "    </tr>\n",
       "  </thead>\n",
       "  <tbody>\n",
       "    <tr>\n",
       "      <th>0</th>\n",
       "      <td>2</td>\n",
       "      <td>3729</td>\n",
       "      <td>0</td>\n",
       "      <td>9</td>\n",
       "      <td>0</td>\n",
       "      <td>0</td>\n",
       "      <td>0.25</td>\n",
       "      <td>120</td>\n",
       "      <td>1</td>\n",
       "      <td>0.5</td>\n",
       "      <td>1</td>\n",
       "      <td>1</td>\n",
       "      <td>1</td>\n",
       "      <td>1</td>\n",
       "      <td>2.0</td>\n",
       "      <td>4.0</td>\n",
       "      <td>1.0</td>\n",
       "      <td>2018.0</td>\n",
       "      <td>2.0</td>\n",
       "    </tr>\n",
       "    <tr>\n",
       "      <th>1</th>\n",
       "      <td>2</td>\n",
       "      <td>13995</td>\n",
       "      <td>0</td>\n",
       "      <td>6</td>\n",
       "      <td>0</td>\n",
       "      <td>0</td>\n",
       "      <td>0.00</td>\n",
       "      <td>72</td>\n",
       "      <td>3</td>\n",
       "      <td>0.0</td>\n",
       "      <td>1</td>\n",
       "      <td>1</td>\n",
       "      <td>1</td>\n",
       "      <td>0</td>\n",
       "      <td>3.0</td>\n",
       "      <td>3.0</td>\n",
       "      <td>1.0</td>\n",
       "      <td>2017.0</td>\n",
       "      <td>3.0</td>\n",
       "    </tr>\n",
       "    <tr>\n",
       "      <th>2</th>\n",
       "      <td>2</td>\n",
       "      <td>1052</td>\n",
       "      <td>0</td>\n",
       "      <td>5</td>\n",
       "      <td>0</td>\n",
       "      <td>0</td>\n",
       "      <td>0.50</td>\n",
       "      <td>120</td>\n",
       "      <td>1</td>\n",
       "      <td>1.0</td>\n",
       "      <td>1</td>\n",
       "      <td>1</td>\n",
       "      <td>1</td>\n",
       "      <td>1</td>\n",
       "      <td>1.0</td>\n",
       "      <td>4.0</td>\n",
       "      <td>1.0</td>\n",
       "      <td>2016.0</td>\n",
       "      <td>3.0</td>\n",
       "    </tr>\n",
       "    <tr>\n",
       "      <th>3</th>\n",
       "      <td>2</td>\n",
       "      <td>170</td>\n",
       "      <td>0</td>\n",
       "      <td>8</td>\n",
       "      <td>0</td>\n",
       "      <td>0</td>\n",
       "      <td>0.50</td>\n",
       "      <td>168</td>\n",
       "      <td>1</td>\n",
       "      <td>1.0</td>\n",
       "      <td>1</td>\n",
       "      <td>1</td>\n",
       "      <td>1</td>\n",
       "      <td>0</td>\n",
       "      <td>1.0</td>\n",
       "      <td>1.0</td>\n",
       "      <td>1.0</td>\n",
       "      <td>2016.0</td>\n",
       "      <td>3.0</td>\n",
       "    </tr>\n",
       "    <tr>\n",
       "      <th>4</th>\n",
       "      <td>2</td>\n",
       "      <td>12744</td>\n",
       "      <td>0</td>\n",
       "      <td>6</td>\n",
       "      <td>0</td>\n",
       "      <td>0</td>\n",
       "      <td>0.00</td>\n",
       "      <td>72</td>\n",
       "      <td>3</td>\n",
       "      <td>0.0</td>\n",
       "      <td>1</td>\n",
       "      <td>1</td>\n",
       "      <td>1</td>\n",
       "      <td>0</td>\n",
       "      <td>2.0</td>\n",
       "      <td>3.0</td>\n",
       "      <td>1.0</td>\n",
       "      <td>2014.0</td>\n",
       "      <td>NaN</td>\n",
       "    </tr>\n",
       "  </tbody>\n",
       "</table>\n",
       "</div>"
      ],
      "text/plain": [
       "   event  customer_id  time_hour  offer_id  amount  reward_x  difficulty  \\\n",
       "0      2         3729          0         9       0         0        0.25   \n",
       "1      2        13995          0         6       0         0        0.00   \n",
       "2      2         1052          0         5       0         0        0.50   \n",
       "3      2          170          0         8       0         0        0.50   \n",
       "4      2        12744          0         6       0         0        0.00   \n",
       "\n",
       "   total_durh  offer_type  reward_y  ch_email  ch_mobile  ch_social  ch_web  \\\n",
       "0         120           1       0.5         1          1          1       1   \n",
       "1          72           3       0.0         1          1          1       0   \n",
       "2         120           1       1.0         1          1          1       1   \n",
       "3         168           1       1.0         1          1          1       0   \n",
       "4          72           3       0.0         1          1          1       0   \n",
       "\n",
       "   gender  age_category  income_group  start_year  member_cat  \n",
       "0     2.0           4.0           1.0      2018.0         2.0  \n",
       "1     3.0           3.0           1.0      2017.0         3.0  \n",
       "2     1.0           4.0           1.0      2016.0         3.0  \n",
       "3     1.0           1.0           1.0      2016.0         3.0  \n",
       "4     2.0           3.0           1.0      2014.0         NaN  "
      ]
     },
     "execution_count": 247,
     "metadata": {},
     "output_type": "execute_result"
    }
   ],
   "source": [
    "# Let us see the data of main_df\n",
    "main_df.head()"
   ]
  },
  {
   "cell_type": "code",
   "execution_count": 248,
   "metadata": {},
   "outputs": [
    {
     "name": "stdout",
     "output_type": "stream",
     "text": [
      "<class 'pandas.core.frame.DataFrame'>\n",
      "Int64Index: 91304 entries, 0 to 91303\n",
      "Data columns (total 19 columns):\n",
      "event           91304 non-null int64\n",
      "customer_id     91304 non-null int64\n",
      "time_hour       91304 non-null int64\n",
      "offer_id        91304 non-null int64\n",
      "amount          91304 non-null int64\n",
      "reward_x        91304 non-null int64\n",
      "difficulty      91304 non-null float64\n",
      "total_durh      91304 non-null int64\n",
      "offer_type      91304 non-null int64\n",
      "reward_y        91304 non-null float64\n",
      "ch_email        91304 non-null int64\n",
      "ch_mobile       91304 non-null int64\n",
      "ch_social       91304 non-null int64\n",
      "ch_web          91304 non-null int64\n",
      "gender          82304 non-null float64\n",
      "age_category    82304 non-null float64\n",
      "income_group    82304 non-null float64\n",
      "start_year      82304 non-null float64\n",
      "member_cat      76143 non-null float64\n",
      "dtypes: float64(7), int64(12)\n",
      "memory usage: 13.9 MB\n"
     ]
    }
   ],
   "source": [
    "# Let us check the column details of main_df\n",
    "main_df.info()"
   ]
  },
  {
   "cell_type": "code",
   "execution_count": 249,
   "metadata": {},
   "outputs": [],
   "source": [
    "# Let us remove NaN from main_df\n",
    "main_df = main_df.dropna(how='any',axis=0)"
   ]
  },
  {
   "cell_type": "code",
   "execution_count": 250,
   "metadata": {},
   "outputs": [
    {
     "name": "stdout",
     "output_type": "stream",
     "text": [
      "<class 'pandas.core.frame.DataFrame'>\n",
      "Int64Index: 76143 entries, 0 to 91303\n",
      "Data columns (total 19 columns):\n",
      "event           76143 non-null int64\n",
      "customer_id     76143 non-null int64\n",
      "time_hour       76143 non-null int64\n",
      "offer_id        76143 non-null int64\n",
      "amount          76143 non-null int64\n",
      "reward_x        76143 non-null int64\n",
      "difficulty      76143 non-null float64\n",
      "total_durh      76143 non-null int64\n",
      "offer_type      76143 non-null int64\n",
      "reward_y        76143 non-null float64\n",
      "ch_email        76143 non-null int64\n",
      "ch_mobile       76143 non-null int64\n",
      "ch_social       76143 non-null int64\n",
      "ch_web          76143 non-null int64\n",
      "gender          76143 non-null float64\n",
      "age_category    76143 non-null float64\n",
      "income_group    76143 non-null float64\n",
      "start_year      76143 non-null float64\n",
      "member_cat      76143 non-null float64\n",
      "dtypes: float64(7), int64(12)\n",
      "memory usage: 11.6 MB\n"
     ]
    }
   ],
   "source": [
    "# Check for values missing \n",
    "main_df.info()"
   ]
  },
  {
   "cell_type": "code",
   "execution_count": 251,
   "metadata": {},
   "outputs": [],
   "source": [
    "#Let us analyse main_df"
   ]
  },
  {
   "cell_type": "code",
   "execution_count": 252,
   "metadata": {},
   "outputs": [],
   "source": [
    "# Let us convert the numerical values to the old data\n",
    "main_df['event'] = main_df['event'].map({1: 'Completed', 2: 'Viewed'})\n",
    "main_df['offer_type'] = main_df['offer_type'].map({1: 'BOGO', 2: 'discount', 3: 'Informational'})\n",
    "main_df['income_group'] = main_df['income_group'].map({1: 'Average', 2: 'Above-Average', 3:'High'})\n",
    "main_df['age_category'] = main_df['age_category'].map({1: 'teenager', 2: 'young-adult', 3:'adult', 4:'elderly'})"
   ]
  },
  {
   "cell_type": "code",
   "execution_count": 253,
   "metadata": {},
   "outputs": [
    {
     "data": {
      "text/html": [
       "<div>\n",
       "<style scoped>\n",
       "    .dataframe tbody tr th:only-of-type {\n",
       "        vertical-align: middle;\n",
       "    }\n",
       "\n",
       "    .dataframe tbody tr th {\n",
       "        vertical-align: top;\n",
       "    }\n",
       "\n",
       "    .dataframe thead th {\n",
       "        text-align: right;\n",
       "    }\n",
       "</style>\n",
       "<table border=\"1\" class=\"dataframe\">\n",
       "  <thead>\n",
       "    <tr style=\"text-align: right;\">\n",
       "      <th></th>\n",
       "      <th>event</th>\n",
       "      <th>customer_id</th>\n",
       "      <th>time_hour</th>\n",
       "      <th>offer_id</th>\n",
       "      <th>amount</th>\n",
       "      <th>reward_x</th>\n",
       "      <th>difficulty</th>\n",
       "      <th>total_durh</th>\n",
       "      <th>offer_type</th>\n",
       "      <th>reward_y</th>\n",
       "      <th>ch_email</th>\n",
       "      <th>ch_mobile</th>\n",
       "      <th>ch_social</th>\n",
       "      <th>ch_web</th>\n",
       "      <th>gender</th>\n",
       "      <th>age_category</th>\n",
       "      <th>income_group</th>\n",
       "      <th>start_year</th>\n",
       "      <th>member_cat</th>\n",
       "    </tr>\n",
       "  </thead>\n",
       "  <tbody>\n",
       "    <tr>\n",
       "      <th>0</th>\n",
       "      <td>Viewed</td>\n",
       "      <td>3729</td>\n",
       "      <td>0</td>\n",
       "      <td>9</td>\n",
       "      <td>0</td>\n",
       "      <td>0</td>\n",
       "      <td>0.25</td>\n",
       "      <td>120</td>\n",
       "      <td>BOGO</td>\n",
       "      <td>0.5</td>\n",
       "      <td>1</td>\n",
       "      <td>1</td>\n",
       "      <td>1</td>\n",
       "      <td>1</td>\n",
       "      <td>2.0</td>\n",
       "      <td>elderly</td>\n",
       "      <td>Average</td>\n",
       "      <td>2018.0</td>\n",
       "      <td>2.0</td>\n",
       "    </tr>\n",
       "    <tr>\n",
       "      <th>1</th>\n",
       "      <td>Viewed</td>\n",
       "      <td>13995</td>\n",
       "      <td>0</td>\n",
       "      <td>6</td>\n",
       "      <td>0</td>\n",
       "      <td>0</td>\n",
       "      <td>0.00</td>\n",
       "      <td>72</td>\n",
       "      <td>Informational</td>\n",
       "      <td>0.0</td>\n",
       "      <td>1</td>\n",
       "      <td>1</td>\n",
       "      <td>1</td>\n",
       "      <td>0</td>\n",
       "      <td>3.0</td>\n",
       "      <td>adult</td>\n",
       "      <td>Average</td>\n",
       "      <td>2017.0</td>\n",
       "      <td>3.0</td>\n",
       "    </tr>\n",
       "    <tr>\n",
       "      <th>2</th>\n",
       "      <td>Viewed</td>\n",
       "      <td>1052</td>\n",
       "      <td>0</td>\n",
       "      <td>5</td>\n",
       "      <td>0</td>\n",
       "      <td>0</td>\n",
       "      <td>0.50</td>\n",
       "      <td>120</td>\n",
       "      <td>BOGO</td>\n",
       "      <td>1.0</td>\n",
       "      <td>1</td>\n",
       "      <td>1</td>\n",
       "      <td>1</td>\n",
       "      <td>1</td>\n",
       "      <td>1.0</td>\n",
       "      <td>elderly</td>\n",
       "      <td>Average</td>\n",
       "      <td>2016.0</td>\n",
       "      <td>3.0</td>\n",
       "    </tr>\n",
       "    <tr>\n",
       "      <th>3</th>\n",
       "      <td>Viewed</td>\n",
       "      <td>170</td>\n",
       "      <td>0</td>\n",
       "      <td>8</td>\n",
       "      <td>0</td>\n",
       "      <td>0</td>\n",
       "      <td>0.50</td>\n",
       "      <td>168</td>\n",
       "      <td>BOGO</td>\n",
       "      <td>1.0</td>\n",
       "      <td>1</td>\n",
       "      <td>1</td>\n",
       "      <td>1</td>\n",
       "      <td>0</td>\n",
       "      <td>1.0</td>\n",
       "      <td>teenager</td>\n",
       "      <td>Average</td>\n",
       "      <td>2016.0</td>\n",
       "      <td>3.0</td>\n",
       "    </tr>\n",
       "    <tr>\n",
       "      <th>5</th>\n",
       "      <td>Viewed</td>\n",
       "      <td>10702</td>\n",
       "      <td>0</td>\n",
       "      <td>3</td>\n",
       "      <td>0</td>\n",
       "      <td>0</td>\n",
       "      <td>0.50</td>\n",
       "      <td>168</td>\n",
       "      <td>discount</td>\n",
       "      <td>0.2</td>\n",
       "      <td>1</td>\n",
       "      <td>1</td>\n",
       "      <td>0</td>\n",
       "      <td>1</td>\n",
       "      <td>2.0</td>\n",
       "      <td>adult</td>\n",
       "      <td>High</td>\n",
       "      <td>2016.0</td>\n",
       "      <td>3.0</td>\n",
       "    </tr>\n",
       "  </tbody>\n",
       "</table>\n",
       "</div>"
      ],
      "text/plain": [
       "    event  customer_id  time_hour  offer_id  amount  reward_x  difficulty  \\\n",
       "0  Viewed         3729          0         9       0         0        0.25   \n",
       "1  Viewed        13995          0         6       0         0        0.00   \n",
       "2  Viewed         1052          0         5       0         0        0.50   \n",
       "3  Viewed          170          0         8       0         0        0.50   \n",
       "5  Viewed        10702          0         3       0         0        0.50   \n",
       "\n",
       "   total_durh     offer_type  reward_y  ch_email  ch_mobile  ch_social  \\\n",
       "0         120           BOGO       0.5         1          1          1   \n",
       "1          72  Informational       0.0         1          1          1   \n",
       "2         120           BOGO       1.0         1          1          1   \n",
       "3         168           BOGO       1.0         1          1          1   \n",
       "5         168       discount       0.2         1          1          0   \n",
       "\n",
       "   ch_web  gender age_category income_group  start_year  member_cat  \n",
       "0       1     2.0      elderly      Average      2018.0         2.0  \n",
       "1       0     3.0        adult      Average      2017.0         3.0  \n",
       "2       1     1.0      elderly      Average      2016.0         3.0  \n",
       "3       0     1.0     teenager      Average      2016.0         3.0  \n",
       "5       1     2.0        adult         High      2016.0         3.0  "
      ]
     },
     "execution_count": 253,
     "metadata": {},
     "output_type": "execute_result"
    }
   ],
   "source": [
    "main_df.head()"
   ]
  },
  {
   "cell_type": "code",
   "execution_count": 254,
   "metadata": {},
   "outputs": [],
   "source": [
    "#1. Let us see the normal offer in age groups. "
   ]
  },
  {
   "cell_type": "code",
   "execution_count": 255,
   "metadata": {},
   "outputs": [
    {
     "data": {
      "image/png": "[encoded data removed]",
      "text/plain": [
       "<matplotlib.figure.Figure at 0x7fae921e58d0>"
      ]
     },
     "metadata": {
      "needs_background": "light"
     },
     "output_type": "display_data"
    }
   ],
   "source": [
    "plt.figure(figsize=(10, 4))\n",
    "g = sns.countplot(x=\"age_category\", hue=\"offer_type\", data=main_df)\n",
    "plt.title('Best offers for different age)')\n",
    "plt.ylabel('Total')\n",
    "plt.xlabel('Age category')\n",
    "xlabels = ['teen','young','adult','old']\n",
    "g.set_xticklabels(xlabels)\n",
    "plt.xticks(rotation = 0)\n",
    "plt.legend(title='Offer type')\n",
    "plt.show();"
   ]
  },
  {
   "cell_type": "code",
   "execution_count": 256,
   "metadata": {},
   "outputs": [],
   "source": [
    "#From the above, we can see that BOGO-first-for all age groups,  next is Disount offers. \n",
    "#Last is -informational offers."
   ]
  },
  {
   "cell_type": "code",
   "execution_count": 257,
   "metadata": {},
   "outputs": [],
   "source": [
    " #2. Let us see the cusomters with maximum income range"
   ]
  },
  {
   "cell_type": "code",
   "execution_count": 258,
   "metadata": {},
   "outputs": [
    {
     "data": {
      "image/png": "[encoded data removed]",
      "text/plain": [
       "<matplotlib.figure.Figure at 0x7fae92181fd0>"
      ]
     },
     "metadata": {
      "needs_background": "light"
     },
     "output_type": "display_data"
    }
   ],
   "source": [
    "plt.figure(figsize=(20, 8))\n",
    "g = sns.countplot(x=\"gender\", hue=\"income_group\", data= main_df)\n",
    "plt.title('Income group vs Gender')\n",
    "plt.ylabel('Income group')\n",
    "xlabels = ['Fem', 'Male']\n",
    "g.set_xticklabels(xlabels)\n",
    "plt.xlabel('Gender')\n",
    "plt.xticks(rotation = 0)\n",
    "plt.show();"
   ]
  },
  {
   "cell_type": "code",
   "execution_count": 259,
   "metadata": {},
   "outputs": [],
   "source": [
    "#From the above , we can see that customers above 90000 $ are mostly female and for 30000 to 60000 $ , it is mostly males"
   ]
  },
  {
   "cell_type": "code",
   "execution_count": 260,
   "metadata": {},
   "outputs": [],
   "source": [
    "#3. Let us see the number of Male and Female customers who spent the time to complete an offer."
   ]
  },
  {
   "cell_type": "code",
   "execution_count": 261,
   "metadata": {},
   "outputs": [
    {
     "name": "stdout",
     "output_type": "stream",
     "text": [
      "404.739683764 16.8641534902\n",
      "402.819992191 16.7841663413\n"
     ]
    }
   ],
   "source": [
    "Avg_fem_time = main_df.groupby(['gender', 'offer_id'])['time_hour'].mean().reset_index()\n",
    "Avg_Male_time = main_df.groupby(['gender', 'offer_id'])['time_hour'].mean().reset_index()\n",
    "\n",
    "print(Avg_fem_time[Avg_fem_time['gender'] == 1.]['time_hour'].values[0], Avg_fem_time[Avg_fem_time['gender'] == 1.]['time_hour'].values[0] / 24)\n",
    "print(Avg_Male_time[Avg_Male_time['gender'] == 2.]['time_hour'].values[0], Avg_Male_time[Avg_Male_time['gender'] == 2.]['time_hour'].values[0] /24)"
   ]
  },
  {
   "cell_type": "code",
   "execution_count": 262,
   "metadata": {},
   "outputs": [],
   "source": [
    "# From the above we can see that both Male and Female customers are spending almost equal time of about 16 to 17 days\n",
    "#They take about 16 to 17 days ."
   ]
  },
  {
   "cell_type": "code",
   "execution_count": 263,
   "metadata": {},
   "outputs": [],
   "source": [
    "#4. Let us see the number of customers every year "
   ]
  },
  {
   "cell_type": "code",
   "execution_count": 264,
   "metadata": {},
   "outputs": [],
   "source": [
    "#Yearly customers list\n",
    "main_df['start_year'] = main_df['start_year'].astype(int)"
   ]
  },
  {
   "cell_type": "code",
   "execution_count": 265,
   "metadata": {},
   "outputs": [
    {
     "data": {
      "image/png": "[encoded data removed]",
      "text/plain": [
       "<matplotlib.figure.Figure at 0x7fae921ebeb8>"
      ]
     },
     "metadata": {
      "needs_background": "light"
     },
     "output_type": "display_data"
    }
   ],
   "source": [
    "#Let us plot a graph\n",
    "plt.figure(figsize=(16, 6))\n",
    "sns.countplot(main_df['start_year'])\n",
    "plt.title('Type of customers In Each Year')\n",
    "plt.ylabel('Type of customers')\n",
    "plt.xlabel('Year')\n",
    "plt.xticks()\n",
    "plt.show();"
   ]
  },
  {
   "cell_type": "code",
   "execution_count": 266,
   "metadata": {},
   "outputs": [],
   "source": [
    "# Let us see the new customers in 2017\n",
    "customers_2017 = (main_df['start_year']==2017).sum()"
   ]
  },
  {
   "cell_type": "code",
   "execution_count": 267,
   "metadata": {},
   "outputs": [],
   "source": [
    "# Let us see the customers in all the yeears together\n",
    "Total_customers = main_df['start_year'].count()"
   ]
  },
  {
   "cell_type": "code",
   "execution_count": 268,
   "metadata": {},
   "outputs": [],
   "source": [
    "# Percentage of customers in 2017 \n",
    "percentage_2017 = round((customers_2017/Total_customers)*100,2)"
   ]
  },
  {
   "cell_type": "code",
   "execution_count": 269,
   "metadata": {},
   "outputs": [
    {
     "data": {
      "text/plain": [
       "30938"
      ]
     },
     "execution_count": 269,
     "metadata": {},
     "output_type": "execute_result"
    }
   ],
   "source": [
    "#Display the customers of 2017 \n",
    "customers_2017\n"
   ]
  },
  {
   "cell_type": "code",
   "execution_count": 270,
   "metadata": {},
   "outputs": [
    {
     "data": {
      "text/plain": [
       "40.630000000000003"
      ]
     },
     "execution_count": 270,
     "metadata": {},
     "output_type": "execute_result"
    }
   ],
   "source": [
    "#Show the percentage of 2017-customers\n",
    "percentage_2017"
   ]
  },
  {
   "cell_type": "code",
   "execution_count": 271,
   "metadata": {},
   "outputs": [],
   "source": [
    "#From the above , we can see that the maximum of number of customers Stabrbucks got was in 2017 and \n",
    "#the percentatge of that year was 40%"
   ]
  },
  {
   "cell_type": "code",
   "execution_count": 272,
   "metadata": {},
   "outputs": [],
   "source": [
    "#5. Let us see which type of customers like which offer "
   ]
  },
  {
   "cell_type": "code",
   "execution_count": 273,
   "metadata": {},
   "outputs": [
    {
     "data": {
      "image/png": "[encoded data removed]",
      "text/plain": [
       "<matplotlib.figure.Figure at 0x7fae921686d8>"
      ]
     },
     "metadata": {
      "needs_background": "light"
     },
     "output_type": "display_data"
    }
   ],
   "source": [
    "plt.figure(figsize=(14, 6))\n",
    "g = sns.countplot(x='gender', hue=\"offer_type\", data= main_df[main_df[\"gender\"] != 3])\n",
    "plt.title('Best offer')\n",
    "plt.ylabel('Number of customers')\n",
    "plt.xlabel('Gender')\n",
    "xlabels = ['Female', 'Male']\n",
    "g.set_xticklabels(xlabels)\n",
    "plt.legend(title='Offer Type')\n",
    "plt.show();\n"
   ]
  },
  {
   "cell_type": "code",
   "execution_count": 274,
   "metadata": {},
   "outputs": [],
   "source": [
    "#From the baove , we can see that Male and Female like BOGO and Discount . \n",
    "# They almost equally like the informational offers but it is lowest"
   ]
  },
  {
   "cell_type": "code",
   "execution_count": 275,
   "metadata": {},
   "outputs": [],
   "source": [
    "#6. Let us take how long it takes to complete an offer"
   ]
  },
  {
   "cell_type": "code",
   "execution_count": 276,
   "metadata": {},
   "outputs": [
    {
     "data": {
      "text/plain": [
       "(371.92431008926508, 15.496846253719378)"
      ]
     },
     "execution_count": 276,
     "metadata": {},
     "output_type": "execute_result"
    }
   ],
   "source": [
    "avg_time= main_df.groupby(['customer_id', 'offer_id'])['time_hour'].mean().reset_index()\n",
    "avg_time['time_hour'].mean(), avg_time['time_hour'].mean() / 24"
   ]
  },
  {
   "cell_type": "code",
   "execution_count": 277,
   "metadata": {},
   "outputs": [],
   "source": [
    "#From the above, the average time for a customer to complete an offer is maximum 16 days."
   ]
  },
  {
   "cell_type": "code",
   "execution_count": 278,
   "metadata": {},
   "outputs": [],
   "source": [
    "#7. Let us see viewed and completed offers."
   ]
  },
  {
   "cell_type": "code",
   "execution_count": 279,
   "metadata": {
    "scrolled": true
   },
   "outputs": [
    {
     "data": {
      "image/png": "[encoded data removed]",
      "text/plain": [
       "<matplotlib.figure.Figure at 0x7fae921b1320>"
      ]
     },
     "metadata": {
      "needs_background": "light"
     },
     "output_type": "display_data"
    }
   ],
   "source": [
    "plt.figure(figsize=(14, 6))\n",
    "g = sns.countplot(x='gender', hue=\"event\", data= main_df[main_df[\"gender\"] != 3])\n",
    "plt.title('Attractive offers')\n",
    "plt.ylabel('Total')\n",
    "plt.xlabel('Gender')\n",
    "xlabels = ['Female', 'Male']\n",
    "g.set_xticklabels(xlabels)\n",
    "plt.legend(title='Offer Type')\n",
    "plt.show();"
   ]
  },
  {
   "cell_type": "code",
   "execution_count": 280,
   "metadata": {},
   "outputs": [],
   "source": [
    "total_offer_type = main_df[main_df[\"gender\"] != 3].groupby(['gender','offer_type']).count()\n",
    "total_event = main_df[main_df[\"gender\"] != 3].groupby(['gender','event']).count()\n",
    "total_event_Fem = total_offer_type.loc[(1)]['event'].sum()\n",
    "total__event_male = total_offer_type.loc[(2)]['event'].sum()\n",
    "#total_trans_go_o_t_offers_f = total_trans_g_o.loc[(1)].loc[['BOGO', 'Discount', 'Informational']]['event'].sum()\n",
    "#total_trans_go_o_t_offers_m = total_trans_g_o.loc[(2)].loc[['BOGO', 'Discount', 'Informational']]['event'].sum()"
   ]
  },
  {
   "cell_type": "code",
   "execution_count": 281,
   "metadata": {},
   "outputs": [
    {
     "name": "stdout",
     "output_type": "stream",
     "text": [
      "For Females:\n",
      "offers completed: 14886, 74.87% of total offers viewed.\n",
      "offers viewed: 19882.\n",
      "\n",
      "\n",
      "\n",
      "For Males:\n",
      "offer completed: 14779, 58.25% of total offers viewed.\n",
      "offer viewed: 25370.\n"
     ]
    }
   ],
   "source": [
    "print('For Females:')\n",
    "print(f\"offers completed: {total_event.loc[(1, 'Completed')].values[0]}, {round((total_event.loc[(1, 'Completed')].values[0]/total_event.loc[(1, 'Viewed')].values[0])*100,2)}% of total offers viewed.\")\n",
    "print(f\"offers viewed: {total_event.loc[(1, 'Viewed')].values[0]}.\")\n",
    "print(\"\\n\")\n",
    "print('\\nFor Males:')\n",
    "print(f\"offer completed: {total_event.loc[(2, 'Completed')].values[0]}, {round((total_event.loc[(2, 'Completed')].values[0]/total_event.loc[(2, 'Viewed')].values[0])*100,2)}% of total offers viewed.\")\n",
    "print(f\"offer viewed: {total_event.loc[(2, 'Viewed')].values[0]}.\")"
   ]
  },
  {
   "cell_type": "code",
   "execution_count": 282,
   "metadata": {},
   "outputs": [],
   "source": [
    "#From above , we can see that Female customers viewed 75% and Male , 58%. Female customers are attracted by promotions better."
   ]
  },
  {
   "cell_type": "code",
   "execution_count": 283,
   "metadata": {
    "scrolled": false
   },
   "outputs": [
    {
     "data": {
      "text/html": [
       "<div>\n",
       "<style scoped>\n",
       "    .dataframe tbody tr th:only-of-type {\n",
       "        vertical-align: middle;\n",
       "    }\n",
       "\n",
       "    .dataframe tbody tr th {\n",
       "        vertical-align: top;\n",
       "    }\n",
       "\n",
       "    .dataframe thead th {\n",
       "        text-align: right;\n",
       "    }\n",
       "</style>\n",
       "<table border=\"1\" class=\"dataframe\">\n",
       "  <thead>\n",
       "    <tr style=\"text-align: right;\">\n",
       "      <th></th>\n",
       "      <th>event</th>\n",
       "      <th>customer_id</th>\n",
       "      <th>time_hour</th>\n",
       "      <th>offer_id</th>\n",
       "      <th>amount</th>\n",
       "      <th>reward_x</th>\n",
       "      <th>difficulty</th>\n",
       "      <th>total_durh</th>\n",
       "      <th>offer_type</th>\n",
       "      <th>reward_y</th>\n",
       "      <th>ch_email</th>\n",
       "      <th>ch_mobile</th>\n",
       "      <th>ch_social</th>\n",
       "      <th>ch_web</th>\n",
       "      <th>gender</th>\n",
       "      <th>age_category</th>\n",
       "      <th>income_group</th>\n",
       "      <th>start_year</th>\n",
       "      <th>member_cat</th>\n",
       "    </tr>\n",
       "  </thead>\n",
       "  <tbody>\n",
       "    <tr>\n",
       "      <th>0</th>\n",
       "      <td>Viewed</td>\n",
       "      <td>3729</td>\n",
       "      <td>0</td>\n",
       "      <td>9</td>\n",
       "      <td>0</td>\n",
       "      <td>0</td>\n",
       "      <td>0.25</td>\n",
       "      <td>120</td>\n",
       "      <td>BOGO</td>\n",
       "      <td>0.5</td>\n",
       "      <td>1</td>\n",
       "      <td>1</td>\n",
       "      <td>1</td>\n",
       "      <td>1</td>\n",
       "      <td>2.0</td>\n",
       "      <td>elderly</td>\n",
       "      <td>Average</td>\n",
       "      <td>2018</td>\n",
       "      <td>2.0</td>\n",
       "    </tr>\n",
       "    <tr>\n",
       "      <th>1</th>\n",
       "      <td>Viewed</td>\n",
       "      <td>13995</td>\n",
       "      <td>0</td>\n",
       "      <td>6</td>\n",
       "      <td>0</td>\n",
       "      <td>0</td>\n",
       "      <td>0.00</td>\n",
       "      <td>72</td>\n",
       "      <td>Informational</td>\n",
       "      <td>0.0</td>\n",
       "      <td>1</td>\n",
       "      <td>1</td>\n",
       "      <td>1</td>\n",
       "      <td>0</td>\n",
       "      <td>3.0</td>\n",
       "      <td>adult</td>\n",
       "      <td>Average</td>\n",
       "      <td>2017</td>\n",
       "      <td>3.0</td>\n",
       "    </tr>\n",
       "    <tr>\n",
       "      <th>2</th>\n",
       "      <td>Viewed</td>\n",
       "      <td>1052</td>\n",
       "      <td>0</td>\n",
       "      <td>5</td>\n",
       "      <td>0</td>\n",
       "      <td>0</td>\n",
       "      <td>0.50</td>\n",
       "      <td>120</td>\n",
       "      <td>BOGO</td>\n",
       "      <td>1.0</td>\n",
       "      <td>1</td>\n",
       "      <td>1</td>\n",
       "      <td>1</td>\n",
       "      <td>1</td>\n",
       "      <td>1.0</td>\n",
       "      <td>elderly</td>\n",
       "      <td>Average</td>\n",
       "      <td>2016</td>\n",
       "      <td>3.0</td>\n",
       "    </tr>\n",
       "    <tr>\n",
       "      <th>3</th>\n",
       "      <td>Viewed</td>\n",
       "      <td>170</td>\n",
       "      <td>0</td>\n",
       "      <td>8</td>\n",
       "      <td>0</td>\n",
       "      <td>0</td>\n",
       "      <td>0.50</td>\n",
       "      <td>168</td>\n",
       "      <td>BOGO</td>\n",
       "      <td>1.0</td>\n",
       "      <td>1</td>\n",
       "      <td>1</td>\n",
       "      <td>1</td>\n",
       "      <td>0</td>\n",
       "      <td>1.0</td>\n",
       "      <td>teenager</td>\n",
       "      <td>Average</td>\n",
       "      <td>2016</td>\n",
       "      <td>3.0</td>\n",
       "    </tr>\n",
       "    <tr>\n",
       "      <th>5</th>\n",
       "      <td>Viewed</td>\n",
       "      <td>10702</td>\n",
       "      <td>0</td>\n",
       "      <td>3</td>\n",
       "      <td>0</td>\n",
       "      <td>0</td>\n",
       "      <td>0.50</td>\n",
       "      <td>168</td>\n",
       "      <td>discount</td>\n",
       "      <td>0.2</td>\n",
       "      <td>1</td>\n",
       "      <td>1</td>\n",
       "      <td>0</td>\n",
       "      <td>1</td>\n",
       "      <td>2.0</td>\n",
       "      <td>adult</td>\n",
       "      <td>High</td>\n",
       "      <td>2016</td>\n",
       "      <td>3.0</td>\n",
       "    </tr>\n",
       "  </tbody>\n",
       "</table>\n",
       "</div>"
      ],
      "text/plain": [
       "    event  customer_id  time_hour  offer_id  amount  reward_x  difficulty  \\\n",
       "0  Viewed         3729          0         9       0         0        0.25   \n",
       "1  Viewed        13995          0         6       0         0        0.00   \n",
       "2  Viewed         1052          0         5       0         0        0.50   \n",
       "3  Viewed          170          0         8       0         0        0.50   \n",
       "5  Viewed        10702          0         3       0         0        0.50   \n",
       "\n",
       "   total_durh     offer_type  reward_y  ch_email  ch_mobile  ch_social  \\\n",
       "0         120           BOGO       0.5         1          1          1   \n",
       "1          72  Informational       0.0         1          1          1   \n",
       "2         120           BOGO       1.0         1          1          1   \n",
       "3         168           BOGO       1.0         1          1          1   \n",
       "5         168       discount       0.2         1          1          0   \n",
       "\n",
       "   ch_web  gender age_category income_group  start_year  member_cat  \n",
       "0       1     2.0      elderly      Average        2018         2.0  \n",
       "1       0     3.0        adult      Average        2017         3.0  \n",
       "2       1     1.0      elderly      Average        2016         3.0  \n",
       "3       0     1.0     teenager      Average        2016         3.0  \n",
       "5       1     2.0        adult         High        2016         3.0  "
      ]
     },
     "execution_count": 283,
     "metadata": {},
     "output_type": "execute_result"
    }
   ],
   "source": [
    "main_df.head()"
   ]
  },
  {
   "cell_type": "code",
   "execution_count": 284,
   "metadata": {},
   "outputs": [],
   "source": [
    "# Replacing the categorical values of the features by its corresponding numerical values, as before\n",
    "heading_event_new = main_df['event'].astype('category').cat.categories.tolist()\n",
    "replaced_heading_event_new = {'event' : {k: v for k,v in zip(heading_event_new,list(range(1,len(heading_event_new)+1)))}}\n",
    "\n",
    "heading_income_new = main_df['income_group'].astype('category').cat.categories.tolist()\n",
    "replaced_heading_income_new = {'income_group' : {k: v for k,v in zip(heading_income_new,list(range(1,len(heading_income_new)+1)))}}\n",
    "\n",
    "heading_age_cateory_new = main_df['age_category'].astype('category').cat.categories.tolist()\n",
    "replaced_age_category_new = {'age_category' : {k: v for k,v in zip(heading_age_cateory_new,list(range(1,len(heading_age_cateory_new)+1)))}}\n",
    "\n",
    "\n",
    "heading_offer_type_new = main_df['offer_type'].astype('category').cat.categories.tolist()\n",
    "replaced_heading_offer_type_new  = {'offer_type' : {k: v for k,v in zip(heading_offer_type_new,list(range(1,len(heading_offer_id_new)+1)))}}\n",
    "\n",
    "main_df.replace(replaced_heading_event_new, inplace=True)\n",
    "main_df.replace(replaced_age_category_new, inplace=True)\n",
    "main_df.replace(replaced_heading_income_new, inplace=True)\n",
    "main_df.replace(replaced_heading_offer_type_new , inplace=True)"
   ]
  },
  {
   "cell_type": "code",
   "execution_count": 286,
   "metadata": {},
   "outputs": [
    {
     "data": {
      "text/html": [
       "<div>\n",
       "<style scoped>\n",
       "    .dataframe tbody tr th:only-of-type {\n",
       "        vertical-align: middle;\n",
       "    }\n",
       "\n",
       "    .dataframe tbody tr th {\n",
       "        vertical-align: top;\n",
       "    }\n",
       "\n",
       "    .dataframe thead th {\n",
       "        text-align: right;\n",
       "    }\n",
       "</style>\n",
       "<table border=\"1\" class=\"dataframe\">\n",
       "  <thead>\n",
       "    <tr style=\"text-align: right;\">\n",
       "      <th></th>\n",
       "      <th>event</th>\n",
       "      <th>customer_id</th>\n",
       "      <th>time_hour</th>\n",
       "      <th>offer_id</th>\n",
       "      <th>amount</th>\n",
       "      <th>reward_x</th>\n",
       "      <th>difficulty</th>\n",
       "      <th>total_durh</th>\n",
       "      <th>offer_type</th>\n",
       "      <th>reward_y</th>\n",
       "      <th>ch_email</th>\n",
       "      <th>ch_mobile</th>\n",
       "      <th>ch_social</th>\n",
       "      <th>ch_web</th>\n",
       "      <th>gender</th>\n",
       "      <th>age_category</th>\n",
       "      <th>income_group</th>\n",
       "      <th>start_year</th>\n",
       "      <th>member_cat</th>\n",
       "    </tr>\n",
       "  </thead>\n",
       "  <tbody>\n",
       "    <tr>\n",
       "      <th>0</th>\n",
       "      <td>2</td>\n",
       "      <td>3729</td>\n",
       "      <td>0</td>\n",
       "      <td>9</td>\n",
       "      <td>0</td>\n",
       "      <td>0</td>\n",
       "      <td>0.25</td>\n",
       "      <td>120</td>\n",
       "      <td>1</td>\n",
       "      <td>0.5</td>\n",
       "      <td>1</td>\n",
       "      <td>1</td>\n",
       "      <td>1</td>\n",
       "      <td>1</td>\n",
       "      <td>2.0</td>\n",
       "      <td>2</td>\n",
       "      <td>2</td>\n",
       "      <td>2018</td>\n",
       "      <td>2.0</td>\n",
       "    </tr>\n",
       "    <tr>\n",
       "      <th>1</th>\n",
       "      <td>2</td>\n",
       "      <td>13995</td>\n",
       "      <td>0</td>\n",
       "      <td>6</td>\n",
       "      <td>0</td>\n",
       "      <td>0</td>\n",
       "      <td>0.00</td>\n",
       "      <td>72</td>\n",
       "      <td>2</td>\n",
       "      <td>0.0</td>\n",
       "      <td>1</td>\n",
       "      <td>1</td>\n",
       "      <td>1</td>\n",
       "      <td>0</td>\n",
       "      <td>3.0</td>\n",
       "      <td>1</td>\n",
       "      <td>2</td>\n",
       "      <td>2017</td>\n",
       "      <td>3.0</td>\n",
       "    </tr>\n",
       "    <tr>\n",
       "      <th>2</th>\n",
       "      <td>2</td>\n",
       "      <td>1052</td>\n",
       "      <td>0</td>\n",
       "      <td>5</td>\n",
       "      <td>0</td>\n",
       "      <td>0</td>\n",
       "      <td>0.50</td>\n",
       "      <td>120</td>\n",
       "      <td>1</td>\n",
       "      <td>1.0</td>\n",
       "      <td>1</td>\n",
       "      <td>1</td>\n",
       "      <td>1</td>\n",
       "      <td>1</td>\n",
       "      <td>1.0</td>\n",
       "      <td>2</td>\n",
       "      <td>2</td>\n",
       "      <td>2016</td>\n",
       "      <td>3.0</td>\n",
       "    </tr>\n",
       "    <tr>\n",
       "      <th>3</th>\n",
       "      <td>2</td>\n",
       "      <td>170</td>\n",
       "      <td>0</td>\n",
       "      <td>8</td>\n",
       "      <td>0</td>\n",
       "      <td>0</td>\n",
       "      <td>0.50</td>\n",
       "      <td>168</td>\n",
       "      <td>1</td>\n",
       "      <td>1.0</td>\n",
       "      <td>1</td>\n",
       "      <td>1</td>\n",
       "      <td>1</td>\n",
       "      <td>0</td>\n",
       "      <td>1.0</td>\n",
       "      <td>3</td>\n",
       "      <td>2</td>\n",
       "      <td>2016</td>\n",
       "      <td>3.0</td>\n",
       "    </tr>\n",
       "    <tr>\n",
       "      <th>5</th>\n",
       "      <td>2</td>\n",
       "      <td>10702</td>\n",
       "      <td>0</td>\n",
       "      <td>3</td>\n",
       "      <td>0</td>\n",
       "      <td>0</td>\n",
       "      <td>0.50</td>\n",
       "      <td>168</td>\n",
       "      <td>3</td>\n",
       "      <td>0.2</td>\n",
       "      <td>1</td>\n",
       "      <td>1</td>\n",
       "      <td>0</td>\n",
       "      <td>1</td>\n",
       "      <td>2.0</td>\n",
       "      <td>1</td>\n",
       "      <td>3</td>\n",
       "      <td>2016</td>\n",
       "      <td>3.0</td>\n",
       "    </tr>\n",
       "  </tbody>\n",
       "</table>\n",
       "</div>"
      ],
      "text/plain": [
       "   event  customer_id  time_hour  offer_id  amount  reward_x  difficulty  \\\n",
       "0      2         3729          0         9       0         0        0.25   \n",
       "1      2        13995          0         6       0         0        0.00   \n",
       "2      2         1052          0         5       0         0        0.50   \n",
       "3      2          170          0         8       0         0        0.50   \n",
       "5      2        10702          0         3       0         0        0.50   \n",
       "\n",
       "   total_durh  offer_type  reward_y  ch_email  ch_mobile  ch_social  ch_web  \\\n",
       "0         120           1       0.5         1          1          1       1   \n",
       "1          72           2       0.0         1          1          1       0   \n",
       "2         120           1       1.0         1          1          1       1   \n",
       "3         168           1       1.0         1          1          1       0   \n",
       "5         168           3       0.2         1          1          0       1   \n",
       "\n",
       "   gender  age_category  income_group  start_year  member_cat  \n",
       "0     2.0             2             2        2018         2.0  \n",
       "1     3.0             1             2        2017         3.0  \n",
       "2     1.0             2             2        2016         3.0  \n",
       "3     1.0             3             2        2016         3.0  \n",
       "5     2.0             1             3        2016         3.0  "
      ]
     },
     "execution_count": 286,
     "metadata": {},
     "output_type": "execute_result"
    }
   ],
   "source": [
    "#Let us see the data of main_df\n",
    "main_df.head()"
   ]
  },
  {
   "cell_type": "code",
   "execution_count": 287,
   "metadata": {},
   "outputs": [
    {
     "name": "stdout",
     "output_type": "stream",
     "text": [
      "<class 'pandas.core.frame.DataFrame'>\n",
      "Int64Index: 76143 entries, 0 to 91303\n",
      "Data columns (total 19 columns):\n",
      "event           76143 non-null int64\n",
      "customer_id     76143 non-null int64\n",
      "time_hour       76143 non-null int64\n",
      "offer_id        76143 non-null int64\n",
      "amount          76143 non-null int64\n",
      "reward_x        76143 non-null int64\n",
      "difficulty      76143 non-null float64\n",
      "total_durh      76143 non-null int64\n",
      "offer_type      76143 non-null int64\n",
      "reward_y        76143 non-null float64\n",
      "ch_email        76143 non-null int64\n",
      "ch_mobile       76143 non-null int64\n",
      "ch_social       76143 non-null int64\n",
      "ch_web          76143 non-null int64\n",
      "gender          76143 non-null float64\n",
      "age_category    76143 non-null int64\n",
      "income_group    76143 non-null int64\n",
      "start_year      76143 non-null int64\n",
      "member_cat      76143 non-null float64\n",
      "dtypes: float64(4), int64(15)\n",
      "memory usage: 14.1 MB\n"
     ]
    }
   ],
   "source": [
    "main_df.info()"
   ]
  },
  {
   "cell_type": "code",
   "execution_count": 288,
   "metadata": {},
   "outputs": [
    {
     "data": {
      "text/plain": [
       "Index(['event', 'customer_id', 'time_hour', 'offer_id', 'amount', 'reward_x',\n",
       "       'difficulty', 'total_durh', 'offer_type', 'reward_y', 'ch_email',\n",
       "       'ch_mobile', 'ch_social', 'ch_web', 'gender', 'age_category',\n",
       "       'income_group', 'start_year', 'member_cat'],\n",
       "      dtype='object')"
      ]
     },
     "execution_count": 288,
     "metadata": {},
     "output_type": "execute_result"
    }
   ],
   "source": [
    "main_df.columns"
   ]
  },
  {
   "cell_type": "code",
   "execution_count": 289,
   "metadata": {},
   "outputs": [],
   "source": [
    "# Let us rename column -reward as reward_new\n",
    "main_df.rename(columns ={'reward_x':'reward'}, inplace = True)"
   ]
  },
  {
   "cell_type": "code",
   "execution_count": 290,
   "metadata": {},
   "outputs": [],
   "source": [
    "# Let us break the data into features and target headings\n",
    "X = main_df[['time_hour','offer_id','amount','reward','difficulty','total_durh','offer_type','gender','age_category','income_group', 'member_cat']]\n",
    "Y = main_df['event']"
   ]
  },
  {
   "cell_type": "code",
   "execution_count": 291,
   "metadata": {},
   "outputs": [
    {
     "data": {
      "text/html": [
       "<div>\n",
       "<style scoped>\n",
       "    .dataframe tbody tr th:only-of-type {\n",
       "        vertical-align: middle;\n",
       "    }\n",
       "\n",
       "    .dataframe tbody tr th {\n",
       "        vertical-align: top;\n",
       "    }\n",
       "\n",
       "    .dataframe thead th {\n",
       "        text-align: right;\n",
       "    }\n",
       "</style>\n",
       "<table border=\"1\" class=\"dataframe\">\n",
       "  <thead>\n",
       "    <tr style=\"text-align: right;\">\n",
       "      <th></th>\n",
       "      <th>time_hour</th>\n",
       "      <th>offer_id</th>\n",
       "      <th>amount</th>\n",
       "      <th>reward</th>\n",
       "      <th>difficulty</th>\n",
       "      <th>total_durh</th>\n",
       "      <th>offer_type</th>\n",
       "      <th>gender</th>\n",
       "      <th>age_category</th>\n",
       "      <th>income_group</th>\n",
       "      <th>member_cat</th>\n",
       "    </tr>\n",
       "  </thead>\n",
       "  <tbody>\n",
       "    <tr>\n",
       "      <th>0</th>\n",
       "      <td>0</td>\n",
       "      <td>9</td>\n",
       "      <td>0</td>\n",
       "      <td>0</td>\n",
       "      <td>0.25</td>\n",
       "      <td>120</td>\n",
       "      <td>1</td>\n",
       "      <td>2.0</td>\n",
       "      <td>2</td>\n",
       "      <td>2</td>\n",
       "      <td>2.0</td>\n",
       "    </tr>\n",
       "    <tr>\n",
       "      <th>1</th>\n",
       "      <td>0</td>\n",
       "      <td>6</td>\n",
       "      <td>0</td>\n",
       "      <td>0</td>\n",
       "      <td>0.00</td>\n",
       "      <td>72</td>\n",
       "      <td>2</td>\n",
       "      <td>3.0</td>\n",
       "      <td>1</td>\n",
       "      <td>2</td>\n",
       "      <td>3.0</td>\n",
       "    </tr>\n",
       "    <tr>\n",
       "      <th>2</th>\n",
       "      <td>0</td>\n",
       "      <td>5</td>\n",
       "      <td>0</td>\n",
       "      <td>0</td>\n",
       "      <td>0.50</td>\n",
       "      <td>120</td>\n",
       "      <td>1</td>\n",
       "      <td>1.0</td>\n",
       "      <td>2</td>\n",
       "      <td>2</td>\n",
       "      <td>3.0</td>\n",
       "    </tr>\n",
       "    <tr>\n",
       "      <th>3</th>\n",
       "      <td>0</td>\n",
       "      <td>8</td>\n",
       "      <td>0</td>\n",
       "      <td>0</td>\n",
       "      <td>0.50</td>\n",
       "      <td>168</td>\n",
       "      <td>1</td>\n",
       "      <td>1.0</td>\n",
       "      <td>3</td>\n",
       "      <td>2</td>\n",
       "      <td>3.0</td>\n",
       "    </tr>\n",
       "    <tr>\n",
       "      <th>5</th>\n",
       "      <td>0</td>\n",
       "      <td>3</td>\n",
       "      <td>0</td>\n",
       "      <td>0</td>\n",
       "      <td>0.50</td>\n",
       "      <td>168</td>\n",
       "      <td>3</td>\n",
       "      <td>2.0</td>\n",
       "      <td>1</td>\n",
       "      <td>3</td>\n",
       "      <td>3.0</td>\n",
       "    </tr>\n",
       "    <tr>\n",
       "      <th>6</th>\n",
       "      <td>0</td>\n",
       "      <td>3</td>\n",
       "      <td>0</td>\n",
       "      <td>2</td>\n",
       "      <td>0.50</td>\n",
       "      <td>168</td>\n",
       "      <td>3</td>\n",
       "      <td>2.0</td>\n",
       "      <td>1</td>\n",
       "      <td>3</td>\n",
       "      <td>3.0</td>\n",
       "    </tr>\n",
       "    <tr>\n",
       "      <th>7</th>\n",
       "      <td>0</td>\n",
       "      <td>2</td>\n",
       "      <td>0</td>\n",
       "      <td>0</td>\n",
       "      <td>0.35</td>\n",
       "      <td>168</td>\n",
       "      <td>3</td>\n",
       "      <td>1.0</td>\n",
       "      <td>1</td>\n",
       "      <td>1</td>\n",
       "      <td>3.0</td>\n",
       "    </tr>\n",
       "    <tr>\n",
       "      <th>8</th>\n",
       "      <td>0</td>\n",
       "      <td>2</td>\n",
       "      <td>0</td>\n",
       "      <td>0</td>\n",
       "      <td>0.35</td>\n",
       "      <td>168</td>\n",
       "      <td>3</td>\n",
       "      <td>1.0</td>\n",
       "      <td>1</td>\n",
       "      <td>2</td>\n",
       "      <td>2.0</td>\n",
       "    </tr>\n",
       "    <tr>\n",
       "      <th>9</th>\n",
       "      <td>0</td>\n",
       "      <td>9</td>\n",
       "      <td>0</td>\n",
       "      <td>0</td>\n",
       "      <td>0.25</td>\n",
       "      <td>120</td>\n",
       "      <td>1</td>\n",
       "      <td>2.0</td>\n",
       "      <td>1</td>\n",
       "      <td>2</td>\n",
       "      <td>2.0</td>\n",
       "    </tr>\n",
       "    <tr>\n",
       "      <th>12</th>\n",
       "      <td>0</td>\n",
       "      <td>8</td>\n",
       "      <td>0</td>\n",
       "      <td>0</td>\n",
       "      <td>0.50</td>\n",
       "      <td>168</td>\n",
       "      <td>1</td>\n",
       "      <td>1.0</td>\n",
       "      <td>2</td>\n",
       "      <td>1</td>\n",
       "      <td>3.0</td>\n",
       "    </tr>\n",
       "    <tr>\n",
       "      <th>13</th>\n",
       "      <td>0</td>\n",
       "      <td>9</td>\n",
       "      <td>0</td>\n",
       "      <td>0</td>\n",
       "      <td>0.25</td>\n",
       "      <td>120</td>\n",
       "      <td>1</td>\n",
       "      <td>1.0</td>\n",
       "      <td>1</td>\n",
       "      <td>2</td>\n",
       "      <td>3.0</td>\n",
       "    </tr>\n",
       "    <tr>\n",
       "      <th>14</th>\n",
       "      <td>0</td>\n",
       "      <td>6</td>\n",
       "      <td>0</td>\n",
       "      <td>0</td>\n",
       "      <td>0.00</td>\n",
       "      <td>72</td>\n",
       "      <td>2</td>\n",
       "      <td>1.0</td>\n",
       "      <td>1</td>\n",
       "      <td>2</td>\n",
       "      <td>3.0</td>\n",
       "    </tr>\n",
       "    <tr>\n",
       "      <th>16</th>\n",
       "      <td>0</td>\n",
       "      <td>8</td>\n",
       "      <td>0</td>\n",
       "      <td>0</td>\n",
       "      <td>0.50</td>\n",
       "      <td>168</td>\n",
       "      <td>1</td>\n",
       "      <td>2.0</td>\n",
       "      <td>2</td>\n",
       "      <td>1</td>\n",
       "      <td>3.0</td>\n",
       "    </tr>\n",
       "    <tr>\n",
       "      <th>17</th>\n",
       "      <td>0</td>\n",
       "      <td>10</td>\n",
       "      <td>0</td>\n",
       "      <td>2</td>\n",
       "      <td>0.50</td>\n",
       "      <td>240</td>\n",
       "      <td>3</td>\n",
       "      <td>1.0</td>\n",
       "      <td>1</td>\n",
       "      <td>1</td>\n",
       "      <td>2.0</td>\n",
       "    </tr>\n",
       "    <tr>\n",
       "      <th>18</th>\n",
       "      <td>0</td>\n",
       "      <td>6</td>\n",
       "      <td>0</td>\n",
       "      <td>0</td>\n",
       "      <td>0.00</td>\n",
       "      <td>72</td>\n",
       "      <td>2</td>\n",
       "      <td>2.0</td>\n",
       "      <td>2</td>\n",
       "      <td>2</td>\n",
       "      <td>2.0</td>\n",
       "    </tr>\n",
       "    <tr>\n",
       "      <th>19</th>\n",
       "      <td>0</td>\n",
       "      <td>8</td>\n",
       "      <td>0</td>\n",
       "      <td>0</td>\n",
       "      <td>0.50</td>\n",
       "      <td>168</td>\n",
       "      <td>1</td>\n",
       "      <td>2.0</td>\n",
       "      <td>1</td>\n",
       "      <td>1</td>\n",
       "      <td>2.0</td>\n",
       "    </tr>\n",
       "    <tr>\n",
       "      <th>20</th>\n",
       "      <td>0</td>\n",
       "      <td>7</td>\n",
       "      <td>0</td>\n",
       "      <td>0</td>\n",
       "      <td>0.25</td>\n",
       "      <td>168</td>\n",
       "      <td>1</td>\n",
       "      <td>1.0</td>\n",
       "      <td>1</td>\n",
       "      <td>2</td>\n",
       "      <td>2.0</td>\n",
       "    </tr>\n",
       "    <tr>\n",
       "      <th>22</th>\n",
       "      <td>0</td>\n",
       "      <td>7</td>\n",
       "      <td>0</td>\n",
       "      <td>0</td>\n",
       "      <td>0.25</td>\n",
       "      <td>168</td>\n",
       "      <td>1</td>\n",
       "      <td>2.0</td>\n",
       "      <td>1</td>\n",
       "      <td>1</td>\n",
       "      <td>2.0</td>\n",
       "    </tr>\n",
       "    <tr>\n",
       "      <th>23</th>\n",
       "      <td>0</td>\n",
       "      <td>7</td>\n",
       "      <td>0</td>\n",
       "      <td>5</td>\n",
       "      <td>0.25</td>\n",
       "      <td>168</td>\n",
       "      <td>1</td>\n",
       "      <td>2.0</td>\n",
       "      <td>1</td>\n",
       "      <td>1</td>\n",
       "      <td>2.0</td>\n",
       "    </tr>\n",
       "    <tr>\n",
       "      <th>25</th>\n",
       "      <td>0</td>\n",
       "      <td>2</td>\n",
       "      <td>0</td>\n",
       "      <td>0</td>\n",
       "      <td>0.35</td>\n",
       "      <td>168</td>\n",
       "      <td>3</td>\n",
       "      <td>2.0</td>\n",
       "      <td>2</td>\n",
       "      <td>2</td>\n",
       "      <td>3.0</td>\n",
       "    </tr>\n",
       "  </tbody>\n",
       "</table>\n",
       "</div>"
      ],
      "text/plain": [
       "    time_hour  offer_id  amount  reward  difficulty  total_durh  offer_type  \\\n",
       "0           0         9       0       0        0.25         120           1   \n",
       "1           0         6       0       0        0.00          72           2   \n",
       "2           0         5       0       0        0.50         120           1   \n",
       "3           0         8       0       0        0.50         168           1   \n",
       "5           0         3       0       0        0.50         168           3   \n",
       "6           0         3       0       2        0.50         168           3   \n",
       "7           0         2       0       0        0.35         168           3   \n",
       "8           0         2       0       0        0.35         168           3   \n",
       "9           0         9       0       0        0.25         120           1   \n",
       "12          0         8       0       0        0.50         168           1   \n",
       "13          0         9       0       0        0.25         120           1   \n",
       "14          0         6       0       0        0.00          72           2   \n",
       "16          0         8       0       0        0.50         168           1   \n",
       "17          0        10       0       2        0.50         240           3   \n",
       "18          0         6       0       0        0.00          72           2   \n",
       "19          0         8       0       0        0.50         168           1   \n",
       "20          0         7       0       0        0.25         168           1   \n",
       "22          0         7       0       0        0.25         168           1   \n",
       "23          0         7       0       5        0.25         168           1   \n",
       "25          0         2       0       0        0.35         168           3   \n",
       "\n",
       "    gender  age_category  income_group  member_cat  \n",
       "0      2.0             2             2         2.0  \n",
       "1      3.0             1             2         3.0  \n",
       "2      1.0             2             2         3.0  \n",
       "3      1.0             3             2         3.0  \n",
       "5      2.0             1             3         3.0  \n",
       "6      2.0             1             3         3.0  \n",
       "7      1.0             1             1         3.0  \n",
       "8      1.0             1             2         2.0  \n",
       "9      2.0             1             2         2.0  \n",
       "12     1.0             2             1         3.0  \n",
       "13     1.0             1             2         3.0  \n",
       "14     1.0             1             2         3.0  \n",
       "16     2.0             2             1         3.0  \n",
       "17     1.0             1             1         2.0  \n",
       "18     2.0             2             2         2.0  \n",
       "19     2.0             1             1         2.0  \n",
       "20     1.0             1             2         2.0  \n",
       "22     2.0             1             1         2.0  \n",
       "23     2.0             1             1         2.0  \n",
       "25     2.0             2             2         3.0  "
      ]
     },
     "execution_count": 291,
     "metadata": {},
     "output_type": "execute_result"
    }
   ],
   "source": [
    "#Let us see the contents of X\n",
    "X.head(20)"
   ]
  },
  {
   "cell_type": "code",
   "execution_count": 292,
   "metadata": {
    "scrolled": false
   },
   "outputs": [
    {
     "data": {
      "text/plain": [
       "0    2\n",
       "1    2\n",
       "2    2\n",
       "3    2\n",
       "5    2\n",
       "Name: event, dtype: int64"
      ]
     },
     "execution_count": 292,
     "metadata": {},
     "output_type": "execute_result"
    }
   ],
   "source": [
    "#Let us see the contents of Y\n",
    "Y.head()"
   ]
  },
  {
   "cell_type": "code",
   "execution_count": 293,
   "metadata": {},
   "outputs": [
    {
     "name": "stdout",
     "output_type": "stream",
     "text": [
      "<class 'pandas.core.frame.DataFrame'>\n",
      "Int64Index: 76143 entries, 0 to 91303\n",
      "Data columns (total 11 columns):\n",
      "time_hour       76143 non-null int64\n",
      "offer_id        76143 non-null int64\n",
      "amount          76143 non-null int64\n",
      "reward          76143 non-null int64\n",
      "difficulty      76143 non-null float64\n",
      "total_durh      76143 non-null int64\n",
      "offer_type      76143 non-null int64\n",
      "gender          76143 non-null float64\n",
      "age_category    76143 non-null int64\n",
      "income_group    76143 non-null int64\n",
      "member_cat      76143 non-null float64\n",
      "dtypes: float64(3), int64(8)\n",
      "memory usage: 7.0 MB\n"
     ]
    }
   ],
   "source": [
    "X.info()"
   ]
  },
  {
   "cell_type": "code",
   "execution_count": 294,
   "metadata": {
    "scrolled": true
   },
   "outputs": [
    {
     "data": {
      "text/html": [
       "<div>\n",
       "<style scoped>\n",
       "    .dataframe tbody tr th:only-of-type {\n",
       "        vertical-align: middle;\n",
       "    }\n",
       "\n",
       "    .dataframe tbody tr th {\n",
       "        vertical-align: top;\n",
       "    }\n",
       "\n",
       "    .dataframe thead th {\n",
       "        text-align: right;\n",
       "    }\n",
       "</style>\n",
       "<table border=\"1\" class=\"dataframe\">\n",
       "  <thead>\n",
       "    <tr style=\"text-align: right;\">\n",
       "      <th></th>\n",
       "      <th>time_hour</th>\n",
       "      <th>offer_id</th>\n",
       "      <th>amount</th>\n",
       "      <th>reward</th>\n",
       "      <th>difficulty</th>\n",
       "      <th>total_durh</th>\n",
       "      <th>offer_type</th>\n",
       "      <th>gender</th>\n",
       "      <th>age_category</th>\n",
       "      <th>income_group</th>\n",
       "      <th>member_cat</th>\n",
       "    </tr>\n",
       "  </thead>\n",
       "  <tbody>\n",
       "    <tr>\n",
       "      <th>0</th>\n",
       "      <td>0.0</td>\n",
       "      <td>9</td>\n",
       "      <td>0.0</td>\n",
       "      <td>0.0</td>\n",
       "      <td>0.25</td>\n",
       "      <td>0.285714</td>\n",
       "      <td>1</td>\n",
       "      <td>2.0</td>\n",
       "      <td>2</td>\n",
       "      <td>2</td>\n",
       "      <td>2.0</td>\n",
       "    </tr>\n",
       "    <tr>\n",
       "      <th>1</th>\n",
       "      <td>0.0</td>\n",
       "      <td>6</td>\n",
       "      <td>0.0</td>\n",
       "      <td>0.0</td>\n",
       "      <td>0.00</td>\n",
       "      <td>0.000000</td>\n",
       "      <td>2</td>\n",
       "      <td>3.0</td>\n",
       "      <td>1</td>\n",
       "      <td>2</td>\n",
       "      <td>3.0</td>\n",
       "    </tr>\n",
       "    <tr>\n",
       "      <th>2</th>\n",
       "      <td>0.0</td>\n",
       "      <td>5</td>\n",
       "      <td>0.0</td>\n",
       "      <td>0.0</td>\n",
       "      <td>0.50</td>\n",
       "      <td>0.285714</td>\n",
       "      <td>1</td>\n",
       "      <td>1.0</td>\n",
       "      <td>2</td>\n",
       "      <td>2</td>\n",
       "      <td>3.0</td>\n",
       "    </tr>\n",
       "    <tr>\n",
       "      <th>3</th>\n",
       "      <td>0.0</td>\n",
       "      <td>8</td>\n",
       "      <td>0.0</td>\n",
       "      <td>0.0</td>\n",
       "      <td>0.50</td>\n",
       "      <td>0.571429</td>\n",
       "      <td>1</td>\n",
       "      <td>1.0</td>\n",
       "      <td>3</td>\n",
       "      <td>2</td>\n",
       "      <td>3.0</td>\n",
       "    </tr>\n",
       "    <tr>\n",
       "      <th>5</th>\n",
       "      <td>0.0</td>\n",
       "      <td>3</td>\n",
       "      <td>0.0</td>\n",
       "      <td>0.0</td>\n",
       "      <td>0.50</td>\n",
       "      <td>0.571429</td>\n",
       "      <td>3</td>\n",
       "      <td>2.0</td>\n",
       "      <td>1</td>\n",
       "      <td>3</td>\n",
       "      <td>3.0</td>\n",
       "    </tr>\n",
       "  </tbody>\n",
       "</table>\n",
       "</div>"
      ],
      "text/plain": [
       "   time_hour  offer_id  amount  reward  difficulty  total_durh  offer_type  \\\n",
       "0        0.0         9     0.0     0.0        0.25    0.285714           1   \n",
       "1        0.0         6     0.0     0.0        0.00    0.000000           2   \n",
       "2        0.0         5     0.0     0.0        0.50    0.285714           1   \n",
       "3        0.0         8     0.0     0.0        0.50    0.571429           1   \n",
       "5        0.0         3     0.0     0.0        0.50    0.571429           3   \n",
       "\n",
       "   gender  age_category  income_group  member_cat  \n",
       "0     2.0             2             2         2.0  \n",
       "1     3.0             1             2         3.0  \n",
       "2     1.0             2             2         3.0  \n",
       "3     1.0             3             2         3.0  \n",
       "5     2.0             1             3         3.0  "
      ]
     },
     "execution_count": 294,
     "metadata": {},
     "output_type": "execute_result"
    }
   ],
   "source": [
    "# Let us make some numerical values normal \n",
    "scaler = MinMaxScaler()\n",
    "features = ['time_hour', 'amount', 'reward', 'total_durh']\n",
    "X_scaled = X.copy()\n",
    "X_scaled[features] = scaler.fit_transform(X_scaled[features])\n",
    "X_scaled.head()"
   ]
  },
  {
   "cell_type": "code",
   "execution_count": 295,
   "metadata": {},
   "outputs": [
    {
     "name": "stdout",
     "output_type": "stream",
     "text": [
      "<class 'pandas.core.frame.DataFrame'>\n",
      "Int64Index: 76143 entries, 0 to 91303\n",
      "Data columns (total 11 columns):\n",
      "time_hour       76143 non-null int64\n",
      "offer_id        76143 non-null int64\n",
      "amount          76143 non-null int64\n",
      "reward          76143 non-null int64\n",
      "difficulty      76143 non-null float64\n",
      "total_durh      76143 non-null int64\n",
      "offer_type      76143 non-null int64\n",
      "gender          76143 non-null float64\n",
      "age_category    76143 non-null int64\n",
      "income_group    76143 non-null int64\n",
      "member_cat      76143 non-null float64\n",
      "dtypes: float64(3), int64(8)\n",
      "memory usage: 7.0 MB\n"
     ]
    }
   ],
   "source": [
    "X.info()"
   ]
  },
  {
   "cell_type": "code",
   "execution_count": 296,
   "metadata": {},
   "outputs": [],
   "source": [
    "# Let us make training and test sets\n",
    "X_train, X_test, y_train, y_test = train_test_split(X, Y, random_state=42)\n"
   ]
  },
  {
   "cell_type": "code",
   "execution_count": 297,
   "metadata": {},
   "outputs": [],
   "source": [
    "#The above model is selected to get accuracy. It will make us to get a good prediction ."
   ]
  },
  {
   "cell_type": "code",
   "execution_count": 298,
   "metadata": {},
   "outputs": [],
   "source": [
    "# Let us define a function to find out the accuracy.\n",
    "def predict_score(model):\n",
    "    pred = model.predict(X_test)\n",
    "    \n",
    "    \n",
    "    errors = abs(pred - y_test)\n",
    "    \n",
    "    # Let us see the error %\n",
    "    mean_APE = 100 * (errors / y_test)\n",
    "    accuracy = 100 - np.mean(mean_APE)\n",
    "    \n",
    "    return round(accuracy, 4)"
   ]
  },
  {
   "cell_type": "code",
   "execution_count": 299,
   "metadata": {},
   "outputs": [],
   "source": [
    "#1. decison Tree classification "
   ]
  },
  {
   "cell_type": "code",
   "execution_count": 300,
   "metadata": {},
   "outputs": [
    {
     "name": "stdout",
     "output_type": "stream",
     "text": [
      "correctness of the Decison Tree Classifier: 100.0%.\n",
      "Prediction Accuracy: 100.0%\n"
     ]
    }
   ],
   "source": [
    "dt = DecisionTreeClassifier()\n",
    "\n",
    "dt.fit(X_train, y_train)\n",
    "print(f'correctness of the Decison Tree Classifier: {round(dt.score(X_train, y_train)*100,2)}%.')\n",
    "print(f'Prediction Accuracy: {predict_score(dt)}%')"
   ]
  },
  {
   "cell_type": "code",
   "execution_count": 301,
   "metadata": {},
   "outputs": [],
   "source": [
    "#2.Support Vector Machine"
   ]
  },
  {
   "cell_type": "code",
   "execution_count": 302,
   "metadata": {},
   "outputs": [
    {
     "name": "stdout",
     "output_type": "stream",
     "text": [
      "Correctness of SVM classifier : 99.99%.\n",
      "Prediction Accuracy: 99.9842%\n"
     ]
    }
   ],
   "source": [
    "svm = SVC(gamma = 'auto')\n",
    "\n",
    "svm.fit(X_train, y_train)\n",
    "print(f'Correctness of SVM classifier : {round(svm.score(X_train, y_train)*100,2)}%.')\n",
    "print(f'Prediction Accuracy: {predict_score(svm)}%')"
   ]
  },
  {
   "cell_type": "code",
   "execution_count": 303,
   "metadata": {},
   "outputs": [],
   "source": [
    "#3. Naive Bayes classification "
   ]
  },
  {
   "cell_type": "code",
   "execution_count": 304,
   "metadata": {},
   "outputs": [
    {
     "name": "stdout",
     "output_type": "stream",
     "text": [
      "Correctness of SVM classifier: 100.0%.\n",
      "Prediction Accuracy: 100.0%\n"
     ]
    }
   ],
   "source": [
    "gnb = GaussianNB() \n",
    "gnb.fit(X_train, y_train) \n",
    "print(f'Correctness of SVM classifier: {round(gnb.score(X_train, y_train)*100,2)}%.')\n",
    "print(f'Prediction Accuracy: {predict_score(gnb)}%')"
   ]
  },
  {
   "cell_type": "code",
   "execution_count": 305,
   "metadata": {},
   "outputs": [],
   "source": [
    "#4.Random Forest regression "
   ]
  },
  {
   "cell_type": "code",
   "execution_count": 306,
   "metadata": {},
   "outputs": [
    {
     "name": "stdout",
     "output_type": "stream",
     "text": [
      "Correctness of SVM classifier: 100.0%.\n",
      "Prediction Accuracy: 100.0%\n"
     ]
    }
   ],
   "source": [
    "rf = RandomForestRegressor(n_estimators = 100, random_state = 42)\n",
    "\n",
    "rf.fit(X_train, y_train)\n",
    "print(f'Correctness of SVM classifier: {round(rf.score(X_train, y_train)*100,2)}%.')\n",
    "print(f'Prediction Accuracy: {predict_score(rf)}%')"
   ]
  },
  {
   "cell_type": "code",
   "execution_count": 307,
   "metadata": {},
   "outputs": [],
   "source": [
    "#5. K-Nearest Neighbors"
   ]
  },
  {
   "cell_type": "code",
   "execution_count": 308,
   "metadata": {},
   "outputs": [
    {
     "name": "stdout",
     "output_type": "stream",
     "text": [
      "Correctness of  K-NN classifier : 99.88%.\n",
      "Prediction Accuracy: 99.8503%\n"
     ]
    }
   ],
   "source": [
    "knn = KNeighborsClassifier()\n",
    "\n",
    "knn.fit(X_train, y_train)\n",
    "print(f'Correctness of  K-NN classifier : {round(knn.score(X_train, y_train)*100,2)}%.')\n",
    "print(f'Prediction Accuracy: {predict_score(knn)}%')"
   ]
  },
  {
   "cell_type": "code",
   "execution_count": 309,
   "metadata": {},
   "outputs": [],
   "source": [
    "#6. LogisticRegression"
   ]
  },
  {
   "cell_type": "code",
   "execution_count": 310,
   "metadata": {},
   "outputs": [
    {
     "name": "stdout",
     "output_type": "stream",
     "text": [
      "Correctness of Logistic regression classifier : 100.0%.\n",
      "Prediction Accuracy: 100.0%\n"
     ]
    }
   ],
   "source": [
    "logreg = LogisticRegression()\n",
    "\n",
    "logreg.fit(X_train, y_train)\n",
    "print(f'Correctness of Logistic regression classifier : {round(logreg.score(X_train, y_train)*100,2)}%.')\n",
    "print(f'Prediction Accuracy: {predict_score(logreg)}%')"
   ]
  },
  {
   "cell_type": "code",
   "execution_count": 311,
   "metadata": {},
   "outputs": [],
   "source": [
    "#Model Evaluation"
   ]
  },
  {
   "cell_type": "code",
   "execution_count": 314,
   "metadata": {},
   "outputs": [],
   "source": [
    "# Let us create the varaibles for results table\n",
    "models = [svm, dt, gnb, knn, rf, logreg]\n",
    "model_varibles = [type(n).__name__ for n in models]\n",
    "training_accuracy = [x.score(X_train, y_train)*100 for x in models]\n",
    "prediction_accuracy = [predict_score(y) for y in models]"
   ]
  },
  {
   "cell_type": "code",
   "execution_count": 316,
   "metadata": {},
   "outputs": [],
   "source": [
    "# Let us strecture the table to see the results.\n",
    "results_table = [training_accuracy, predection_accuracy]\n",
    "results_table_df = pd.DataFrame(results_table, columns = model_varibles, index=['Training Accuracy', 'Prediction Accuracy'])"
   ]
  },
  {
   "cell_type": "code",
   "execution_count": 317,
   "metadata": {},
   "outputs": [
    {
     "data": {
      "text/html": [
       "<div>\n",
       "<style scoped>\n",
       "    .dataframe tbody tr th:only-of-type {\n",
       "        vertical-align: middle;\n",
       "    }\n",
       "\n",
       "    .dataframe tbody tr th {\n",
       "        vertical-align: top;\n",
       "    }\n",
       "\n",
       "    .dataframe thead th {\n",
       "        text-align: right;\n",
       "    }\n",
       "</style>\n",
       "<table border=\"1\" class=\"dataframe\">\n",
       "  <thead>\n",
       "    <tr style=\"text-align: right;\">\n",
       "      <th></th>\n",
       "      <th>SVC</th>\n",
       "      <th>DecisionTreeClassifier</th>\n",
       "      <th>GaussianNB</th>\n",
       "      <th>KNeighborsClassifier</th>\n",
       "      <th>RandomForestRegressor</th>\n",
       "      <th>LogisticRegression</th>\n",
       "    </tr>\n",
       "  </thead>\n",
       "  <tbody>\n",
       "    <tr>\n",
       "      <th>Training Accuracy</th>\n",
       "      <td>99.989493</td>\n",
       "      <td>100.0</td>\n",
       "      <td>100.0</td>\n",
       "      <td>99.882676</td>\n",
       "      <td>100.0</td>\n",
       "      <td>100.0</td>\n",
       "    </tr>\n",
       "    <tr>\n",
       "      <th>Prediction Accuracy</th>\n",
       "      <td>99.984200</td>\n",
       "      <td>100.0</td>\n",
       "      <td>100.0</td>\n",
       "      <td>99.850300</td>\n",
       "      <td>100.0</td>\n",
       "      <td>100.0</td>\n",
       "    </tr>\n",
       "  </tbody>\n",
       "</table>\n",
       "</div>"
      ],
      "text/plain": [
       "                           SVC  DecisionTreeClassifier  GaussianNB  \\\n",
       "Training Accuracy    99.989493                   100.0       100.0   \n",
       "Prediction Accuracy  99.984200                   100.0       100.0   \n",
       "\n",
       "                     KNeighborsClassifier  RandomForestRegressor  \\\n",
       "Training Accuracy               99.882676                  100.0   \n",
       "Prediction Accuracy             99.850300                  100.0   \n",
       "\n",
       "                     LogisticRegression  \n",
       "Training Accuracy                 100.0  \n",
       "Prediction Accuracy               100.0  "
      ]
     },
     "execution_count": 317,
     "metadata": {},
     "output_type": "execute_result"
    }
   ],
   "source": [
    "# let us see the contents of the results table\n",
    "results_table_df"
   ]
  },
  {
   "cell_type": "code",
   "execution_count": 318,
   "metadata": {},
   "outputs": [],
   "source": [
    "#From the above table, we can see that 100% accuracy or correctness can be achived using the training and testing samples .\n",
    "#We used 4 out of 6 models.I chose the lower accuracy model from KNeighborsClassifier, where I got 99.88%. \n",
    "#This was used to check if the customer viewed the offer of he or she completed too."
   ]
  },
  {
   "cell_type": "code",
   "execution_count": 319,
   "metadata": {},
   "outputs": [],
   "source": [
    "#Refining the Model."
   ]
  },
  {
   "cell_type": "code",
   "execution_count": 321,
   "metadata": {},
   "outputs": [],
   "source": [
    "#But since KNeighborsClassifier model is showing a high score, improve attempts may lead us to overfitting. \n",
    "#Hence I did not go further with any improvement atempts."
   ]
  },
  {
   "cell_type": "code",
   "execution_count": 322,
   "metadata": {},
   "outputs": [],
   "source": [
    "#Summary and conclusion "
   ]
  },
  {
   "cell_type": "code",
   "execution_count": 323,
   "metadata": {},
   "outputs": [],
   "source": [
    "# I used the datasets of the Starbucks to check if the offers provided were only viewed or they did complete them, that is,\n",
    "#they really used the offer to make a purchase .\n",
    "\n",
    "# I fully went thorugh the datasets to understand them and see how to use them to check for the above analysis..\n",
    "#I used th ETL process i learnt in SQl to clean the datasets for duplicates, null values and got them ready for analysis.\n",
    "\n",
    "# I created  latent features to improve the datasets,as follows.\n",
    "# I created a new colum age_category from age columm and converted the values to numerical ,\n",
    "# like teen-1, young-2,adult-3 and old-4.\n",
    "\n",
    "# For income_group , I segregated into three numericall values , average: 1, above-average: 2, high: 3, from column-income\n",
    "\n",
    "#For the member-cat, derived from became_memeber_on, i made numerical values, like new: 1, regular: 2, loyal: 3\n",
    "\n",
    "#The gender category has three values- Male, Female and others.\n",
    "\n",
    "# There are 2175 missing values. Male - 8484, Female-6129 and other - 212.\n",
    "\n",
    "# The attractive offer is BOGO-first-for all age groups,  next is Disount offers. \n",
    "# Last is -informational offers.\n",
    "\n",
    "# Mostly ,  customers with more than 90,000 income range are females and between 30,000 and 60,000 are mostly males.\n",
    "\n",
    "#For Females, offers completed: 14890, 74.87% of total offers viewed. offers viewed numbers: 19889.\n",
    "#For Males, offer completed: 14791, 58.25% of total offers viewed.offer viewed numbers : 25394.\n",
    "\n",
    "# we can also see that both Male and Female customers are spending almost equal time and \n",
    "#they take about 16 to 17 days to complete the offer. \n",
    "\n",
    "#we can see that the maximum of number of customers Stabrbucks got was in 2017 and the percentatge of that year was 40%\n",
    "#The number of customers in 2017 was 30938.\n",
    "\n",
    "#we can see that Female customers viewed 75% and Male , 58%. We can definitely say that Female customers are more convinced and \n",
    "#more attracted by promotions.\n"
   ]
  },
  {
   "cell_type": "code",
   "execution_count": 324,
   "metadata": {},
   "outputs": [],
   "source": [
    "#Experience and improvement"
   ]
  },
  {
   "cell_type": "code",
   "execution_count": 325,
   "metadata": {},
   "outputs": [],
   "source": [
    "# For this project, I could use my ETL , SQL and Python skills and improve much .\n",
    "#I would thank Udacity and Starbucks for having given me, such a good opportunity ."
   ]
  }
 ],
 "metadata": {
  "kernelspec": {
   "display_name": "Python 3",
   "language": "python",
   "name": "python3"
  },
  "language_info": {
   "codemirror_mode": {
    "name": "ipython",
    "version": 3
   },
   "file_extension": ".py",
   "mimetype": "text/x-python",
   "name": "python",
   "nbconvert_exporter": "python",
   "pygments_lexer": "ipython3",
   "version": "3.6.3"
  }
 },
 "nbformat": 4,
 "nbformat_minor": 2
}
